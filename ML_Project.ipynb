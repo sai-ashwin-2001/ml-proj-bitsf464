{
  "nbformat": 4,
  "nbformat_minor": 0,
  "metadata": {
    "colab": {
      "name": "ML_Project.ipynb",
      "provenance": [],
      "collapsed_sections": [
        "FCAFg04uHZFB",
        "Xw-K63tTHPz6",
        "477atsmfL8A1",
        "3OLyRBMVM3Gi",
        "mTmFL_QdpxbL",
        "7tYGlnH-RUr9",
        "SPE7jwA9RtVd"
      ],
      "toc_visible": true
    },
    "kernelspec": {
      "name": "python3",
      "display_name": "Python 3"
    },
    "language_info": {
      "name": "python"
    }
  },
  "cells": [
    {
      "cell_type": "markdown",
      "source": [
        "#BITS F464 Machine Learning- Course Project\n",
        "\n",
        "Group 3:\n",
        "\n",
        "Sai Ashwin Kumar C - 2019A4PS0628H\n",
        "\n",
        "S Danush - 2019A1PS1460H\n",
        "\n",
        "Vishal Kumar NK - 2019A4PS0693H\n",
        "\n",
        "Shivani Thirunagari - 2019A4PS0754H\n",
        "\n",
        "Hari Krishna Dhamodaran - 2019A4PS1263H\n",
        "\n",
        "R Sarvesh - 2019A1PS1442H\n",
        "\n"
      ],
      "metadata": {
        "id": "-hODOvobvy3H"
      }
    },
    {
      "cell_type": "markdown",
      "source": [
        "Loading the data"
      ],
      "metadata": {
        "id": "72vAaVImB5xs"
      }
    },
    {
      "cell_type": "code",
      "source": [
        "from google.colab import drive\n",
        "drive.mount(\"/content/gdrive\")"
      ],
      "metadata": {
        "id": "4dt5v_HFh1R0",
        "colab": {
          "base_uri": "https://localhost:8080/"
        },
        "outputId": "921fe43f-7b7e-4153-b1d8-fbdf95d79600"
      },
      "execution_count": null,
      "outputs": [
        {
          "output_type": "stream",
          "name": "stdout",
          "text": [
            "Drive already mounted at /content/gdrive; to attempt to forcibly remount, call drive.mount(\"/content/gdrive\", force_remount=True).\n"
          ]
        }
      ]
    },
    {
      "cell_type": "code",
      "source": [
        "%cd /content/gdrive/My Drive/datasets/"
      ],
      "metadata": {
        "colab": {
          "base_uri": "https://localhost:8080/"
        },
        "outputId": "763a469d-2041-4e05-fc1c-65b5f4651f6a",
        "id": "sLvqZF45h1R4"
      },
      "execution_count": null,
      "outputs": [
        {
          "output_type": "stream",
          "name": "stdout",
          "text": [
            "/content/gdrive/My Drive/datasets\n"
          ]
        }
      ]
    },
    {
      "cell_type": "code",
      "source": [
        "import numpy as np\n",
        "import pandas as pd\n",
        "#import statistics\n",
        "df2 = pd.read_csv('SVP_data.csv')"
      ],
      "metadata": {
        "id": "E30Jx7w6LKhB"
      },
      "execution_count": null,
      "outputs": []
    },
    {
      "cell_type": "code",
      "source": [
        "df2"
      ],
      "metadata": {
        "colab": {
          "base_uri": "https://localhost:8080/",
          "height": 423
        },
        "id": "EU7GXDsRLrni",
        "outputId": "c67b1834-d389-461a-ea71-459321d35645"
      },
      "execution_count": null,
      "outputs": [
        {
          "output_type": "execute_result",
          "data": {
            "text/plain": [
              "     Temperature( C)  Liquid Phase Mass Density  Sat Vap Pressure\n",
              "0             -162.0                 424.596182        100.038004\n",
              "1             -161.8                 424.299933        101.692902\n",
              "2             -161.6                 424.003380        103.368892\n",
              "3             -161.4                 423.706521        105.066151\n",
              "4             -161.2                 423.409355        106.784860\n",
              "..               ...                        ...               ...\n",
              "298           -150.8                 425.636913        225.865259\n",
              "299           -150.6                 425.330609        228.877954\n",
              "300           -150.4                 425.023957        231.920857\n",
              "301           -150.2                 424.716954        234.994154\n",
              "302           -150.0                 424.409599        238.098036\n",
              "\n",
              "[303 rows x 3 columns]"
            ],
            "text/html": [
              "\n",
              "  <div id=\"df-a1e429d4-6dd8-412f-9fe3-1a2120dab8ea\">\n",
              "    <div class=\"colab-df-container\">\n",
              "      <div>\n",
              "<style scoped>\n",
              "    .dataframe tbody tr th:only-of-type {\n",
              "        vertical-align: middle;\n",
              "    }\n",
              "\n",
              "    .dataframe tbody tr th {\n",
              "        vertical-align: top;\n",
              "    }\n",
              "\n",
              "    .dataframe thead th {\n",
              "        text-align: right;\n",
              "    }\n",
              "</style>\n",
              "<table border=\"1\" class=\"dataframe\">\n",
              "  <thead>\n",
              "    <tr style=\"text-align: right;\">\n",
              "      <th></th>\n",
              "      <th>Temperature( C)</th>\n",
              "      <th>Liquid Phase Mass Density</th>\n",
              "      <th>Sat Vap Pressure</th>\n",
              "    </tr>\n",
              "  </thead>\n",
              "  <tbody>\n",
              "    <tr>\n",
              "      <th>0</th>\n",
              "      <td>-162.0</td>\n",
              "      <td>424.596182</td>\n",
              "      <td>100.038004</td>\n",
              "    </tr>\n",
              "    <tr>\n",
              "      <th>1</th>\n",
              "      <td>-161.8</td>\n",
              "      <td>424.299933</td>\n",
              "      <td>101.692902</td>\n",
              "    </tr>\n",
              "    <tr>\n",
              "      <th>2</th>\n",
              "      <td>-161.6</td>\n",
              "      <td>424.003380</td>\n",
              "      <td>103.368892</td>\n",
              "    </tr>\n",
              "    <tr>\n",
              "      <th>3</th>\n",
              "      <td>-161.4</td>\n",
              "      <td>423.706521</td>\n",
              "      <td>105.066151</td>\n",
              "    </tr>\n",
              "    <tr>\n",
              "      <th>4</th>\n",
              "      <td>-161.2</td>\n",
              "      <td>423.409355</td>\n",
              "      <td>106.784860</td>\n",
              "    </tr>\n",
              "    <tr>\n",
              "      <th>...</th>\n",
              "      <td>...</td>\n",
              "      <td>...</td>\n",
              "      <td>...</td>\n",
              "    </tr>\n",
              "    <tr>\n",
              "      <th>298</th>\n",
              "      <td>-150.8</td>\n",
              "      <td>425.636913</td>\n",
              "      <td>225.865259</td>\n",
              "    </tr>\n",
              "    <tr>\n",
              "      <th>299</th>\n",
              "      <td>-150.6</td>\n",
              "      <td>425.330609</td>\n",
              "      <td>228.877954</td>\n",
              "    </tr>\n",
              "    <tr>\n",
              "      <th>300</th>\n",
              "      <td>-150.4</td>\n",
              "      <td>425.023957</td>\n",
              "      <td>231.920857</td>\n",
              "    </tr>\n",
              "    <tr>\n",
              "      <th>301</th>\n",
              "      <td>-150.2</td>\n",
              "      <td>424.716954</td>\n",
              "      <td>234.994154</td>\n",
              "    </tr>\n",
              "    <tr>\n",
              "      <th>302</th>\n",
              "      <td>-150.0</td>\n",
              "      <td>424.409599</td>\n",
              "      <td>238.098036</td>\n",
              "    </tr>\n",
              "  </tbody>\n",
              "</table>\n",
              "<p>303 rows × 3 columns</p>\n",
              "</div>\n",
              "      <button class=\"colab-df-convert\" onclick=\"convertToInteractive('df-a1e429d4-6dd8-412f-9fe3-1a2120dab8ea')\"\n",
              "              title=\"Convert this dataframe to an interactive table.\"\n",
              "              style=\"display:none;\">\n",
              "        \n",
              "  <svg xmlns=\"http://www.w3.org/2000/svg\" height=\"24px\"viewBox=\"0 0 24 24\"\n",
              "       width=\"24px\">\n",
              "    <path d=\"M0 0h24v24H0V0z\" fill=\"none\"/>\n",
              "    <path d=\"M18.56 5.44l.94 2.06.94-2.06 2.06-.94-2.06-.94-.94-2.06-.94 2.06-2.06.94zm-11 1L8.5 8.5l.94-2.06 2.06-.94-2.06-.94L8.5 2.5l-.94 2.06-2.06.94zm10 10l.94 2.06.94-2.06 2.06-.94-2.06-.94-.94-2.06-.94 2.06-2.06.94z\"/><path d=\"M17.41 7.96l-1.37-1.37c-.4-.4-.92-.59-1.43-.59-.52 0-1.04.2-1.43.59L10.3 9.45l-7.72 7.72c-.78.78-.78 2.05 0 2.83L4 21.41c.39.39.9.59 1.41.59.51 0 1.02-.2 1.41-.59l7.78-7.78 2.81-2.81c.8-.78.8-2.07 0-2.86zM5.41 20L4 18.59l7.72-7.72 1.47 1.35L5.41 20z\"/>\n",
              "  </svg>\n",
              "      </button>\n",
              "      \n",
              "  <style>\n",
              "    .colab-df-container {\n",
              "      display:flex;\n",
              "      flex-wrap:wrap;\n",
              "      gap: 12px;\n",
              "    }\n",
              "\n",
              "    .colab-df-convert {\n",
              "      background-color: #E8F0FE;\n",
              "      border: none;\n",
              "      border-radius: 50%;\n",
              "      cursor: pointer;\n",
              "      display: none;\n",
              "      fill: #1967D2;\n",
              "      height: 32px;\n",
              "      padding: 0 0 0 0;\n",
              "      width: 32px;\n",
              "    }\n",
              "\n",
              "    .colab-df-convert:hover {\n",
              "      background-color: #E2EBFA;\n",
              "      box-shadow: 0px 1px 2px rgba(60, 64, 67, 0.3), 0px 1px 3px 1px rgba(60, 64, 67, 0.15);\n",
              "      fill: #174EA6;\n",
              "    }\n",
              "\n",
              "    [theme=dark] .colab-df-convert {\n",
              "      background-color: #3B4455;\n",
              "      fill: #D2E3FC;\n",
              "    }\n",
              "\n",
              "    [theme=dark] .colab-df-convert:hover {\n",
              "      background-color: #434B5C;\n",
              "      box-shadow: 0px 1px 3px 1px rgba(0, 0, 0, 0.15);\n",
              "      filter: drop-shadow(0px 1px 2px rgba(0, 0, 0, 0.3));\n",
              "      fill: #FFFFFF;\n",
              "    }\n",
              "  </style>\n",
              "\n",
              "      <script>\n",
              "        const buttonEl =\n",
              "          document.querySelector('#df-a1e429d4-6dd8-412f-9fe3-1a2120dab8ea button.colab-df-convert');\n",
              "        buttonEl.style.display =\n",
              "          google.colab.kernel.accessAllowed ? 'block' : 'none';\n",
              "\n",
              "        async function convertToInteractive(key) {\n",
              "          const element = document.querySelector('#df-a1e429d4-6dd8-412f-9fe3-1a2120dab8ea');\n",
              "          const dataTable =\n",
              "            await google.colab.kernel.invokeFunction('convertToInteractive',\n",
              "                                                     [key], {});\n",
              "          if (!dataTable) return;\n",
              "\n",
              "          const docLinkHtml = 'Like what you see? Visit the ' +\n",
              "            '<a target=\"_blank\" href=https://colab.research.google.com/notebooks/data_table.ipynb>data table notebook</a>'\n",
              "            + ' to learn more about interactive tables.';\n",
              "          element.innerHTML = '';\n",
              "          dataTable['output_type'] = 'display_data';\n",
              "          await google.colab.output.renderOutput(dataTable, element);\n",
              "          const docLink = document.createElement('div');\n",
              "          docLink.innerHTML = docLinkHtml;\n",
              "          element.appendChild(docLink);\n",
              "        }\n",
              "      </script>\n",
              "    </div>\n",
              "  </div>\n",
              "  "
            ]
          },
          "metadata": {},
          "execution_count": 71
        }
      ]
    },
    {
      "cell_type": "code",
      "source": [
        "import io\n",
        "import math\n",
        "import numpy as np\n",
        "import pandas as pd \n",
        "import matplotlib.pyplot as plt\n",
        "from sklearn.model_selection import train_test_split"
      ],
      "metadata": {
        "id": "3UzLL5VArjvZ"
      },
      "execution_count": null,
      "outputs": []
    },
    {
      "cell_type": "code",
      "metadata": {
        "id": "fSoh6SeoOxnN"
      },
      "source": [
        "X = df2.iloc[:, :-1].values\n",
        "Y = df2.iloc[:, -1].values\n",
        "m = X.shape[0]\n",
        "X = (X - X.mean(axis=0))/(X.std(axis=0))\n",
        "ones = np.ones((m,1))\n",
        "X =np.concatenate((ones,X),axis=1)\n",
        "#print(X)"
      ],
      "execution_count": null,
      "outputs": []
    },
    {
      "cell_type": "code",
      "metadata": {
        "id": "wBYVsdrpO0wF"
      },
      "source": [
        "x_train, x_test, y_train, y_test = train_test_split(X,Y, train_size=0.7, random_state =26)\n",
        "x_valid, x_test, y_valid, y_test = train_test_split(x_test,y_test, test_size=0.33, random_state =25)"
      ],
      "execution_count": null,
      "outputs": []
    },
    {
      "cell_type": "code",
      "metadata": {
        "id": "5QnEaLX4TvoX"
      },
      "source": [
        "def column(matrix, i):\n",
        "    return [row[i] for row in matrix]"
      ],
      "execution_count": null,
      "outputs": []
    },
    {
      "cell_type": "markdown",
      "source": [
        "#L2-Norm (Ridge) Regression"
      ],
      "metadata": {
        "id": "FCAFg04uHZFB"
      }
    },
    {
      "cell_type": "code",
      "source": [
        "x_train, x_test, y_train, y_test = train_test_split(X,Y, train_size=0.7, random_state =26)\n",
        "x_valid, x_test, y_valid, y_test = train_test_split(x_test,y_test, test_size=0.33, random_state =25)"
      ],
      "metadata": {
        "id": "-6mgcCdwpxb3"
      },
      "execution_count": null,
      "outputs": []
    },
    {
      "cell_type": "markdown",
      "metadata": {
        "id": "9xHwtdfH5dmg"
      },
      "source": [
        "Finding optimal hyperparameters using grid search"
      ]
    },
    {
      "cell_type": "code",
      "metadata": {
        "id": "Hn3861po5ri6"
      },
      "source": [
        "def l2_vec(x,y,xv,yv,C):\n",
        "  n = x.shape[1]\n",
        "  I = np.ones((n,n))\n",
        "  mul = np.dot(x.T,y)\n",
        "  pinv = np.dot(x.T,x)+C*I\n",
        "  w = np.dot(np.linalg.inv(pinv),mul)\n",
        "  #h = np.dot(w.T,x)\n",
        "  m = xv.shape[0]\n",
        "  sqr_error = 0\n",
        "  for i in range(m):\n",
        "    sqr_error += (yv[i]- np.dot(w.T,xv[i]))**2\n",
        "  mse = sqr_error/m\n",
        "  return mse"
      ],
      "execution_count": null,
      "outputs": []
    },
    {
      "cell_type": "code",
      "source": [
        "def l2_bgd(x,y,alpha,c):\n",
        "  iter =100\n",
        "  x = np.array(x)\n",
        "  n = x.shape[1]\n",
        "  wt = np.ones(n)\n",
        "  J=np.zeros((iter,n-1))\n",
        "  h = np.dot(x,wt)\n",
        "  for i in range (0,iter):\n",
        "    for j in range (0,n):\n",
        "      x_ft = column(x,j)\n",
        "      wt[j] = wt[j]*(1-(alpha*c))-alpha*sum((h-y)*x_ft)\n",
        "  return wt"
      ],
      "metadata": {
        "id": "Huo9nLlqj_IK"
      },
      "execution_count": null,
      "outputs": []
    },
    {
      "cell_type": "code",
      "metadata": {
        "id": "SKG6asSVvdhI",
        "colab": {
          "base_uri": "https://localhost:8080/",
          "height": 337
        },
        "outputId": "e6d563e4-158b-4ee7-d839-06b8c4abc67a"
      },
      "source": [
        "MSE = []\n",
        "cvals = np.logspace(-4,2,num=100) #array of lambda values\n",
        "for c in cvals:\n",
        "  err = l2_vec(x_train,y_train,x_valid,y_valid,c)\n",
        "  MSE.append(err) #validation errors for the array of lambda values\n",
        "mse_opt = min(MSE)\n",
        "alloptind = [i for i, j in enumerate(MSE) if j == mse_opt]\n",
        "opt_ind = max(alloptind)\n",
        "c_opt = cvals[opt_ind]\n",
        "print(MSE)\n",
        "print(mse_opt)\n",
        "print(c_opt) # determining the the value corresponding to min MSE as optimal lambda\n",
        "plt.plot(cvals)\n",
        "plt.show()\n"
      ],
      "execution_count": null,
      "outputs": [
        {
          "output_type": "stream",
          "name": "stdout",
          "text": [
            "[13.521726407216894, 13.521708589834697, 13.52168810668092, 13.521664559344446, 13.521637490008883, 13.52160637264018, 13.521570602880802, 13.521529486466454, 13.521482225955074, 13.521427905530512, 13.521365473612791, 13.521293722972677, 13.521211268011989, 13.521116518831143, 13.5210076516643, 13.520882575218696, 13.52073889241135, 13.520573856955613, 13.520384324211983, 13.520166695691636, 13.51991685658721, 13.519630105718088, 13.519301077322671, 13.518923654229765, 13.518490872111158, 13.517994814794946, 13.517426501035354, 13.516775763755025, 13.516031123661548, 13.51517966040152, 13.514206886171143, 13.513096629138378, 13.511830937373354, 13.510390018541777, 13.508752236804863, 13.506894196729007, 13.504790955261415, 13.502416417930426, 13.499743995638493, 13.49674762539433, 13.493403294271952, 13.48969125366744, 13.485599174341248, 13.481126576753887, 13.476290982337032, 13.471136378106184, 13.465744780516818, 13.460251939147197, 13.45486855540912, 13.44990883029478, 13.445828729405632, 13.443277103250177, 13.443163777141425, 13.446749992749913, 13.455768223906826, 13.472580504046565, 13.500387116574224, 13.543500963834147, 13.607707325305032, 13.700734249859119, 13.832865733765061, 14.017738362821829, 14.273372483149238, 14.623501404414855, 15.099276716840734, 15.741444398618281, 16.60310453257994, 17.753186113878655, 19.280785753414143, 21.30053201068259, 23.95914094510979, 27.443316483744706, 31.98911207914499, 37.89279586284782, 45.52313560848236, 55.33482647192909, 67.88250895387587, 83.8344575838316, 103.98456533073663, 129.26072859205897, 160.72720780675343, 199.5780942049817, 247.11879188256307, 304.7325984867052, 373.83021694768973, 455.78149333116073, 551.8308825398229, 663.0009468657092, 789.9912208196228, 933.0824449157919, 1092.0577783964338, 1266.1525021209375, 1454.0415517559072, 1653.8700740318907, 1863.326697214539, 2079.7533893756854, 2300.280832022811, 2521.975162738278, 2741.9812721272624, 2957.649522273006]\n",
            "13.443163777141425\n",
            "0.14174741629268048\n"
          ]
        },
        {
          "output_type": "display_data",
          "data": {
            "text/plain": [
              "<Figure size 432x288 with 1 Axes>"
            ],
            "image/png": "[encoded data removed]"
          },
          "metadata": {
            "needs_background": "light"
          }
        }
      ]
    },
    {
      "cell_type": "code",
      "metadata": {
        "colab": {
          "base_uri": "https://localhost:8080/",
          "height": 348
        },
        "id": "ptNMpsgjHO28",
        "outputId": "ca49df0c-9cad-4067-fced-2fe6fb8d5059"
      },
      "source": [
        "MSE = []\n",
        "avals = np.logspace(-3,0,num=100)\n",
        "for a in avals:\n",
        "  weight = l2_bgd(x_train,y_train,a,c_opt)\n",
        "  sqr_error = 0\n",
        "  for i in range(x_valid.shape[0]):\n",
        "    sqr_error += (y_valid[i]- np.dot(weight.T,x_valid[i]))**2\n",
        "  mse = sqr_error/(x_valid.shape[0])\n",
        "  MSE.append(mse)\n",
        "mse_opt = min(MSE)\n",
        "alloptind = [i for i, j in enumerate(MSE) if j == mse_opt]\n",
        "opt_ind = max(alloptind)\n",
        "a_opt = avals[opt_ind]\n",
        "print(MSE)\n",
        "print(mse_opt)\n",
        "print(a_opt)\n",
        "plt.plot(MSE)\n",
        "plt.show()"
      ],
      "execution_count": null,
      "outputs": [
        {
          "output_type": "stream",
          "name": "stdout",
          "text": [
            "[11444208.43248062, 13230976.225206884, 15288564.477450753, 17657227.57974501, 20383103.116331764, 23519054.267404802, 27125629.19411694, 31272152.832553964, 36037968.36638125, 41513847.66577407, 47803592.177135065, 55025848.1250451, 63316162.440841645, 72829308.55061513, 83741914.0198485, 96255425.03189972, 110599445.728089, 127035493.49553551, 145861214.2699604, 167415104.71174917, 192081790.56864244, 220297912.47102436, 252558671.5811124, 289425087.6436227, 331532020.7041833, 379597004.6366587, 434429935.12810636, 496943646.28682053, 568165397.8326633, 649249278.0500537, 741489505.3577862, 846334582.3799896, 965402219.5717782, 1100494899.4436133, 1253615895.8501685, 1426985494.2483304, 1623057076.9177525, 1844532640.6593208, 2094377202.5123708, 2375831421.0984273, 2692421617.5500765, 3047966221.850378, 3446577500.3637347, 3892657242.71314, 4390884907.4871855, 4946196555.810142, 5563752752.066609, 6248893498.234358, 7007078212.621794, 7843808789.854794, 8764533915.359371, 9774533086.484928, 10878779248.231627, 12081779618.856867, 13387395191.112999, 14798640572.931866, 16317467288.712423, 17944535391.135487, 19678980198.601364, 21518183104.69031, 23457557590.466957, 25490363646.65652, 27607565569.16368, 29797749270.21264, 32047115556.453415, 34339564960.367336, 36656887389.2206, 38979065859.58578, 41284697817.22318, 43551530079.727295, 45757094587.59097, 47879422473.873695, 49897804293.66529, 51793555647.245995, 53550741073.92242, 55156806165.47901, 56603069332.19813, 57885031136.88232, 59002470601.82072, 59959313703.85672, 60763278008.93037, 61425317072.64885, 61958906510.6239, 62379228173.27544, 62702317658.614914, 62944242177.15921, 63120370193.225876, 63244781974.87, 63329852807.61547, 63386020513.780655, 63421728819.720856, 63443520771.16225, 63456244107.48747, 63463324705.2811, 63467065171.264824, 63468932453.982956, 63469808975.8866, 63470193742.316734, 63470350732.20879, 63470409868.78196]\n",
            "11444208.43248062\n",
            "0.001\n"
          ]
        },
        {
          "output_type": "display_data",
          "data": {
            "text/plain": [
              "<Figure size 432x288 with 1 Axes>"
            ],
            "image/png": "[encoded data removed]"
          },
          "metadata": {
            "needs_background": "light"
          }
        }
      ]
    },
    {
      "cell_type": "markdown",
      "source": [
        "Testing using Vectorized Ridge Regression"
      ],
      "metadata": {
        "id": "e1fHjC0rqF_t"
      }
    },
    {
      "cell_type": "code",
      "source": [
        "def l2_vect(x,y,C):\n",
        "  n = x.shape[1]\n",
        "  I = np.ones((n,n))\n",
        "  mul = np.dot(x.T,y)\n",
        "  pinv = np.dot(x.T,x)+C*I\n",
        "  w = np.dot(np.linalg.inv(pinv),mul)\n",
        "  return w"
      ],
      "metadata": {
        "id": "JrMq480CFnzH"
      },
      "execution_count": null,
      "outputs": []
    },
    {
      "cell_type": "code",
      "metadata": {
        "colab": {
          "base_uri": "https://localhost:8080/"
        },
        "id": "od9hidMoJWml",
        "outputId": "df7c9b11-4b9f-4dda-bc20-15539b72aede"
      },
      "source": [
        "weights = l2_vect(x_train,y_train,c_opt)\n",
        "y_pred = []\n",
        "sqr_error = 0\n",
        "abs_error = 0\n",
        "for i in range(x_test.shape[0]):\n",
        "  sqr_error += (y_test[i]- np.dot(weights.T,x_test[i]))**2\n",
        "  abs_error += np.abs(y_test[i]- np.dot(weights.T,x_test[i]))\n",
        "  y_pred.append(np.dot(weights.T,x_test[i]))\n",
        "mse = sqr_error/(x_test.shape[0])\n",
        "mae = abs_error/(x_test.shape[0])\n",
        "cc = np.corrcoef(y_pred,y_test).mean()\n",
        "print(\"Mean Square Error: \", mse)\n",
        "print(\"Mean Absolute Error: \",mae)\n",
        "print(\"Correlation Coefficient: \",cc)"
      ],
      "execution_count": null,
      "outputs": [
        {
          "output_type": "stream",
          "name": "stdout",
          "text": [
            "Mean Square Error:  13.773397029389496\n",
            "Mean Absolute Error:  3.1622300463765924\n",
            "Correlation Coefficient:  0.998097252172384\n"
          ]
        }
      ]
    },
    {
      "cell_type": "code",
      "source": [
        "import matplotlib.pyplot as plt\n",
        "plt.plot(y_test)\n",
        "plt.plot(y_pred)"
      ],
      "metadata": {
        "colab": {
          "base_uri": "https://localhost:8080/",
          "height": 284
        },
        "id": "UssC-5VRnJLx",
        "outputId": "9b1aac8f-cbcf-47e8-ba0a-092be1f73afd"
      },
      "execution_count": null,
      "outputs": [
        {
          "output_type": "execute_result",
          "data": {
            "text/plain": [
              "[<matplotlib.lines.Line2D at 0x7f04152e9050>]"
            ]
          },
          "metadata": {},
          "execution_count": 31
        },
        {
          "output_type": "display_data",
          "data": {
            "text/plain": [
              "<Figure size 432x288 with 1 Axes>"
            ],
            "image/png": "[encoded data removed]"
          },
          "metadata": {
            "needs_background": "light"
          }
        }
      ]
    },
    {
      "cell_type": "markdown",
      "metadata": {
        "id": "zjIq47CC6dpI"
      },
      "source": [
        "Testing using BGD with L2-norm regularization"
      ]
    },
    {
      "cell_type": "code",
      "metadata": {
        "id": "IhW-Rnn06lHy"
      },
      "source": [
        "def l2_bgd(x,y,alpha,c):\n",
        "  iter =100\n",
        "  x = np.array(x)\n",
        "  n = x.shape[1]\n",
        "  wt = np.ones(n)\n",
        "  J=np.zeros((iter,n-1))\n",
        "  h = np.dot(x,wt)\n",
        "  for i in range (0,iter):\n",
        "    for j in range (0,n):\n",
        "      x_ft = column(x,j)\n",
        "      wt[j] = wt[j]*(1-(alpha*c))-alpha*sum((h-y)*x_ft)\n",
        "  return wt"
      ],
      "execution_count": null,
      "outputs": []
    },
    {
      "cell_type": "code",
      "source": [
        "weights = l2_bgd(x_train,y_train,a_opt,c_opt)\n",
        "y_pred = []\n",
        "sqr_error = 0\n",
        "abs_error = 0\n",
        "for i in range(x_test.shape[0]):\n",
        "  sqr_error += (y_test[i]- np.dot(weights.T,x_test[i]))**2\n",
        "  abs_error += np.abs(y_test[i]- np.dot(weights.T,x_test[i]))\n",
        "  y_pred.append(np.dot(weights.T,x_test[i]))\n",
        "mse = sqr_error/(x_test.shape[0])\n",
        "mae = abs_error/(x_test.shape[0])\n",
        "cc = np.corrcoef(y_pred,y_test).mean()\n",
        "print(\"Mean Square Error: \", mse)\n",
        "print(\"Mean Absolute Error: \",mae)\n",
        "print(\"Correlation Coefficient: \",cc)"
      ],
      "metadata": {
        "colab": {
          "base_uri": "https://localhost:8080/"
        },
        "id": "CWIElOaNqigs",
        "outputId": "ed83ccdb-f9d9-4a85-8146-022f6ec4f4f5"
      },
      "execution_count": null,
      "outputs": [
        {
          "output_type": "stream",
          "name": "stdout",
          "text": [
            "Mean Square Error:  12984951.937469797\n",
            "Mean Absolute Error:  3454.528335015921\n",
            "Correlation Coefficient:  0.9817153088841384\n"
          ]
        }
      ]
    },
    {
      "cell_type": "code",
      "source": [
        "print(y_pred)\n",
        "print(y_test)"
      ],
      "metadata": {
        "colab": {
          "base_uri": "https://localhost:8080/"
        },
        "id": "0Prc8tNGRhea",
        "outputId": "0ed01187-ceb5-427b-ba5e-7467951da91c"
      },
      "execution_count": null,
      "outputs": [
        {
          "output_type": "stream",
          "name": "stdout",
          "text": [
            "[4486.484895195035, 4371.76867175354, 1633.1615532676706, 3285.3175270366205, 5158.221672070963, 4583.711238232687, 3882.6704449363274, 1376.6576512245551, 4157.153662597038, 2481.944780437545, 2529.238430427267, 2573.5562691587647, 4054.024437167795, 4798.265038034726, 2176.6612604159823, 4658.690581713148, 1802.678296267271, 3382.785661150639, 3627.768519614656, 4913.017387951652, 4818.6199792306215, 4111.174749158655, 3198.663838852062, 3939.772441741888, 4214.265149384307, 3333.857330242223, 3211.8036911687527, 4946.056416085315, 4755.877991972257, 3789.5697680813946, 2147.804368322204]\n",
            "[189.8133487 184.4987484 103.7329808 139.4606425 232.6524149 203.0693287\n",
            " 183.1539448 102.925247  211.2482974 131.0941245 119.5412237 130.8462633\n",
            " 191.0013544 227.9935935 117.4737527 198.0017863 108.8150963 150.2869268\n",
            " 152.6557429 234.1324181 234.3835354 193.6699475 154.189843  185.741987\n",
            " 214.1127793 163.6873765 143.7011054 212.2416561 211.6262702 183.4206794\n",
            " 101.6929019]\n"
          ]
        }
      ]
    },
    {
      "cell_type": "code",
      "source": [
        "import matplotlib.pyplot as plt\n",
        "plt.plot(y_test)\n",
        "plt.plot(y_pred)"
      ],
      "metadata": {
        "colab": {
          "base_uri": "https://localhost:8080/",
          "height": 282
        },
        "id": "wVKxzRtyq29-",
        "outputId": "0283a386-0e9a-4b6f-ef5c-ab605dabc9f8"
      },
      "execution_count": null,
      "outputs": [
        {
          "output_type": "execute_result",
          "data": {
            "text/plain": [
              "[<matplotlib.lines.Line2D at 0x7f041525cc50>]"
            ]
          },
          "metadata": {},
          "execution_count": 35
        },
        {
          "output_type": "display_data",
          "data": {
            "text/plain": [
              "<Figure size 432x288 with 1 Axes>"
            ],
            "image/png": "[encoded data removed]"
          },
          "metadata": {
            "needs_background": "light"
          }
        }
      ]
    },
    {
      "cell_type": "markdown",
      "source": [
        "#L1- Norm (Lasso) Regression"
      ],
      "metadata": {
        "id": "Xw-K63tTHPz6"
      }
    },
    {
      "cell_type": "code",
      "source": [
        "x_train, x_test, y_train, y_test = train_test_split(X,Y, train_size=0.7, random_state =26)\n",
        "x_valid, x_test, y_valid, y_test = train_test_split(x_test,y_test, test_size=0.33, random_state =25)"
      ],
      "metadata": {
        "id": "BPOsKcQFpzMZ"
      },
      "execution_count": null,
      "outputs": []
    },
    {
      "cell_type": "markdown",
      "metadata": {
        "id": "6fklOG07GENn"
      },
      "source": [
        "Finding optimal hyperparameters using grid search"
      ]
    },
    {
      "cell_type": "code",
      "metadata": {
        "id": "8yc7egIIGENp"
      },
      "source": [
        "def l1_vec(x,y,xv,yv,C):\n",
        "  n = x.shape[1]\n",
        "  I = np.ones((n,n))\n",
        "  mul = np.dot(x.T,y)\n",
        "  pinv = np.dot(x.T,x)\n",
        "  w1 = np.dot(np.linalg.inv(pinv),(mul-(C*0.5)))\n",
        "  w2 = np.dot(np.linalg.inv(pinv),(mul+(C*0.5)))\n",
        "  #h = np.dot(w.T,x)\n",
        "  m = xv.shape[0]\n",
        "  sqr_error1 = 0\n",
        "  sqr_error2 = 0\n",
        "  for i in range(m):\n",
        "    sqr_error1 += (yv[i]- np.dot(w1.T,xv[i]))**2\n",
        "    sqr_error2 += (yv[i]- np.dot(w2.T,xv[i]))**2\n",
        "  mse1 = sqr_error1/m\n",
        "  mse2 = sqr_error2/m\n",
        "\n",
        "  return min(mse1,mse2)"
      ],
      "execution_count": null,
      "outputs": []
    },
    {
      "cell_type": "code",
      "metadata": {
        "colab": {
          "base_uri": "https://localhost:8080/",
          "height": 337
        },
        "outputId": "64e8e534-f635-4bd1-961a-53bb78bfcddf",
        "id": "OCW_uHXAGENr"
      },
      "source": [
        "MSE = []\n",
        "cvals = np.logspace(-4,2,num=100)\n",
        "for c in cvals:\n",
        "  err = l1_vec(x_train,y_train,x_valid,y_valid,c)\n",
        "  MSE.append(err) # finding the validation MSE for the array of lambda values\n",
        "mse_opt = min(MSE)\n",
        "alloptind = [i for i, j in enumerate(MSE) if j == mse_opt]\n",
        "opt_ind = max(alloptind)\n",
        "c_opt = cvals[opt_ind]\n",
        "print(MSE)\n",
        "print(mse_opt)\n",
        "print(c_opt) # determining the the value corresponding to min MSE as optimal lambda\n",
        "plt.plot(cvals,MSE)\n",
        "plt.show()"
      ],
      "execution_count": null,
      "outputs": [
        {
          "output_type": "stream",
          "name": "stdout",
          "text": [
            "[13.521845138728091, 13.521845094436133, 13.521845043511133, 13.521844984959781, 13.521844917640005, 13.521844840238685, 13.52184475124596, 13.521844648926042, 13.52184453128308, 13.521844396022376, 13.52184424050556, 13.521844061699195, 13.52184385611563, 13.521843619744756, 13.521843347976153, 13.521843035508892, 13.521842676248246, 13.521842263186784, 13.521841788267817, 13.521841242228144, 13.521840614417613, 13.52183989259111, 13.521839062670091, 13.521838108468026, 13.52183701137464, 13.521835749993247, 13.521834299723599, 13.521832632282395, 13.521830715151953, 13.521828510946587, 13.52182597668405, 13.521823062948176, 13.521819712926439, 13.521815861303288, 13.52181143298873, 13.521806341656525, 13.521800488064509, 13.521793758124307, 13.521786020682951, 13.521777124974195, 13.521766897690272, 13.521755139617921, 13.521741621774442, 13.521726080970366, 13.52170821471384, 13.521687675361092, 13.521664063402385, 13.521636919757709, 13.521605716939318, 13.521569848917352, 13.521528619503536, 13.521481229042081, 13.521426759169414, 13.521364155373842, 13.521292207051708, 13.521209524720184, 13.521114514006989, 13.521005345995553, 13.520879923460425, 13.520735842483536, 13.520570348901622, 13.520380288995955, 13.520162053809287, 13.519911516460418, 13.519623961839253, 13.519294008109073, 13.518915519542244, 13.518481510385543, 13.517984039726056, 13.517414097747569, 13.51676148438622, 13.516014682281954, 13.515160727187846, 13.5141850807618, 13.513071513113431, 13.511802005839776, 13.510356690878295, 13.50871384674585, 13.506849982181286, 13.504740048601128, 13.502357838096176, 13.49967664424556, 13.496670290530108, 13.493314667880856, 13.48958997193864, 13.485483895946569, 13.480996122181635, 13.476144570504553, 13.47097401631256, 13.465567894276973, 13.460064375097561, 13.454678161754742, 13.449729928028894, 13.445685953268175, 13.44321134363931, 13.443241337670786, 13.447076660463573, 13.456510832430869, 13.473999908151766, 13.502888521617496]\n",
            "13.44321134363931\n",
            "49.770235643321136\n"
          ]
        },
        {
          "output_type": "display_data",
          "data": {
            "text/plain": [
              "<Figure size 432x288 with 1 Axes>"
            ],
            "image/png": "[encoded data removed]"
          },
          "metadata": {
            "needs_background": "light"
          }
        }
      ]
    },
    {
      "cell_type": "code",
      "metadata": {
        "id": "7NlklvM4GENr"
      },
      "source": [
        "def l1_bgd(x,y,alpha,c):\n",
        "  iter =100\n",
        "  x = np.array(x)\n",
        "  n = x.shape[1]\n",
        "  wt = np.ones(n)\n",
        "  J=np.zeros((iter,n-1))\n",
        "  h = np.dot(x,wt)\n",
        "  for i in range (0,iter):\n",
        "    for j in range (0,n):\n",
        "      x_ft = column(x,j)\n",
        "      wt[j] = wt[j]-alpha*sum((y-h)*x_ft)-(alpha*c*0.5)*np.sign(wt[j])\n",
        "  return wt"
      ],
      "execution_count": null,
      "outputs": []
    },
    {
      "cell_type": "code",
      "metadata": {
        "colab": {
          "base_uri": "https://localhost:8080/",
          "height": 337
        },
        "outputId": "159d92f3-cd07-44be-b55f-10ade83b1bf1",
        "id": "RZ-KTcnoGENs"
      },
      "source": [
        "MSE = []\n",
        "avals = np.logspace(-3,0,num=100)\n",
        "for a in avals:\n",
        "  weight = l1_bgd(x_train,y_train,a,c_opt)\n",
        "  sqr_error = 0\n",
        "  for i in range(x_valid.shape[0]):\n",
        "    sqr_error += (y_valid[i]- np.dot(weight.T,x_valid[i]))**2\n",
        "  mse = sqr_error/(x_valid.shape[0])\n",
        "  MSE.append(mse)\n",
        "mse_opt = min(MSE)\n",
        "alloptind = [i for i, j in enumerate(MSE) if j == mse_opt]\n",
        "opt_ind = max(alloptind)\n",
        "a_opt = avals[opt_ind]\n",
        "print(MSE)\n",
        "print(mse_opt)\n",
        "print(a_opt)\n",
        "plt.plot(avals)\n",
        "plt.show()"
      ],
      "execution_count": null,
      "outputs": [
        {
          "output_type": "stream",
          "name": "stdout",
          "text": [
            "[13952333.541086432, 15946034.274414437, 18231684.85263337, 20852528.34146192, 23858249.180814005, 27305935.326832056, 31261184.300838176, 35799374.68322053, 41007127.81479725, 46983988.17555533, 53844355.17314358, 61719703.97423026, 70761138.64642657, 81142327.35677311, 93062876.82114868, 106752211.76271889, 122474034.9835855, 140531454.97431424, 161272881.0016903, 185098800.57979566, 212469571.43512657, 243914379.85873038, 280041540.08271897, 321550335.4691839, 369244632.36590207, 424048532.0522844, 487024365.94472563, 559393384.9281398, 642559546.2213978, 738136861.5935647, 847980840.2030617, 974224639.1886101, 1119320626.9560313, 1286088169.6698802, 1477768572.8324854, 1698088249.3828042, 1951331346.1951497, 2242423245.333643, 2577026568.519326, 2961651557.1322556, 3403782980.454533, 3912026047.234347, 4496274166.30107, 5167901828.118903, 5939986369.142735, 6827562944.192845, 7847917679.783438, 9020924726.056992, 10369433781.220066, 11919715646.845573, 13701974504.307993, 15750936904.027061, 18106528955.496967, 20814654926.46418, 23928092437.634445, 27507521713.53606, 31622708964.986557, 36353866985.01936, 41793219496.7718, 48046799766.12284, 55236518561.3369, 63502541795.74639, 73006024230.0774, 83932252556.1799, 96494259169.1976, 110936977116.33034, 127542017266.34386, 146633160880.9027, 168582674723.21826, 193818571883.7495, 222832959949.63116, 256191639354.0364, 294545139127.45465, 338641405310.52216, 389340389524.72455, 447630822261.3073, 514649498063.6795, 591703448775.2168, 680295437358.5254, 782153269563.141, 899263495188.8658, 1033910156315.2281, 1188719338313.1677, 1366710392643.3108, 1571354830585.0269, 1806644036668.622, 2077167122619.6729, 2388200440424.79, 2745810500550.0015, 3156972302823.0996, 3629705388129.976, 4173230264736.3604, 4798148260472.574, 5516648308962.628, 6342744703454.468, 7292550455858.738, 8384591593120.466, 9640168521566.95, 11083771507984.07, 12743558381771.652]\n",
            "13952333.541086432\n",
            "0.001\n"
          ]
        },
        {
          "output_type": "display_data",
          "data": {
            "text/plain": [
              "<Figure size 432x288 with 1 Axes>"
            ],
            "image/png": "[encoded data removed]"
          },
          "metadata": {
            "needs_background": "light"
          }
        }
      ]
    },
    {
      "cell_type": "markdown",
      "source": [
        "Testing using Vectorized Lasso Regression"
      ],
      "metadata": {
        "id": "ZMR6U_aarH9H"
      }
    },
    {
      "cell_type": "code",
      "metadata": {
        "id": "dtJmcWN0nJ6H"
      },
      "source": [
        "def l1_vect(x,y,C):\n",
        "  n = x.shape[1]\n",
        "  I = np.ones((n,n))\n",
        "  mul = np.dot(x.T,y)\n",
        "  pinv = np.dot(x.T,x)\n",
        "  w1 = np.dot(np.linalg.inv(pinv),(mul-(C*0.5)))\n",
        "  w2 = np.dot(np.linalg.inv(pinv),(mul+(C*0.5)))\n",
        "  #h = np.dot(w.T,x)\n",
        "  m = x.shape[0]\n",
        "  sqr_error1 = 0\n",
        "  sqr_error2 = 0\n",
        "  for i in range(m):\n",
        "    sqr_error1 += (y[i]- np.dot(w1.T,x[i]))**2\n",
        "    sqr_error2 += (y[i]- np.dot(w2.T,x[i]))**2\n",
        "  mse1 = sqr_error1/m\n",
        "  mse2 = sqr_error2/m\n",
        "\n",
        "  if mse1<mse2:\n",
        "    opt_wt =w1\n",
        "  else:\n",
        "    opt_wt =w2\n",
        "\n",
        "  return opt_wt"
      ],
      "execution_count": null,
      "outputs": []
    },
    {
      "cell_type": "code",
      "metadata": {
        "colab": {
          "base_uri": "https://localhost:8080/"
        },
        "outputId": "20d70750-f93b-43ec-8869-349e94587aeb",
        "id": "Bt7EmCeWrUFu"
      },
      "source": [
        "weights = l1_vect(x_train,y_train,c_opt)\n",
        "y_pred = []\n",
        "sqr_error = 0\n",
        "abs_error = 0\n",
        "for i in range(x_test.shape[0]):\n",
        "  sqr_error += (y_test[i]- np.dot(weights.T,x_test[i]))**2\n",
        "  abs_error += np.abs(y_test[i]- np.dot(weights.T,x_test[i]))\n",
        "  y_pred.append(np.dot(weights.T,x_test[i]))\n",
        "mse = sqr_error/(x_test.shape[0])\n",
        "mae = abs_error/(x_test.shape[0])\n",
        "cc = np.corrcoef(y_pred,y_test).mean()\n",
        "print(\"Mean Square Error: \", mse)\n",
        "print(\"Mean Absolute Error: \",mae)\n",
        "print(\"Correlation Coefficient: \",cc)"
      ],
      "execution_count": null,
      "outputs": [
        {
          "output_type": "stream",
          "name": "stdout",
          "text": [
            "Mean Square Error:  13.687635091836444\n",
            "Mean Absolute Error:  3.1559323861202326\n",
            "Correlation Coefficient:  0.9981066047524438\n"
          ]
        }
      ]
    },
    {
      "cell_type": "code",
      "source": [
        "import matplotlib.pyplot as plt\n",
        "plt.plot(y_test)\n",
        "plt.plot(y_pred)"
      ],
      "metadata": {
        "colab": {
          "base_uri": "https://localhost:8080/",
          "height": 284
        },
        "outputId": "dc7201aa-761c-4b57-a584-aebc444b3a21",
        "id": "fBEP-UsirX0c"
      },
      "execution_count": null,
      "outputs": [
        {
          "output_type": "execute_result",
          "data": {
            "text/plain": [
              "[<matplotlib.lines.Line2D at 0x7f04150b23d0>]"
            ]
          },
          "metadata": {},
          "execution_count": 43
        },
        {
          "output_type": "display_data",
          "data": {
            "text/plain": [
              "<Figure size 432x288 with 1 Axes>"
            ],
            "image/png": "[encoded data removed]"
          },
          "metadata": {
            "needs_background": "light"
          }
        }
      ]
    },
    {
      "cell_type": "markdown",
      "metadata": {
        "id": "TMcANGMkGENs"
      },
      "source": [
        "BGD with L1-norm regularization"
      ]
    },
    {
      "cell_type": "code",
      "metadata": {
        "id": "k2tYTD6EGENs"
      },
      "source": [
        "def l1_bgd(x,y,alpha,c):\n",
        "  iter =100\n",
        "  x = np.array(x)\n",
        "  n = x.shape[1]\n",
        "  wt = np.ones(n)\n",
        "  J=np.zeros((iter,n-1))\n",
        "  h = np.dot(x,wt)\n",
        "  for i in range (0,iter):\n",
        "    for j in range (0,n):\n",
        "      x_ft = column(x,j)\n",
        "      wt[j] = wt[j]-alpha*sum((y-h)*x_ft)-(alpha*c*0.5)*np.sign(wt[j])\n",
        "  return wt"
      ],
      "execution_count": null,
      "outputs": []
    },
    {
      "cell_type": "code",
      "metadata": {
        "colab": {
          "base_uri": "https://localhost:8080/"
        },
        "outputId": "aaf478ff-1ec9-42fb-9e92-abdaa4798f1f",
        "id": "B5IV2aUKGENt"
      },
      "source": [
        "weights = l1_bgd(x_train,y_train,a_opt,c_opt)\n",
        "y_pred = []\n",
        "sqr_error = 0\n",
        "abs_error = 0\n",
        "for i in range(x_test.shape[0]):\n",
        "  sqr_error += (y_test[i]- np.dot(weights.T,x_test[i]))**2\n",
        "  abs_error += np.abs(y_test[i]- np.dot(weights.T,x_test[i]))\n",
        "  y_pred.append(np.dot(weights.T,x_test[i]))\n",
        "mse = sqr_error/(x_test.shape[0])\n",
        "mae = abs_error/(x_test.shape[0])\n",
        "cc = np.corrcoef(y_pred,y_test).mean()\n",
        "print(\"Mean Square Error: \", mse)\n",
        "print(\"Mean Absolute Error: \",mae)\n",
        "print(\"Correlation Coefficient: \",cc)"
      ],
      "execution_count": null,
      "outputs": [
        {
          "output_type": "stream",
          "name": "stdout",
          "text": [
            "Mean Square Error:  15801321.079228736\n",
            "Mean Absolute Error:  3817.2116426908256\n",
            "Correlation Coefficient:  0.01839374045136269\n"
          ]
        }
      ]
    },
    {
      "cell_type": "code",
      "source": [
        "import matplotlib.pyplot as plt\n",
        "plt.plot(y_test)\n",
        "plt.plot(y_pred)"
      ],
      "metadata": {
        "colab": {
          "base_uri": "https://localhost:8080/",
          "height": 282
        },
        "id": "RUU2ZHCPpk1V",
        "outputId": "5a99cafb-3aab-45e6-e04e-4bc832b42b55"
      },
      "execution_count": null,
      "outputs": [
        {
          "output_type": "execute_result",
          "data": {
            "text/plain": [
              "[<matplotlib.lines.Line2D at 0x7f0415037050>]"
            ]
          },
          "metadata": {},
          "execution_count": 46
        },
        {
          "output_type": "display_data",
          "data": {
            "text/plain": [
              "<Figure size 432x288 with 1 Axes>"
            ],
            "image/png": "[encoded data removed]"
          },
          "metadata": {
            "needs_background": "light"
          }
        }
      ]
    },
    {
      "cell_type": "markdown",
      "source": [
        "#Multi Layer Perceptron Regression"
      ],
      "metadata": {
        "id": "477atsmfL8A1"
      }
    },
    {
      "cell_type": "code",
      "source": [
        "from tensorflow.keras.models import Sequential\n",
        "from tensorflow.keras.layers import Dense\n",
        "import numpy as np\n",
        "import pandas as pd\n",
        "from sklearn.model_selection import train_test_split"
      ],
      "metadata": {
        "id": "WkOc5XG7IEbf"
      },
      "execution_count": null,
      "outputs": []
    },
    {
      "cell_type": "code",
      "source": [
        "df2 = pd.read_csv('SVP_data.csv')\n",
        "#np.random.shuffle(dataset)\n"
      ],
      "metadata": {
        "id": "uoRzqb8jIFtO"
      },
      "execution_count": null,
      "outputs": []
    },
    {
      "cell_type": "code",
      "source": [
        "X = df2.iloc[:, :-1].values\n",
        "Y = df2.iloc[:, -1].values\n",
        "X = (X - X.mean(axis=0))/(X.std(axis=0))\n",
        "input_shape = (2,)\n",
        "print(f'Feature shape: {input_shape}')"
      ],
      "metadata": {
        "colab": {
          "base_uri": "https://localhost:8080/"
        },
        "id": "gVM5GTj5JJNe",
        "outputId": "de195398-684a-488f-a6e7-379b87b396d7"
      },
      "execution_count": null,
      "outputs": [
        {
          "output_type": "stream",
          "name": "stdout",
          "text": [
            "Feature shape: (2,)\n"
          ]
        }
      ]
    },
    {
      "cell_type": "code",
      "source": [
        "x_train, x_test, y_train, y_test = train_test_split(X,Y, train_size=0.8)"
      ],
      "metadata": {
        "id": "Mvz30ht1QCeN"
      },
      "execution_count": null,
      "outputs": []
    },
    {
      "cell_type": "code",
      "source": [
        "model = Sequential()\n",
        "model.add(Dense(5, input_shape=input_shape, activation='sigmoid'))\n",
        "model.add(Dense(1, activation='linear'))"
      ],
      "metadata": {
        "id": "2l9rwpVXJJ39"
      },
      "execution_count": null,
      "outputs": []
    },
    {
      "cell_type": "code",
      "source": [
        "model.compile(loss='mean_absolute_error', optimizer='adam', metrics=['mean_squared_error'])\n",
        "model.fit(x_train, y_train, epochs=500, batch_size=1, verbose=1, validation_split=0.125)"
      ],
      "metadata": {
        "colab": {
          "base_uri": "https://localhost:8080/"
        },
        "id": "VgPIsGebJuCm",
        "outputId": "d07012b8-04f2-49ed-be7b-ac4e51916ea4"
      },
      "execution_count": null,
      "outputs": [
        {
          "output_type": "stream",
          "name": "stdout",
          "text": [
            "Epoch 1/500\n",
            "211/211 [==============================] - 1s 2ms/step - loss: 162.8285 - mean_squared_error: 28252.4180 - val_loss: 162.8481 - val_mean_squared_error: 28101.9414\n",
            "Epoch 2/500\n",
            "211/211 [==============================] - 0s 2ms/step - loss: 161.8970 - mean_squared_error: 27950.6855 - val_loss: 161.8902 - val_mean_squared_error: 27790.5195\n",
            "Epoch 3/500\n",
            "211/211 [==============================] - 0s 2ms/step - loss: 160.9121 - mean_squared_error: 27630.2363 - val_loss: 160.8791 - val_mean_squared_error: 27463.8008\n",
            "Epoch 4/500\n",
            "211/211 [==============================] - 0s 2ms/step - loss: 159.8781 - mean_squared_error: 27297.7891 - val_loss: 159.8221 - val_mean_squared_error: 27124.8633\n",
            "Epoch 5/500\n",
            "211/211 [==============================] - 0s 2ms/step - loss: 158.8044 - mean_squared_error: 26958.1992 - val_loss: 158.7298 - val_mean_squared_error: 26776.5020\n",
            "Epoch 6/500\n",
            "211/211 [==============================] - 0s 2ms/step - loss: 157.6974 - mean_squared_error: 26606.9004 - val_loss: 157.6010 - val_mean_squared_error: 26420.3516\n",
            "Epoch 7/500\n",
            "211/211 [==============================] - 0s 2ms/step - loss: 156.5499 - mean_squared_error: 26247.4121 - val_loss: 156.4211 - val_mean_squared_error: 26049.9375\n",
            "Epoch 8/500\n",
            "211/211 [==============================] - 0s 2ms/step - loss: 155.3337 - mean_squared_error: 25864.9180 - val_loss: 155.1562 - val_mean_squared_error: 25655.5957\n",
            "Epoch 9/500\n",
            "211/211 [==============================] - 0s 2ms/step - loss: 154.0154 - mean_squared_error: 25460.1211 - val_loss: 153.7757 - val_mean_squared_error: 25228.9707\n",
            "Epoch 10/500\n",
            "211/211 [==============================] - 0s 2ms/step - loss: 152.5876 - mean_squared_error: 25020.9980 - val_loss: 152.2959 - val_mean_squared_error: 24776.5664\n",
            "Epoch 11/500\n",
            "211/211 [==============================] - 0s 2ms/step - loss: 151.0779 - mean_squared_error: 24560.0586 - val_loss: 150.7574 - val_mean_squared_error: 24309.3340\n",
            "Epoch 12/500\n",
            "211/211 [==============================] - 0s 2ms/step - loss: 149.5271 - mean_squared_error: 24089.4531 - val_loss: 149.1954 - val_mean_squared_error: 23841.0117\n",
            "Epoch 13/500\n",
            "211/211 [==============================] - 0s 2ms/step - loss: 147.9681 - mean_squared_error: 23630.0645 - val_loss: 147.6396 - val_mean_squared_error: 23378.3594\n",
            "Epoch 14/500\n",
            "211/211 [==============================] - 0s 2ms/step - loss: 146.4222 - mean_squared_error: 23174.1895 - val_loss: 146.1031 - val_mean_squared_error: 22926.9453\n",
            "Epoch 15/500\n",
            "211/211 [==============================] - 0s 2ms/step - loss: 144.8986 - mean_squared_error: 22731.6328 - val_loss: 144.5908 - val_mean_squared_error: 22487.4590\n",
            "Epoch 16/500\n",
            "211/211 [==============================] - 0s 2ms/step - loss: 143.4004 - mean_squared_error: 22299.3301 - val_loss: 143.1042 - val_mean_squared_error: 22060.2031\n",
            "Epoch 17/500\n",
            "211/211 [==============================] - 0s 2ms/step - loss: 141.9280 - mean_squared_error: 21879.9082 - val_loss: 141.6443 - val_mean_squared_error: 21644.3242\n",
            "Epoch 18/500\n",
            "211/211 [==============================] - 0s 2ms/step - loss: 140.4796 - mean_squared_error: 21467.6875 - val_loss: 140.2062 - val_mean_squared_error: 21239.0332\n",
            "Epoch 19/500\n",
            "211/211 [==============================] - 0s 2ms/step - loss: 139.0526 - mean_squared_error: 21070.6738 - val_loss: 138.7886 - val_mean_squared_error: 20843.5293\n",
            "Epoch 20/500\n",
            "211/211 [==============================] - 0s 2ms/step - loss: 137.6448 - mean_squared_error: 20681.7891 - val_loss: 137.3891 - val_mean_squared_error: 20456.9316\n",
            "Epoch 21/500\n",
            "211/211 [==============================] - 0s 2ms/step - loss: 136.2535 - mean_squared_error: 20301.4336 - val_loss: 136.0043 - val_mean_squared_error: 20078.8691\n",
            "Epoch 22/500\n",
            "211/211 [==============================] - 0s 2ms/step - loss: 134.8770 - mean_squared_error: 19924.5645 - val_loss: 134.6341 - val_mean_squared_error: 19707.9336\n",
            "Epoch 23/500\n",
            "211/211 [==============================] - 0s 2ms/step - loss: 133.5133 - mean_squared_error: 19560.0957 - val_loss: 133.2758 - val_mean_squared_error: 19344.1016\n",
            "Epoch 24/500\n",
            "211/211 [==============================] - 0s 2ms/step - loss: 132.1610 - mean_squared_error: 19196.4414 - val_loss: 131.9279 - val_mean_squared_error: 18986.6875\n",
            "Epoch 25/500\n",
            "211/211 [==============================] - 0s 2ms/step - loss: 130.8183 - mean_squared_error: 18851.0293 - val_loss: 130.5891 - val_mean_squared_error: 18635.3086\n",
            "Epoch 26/500\n",
            "211/211 [==============================] - 0s 2ms/step - loss: 129.4842 - mean_squared_error: 18503.7363 - val_loss: 129.2586 - val_mean_squared_error: 18289.5781\n",
            "Epoch 27/500\n",
            "211/211 [==============================] - 0s 2ms/step - loss: 128.1574 - mean_squared_error: 18160.2188 - val_loss: 127.9349 - val_mean_squared_error: 17949.2207\n",
            "Epoch 28/500\n",
            "211/211 [==============================] - 0s 2ms/step - loss: 126.8373 - mean_squared_error: 17822.5352 - val_loss: 126.6172 - val_mean_squared_error: 17613.9102\n",
            "Epoch 29/500\n",
            "211/211 [==============================] - 0s 2ms/step - loss: 125.5229 - mean_squared_error: 17491.1289 - val_loss: 125.3053 - val_mean_squared_error: 17283.3789\n",
            "Epoch 30/500\n",
            "211/211 [==============================] - 0s 2ms/step - loss: 124.2136 - mean_squared_error: 17165.7754 - val_loss: 123.9979 - val_mean_squared_error: 16957.5137\n",
            "Epoch 31/500\n",
            "211/211 [==============================] - 0s 2ms/step - loss: 122.9089 - mean_squared_error: 16838.2930 - val_loss: 122.6947 - val_mean_squared_error: 16636.1191\n",
            "Epoch 32/500\n",
            "211/211 [==============================] - 0s 2ms/step - loss: 121.6079 - mean_squared_error: 16523.9355 - val_loss: 121.3956 - val_mean_squared_error: 16319.0078\n",
            "Epoch 33/500\n",
            "211/211 [==============================] - 0s 2ms/step - loss: 120.3106 - mean_squared_error: 16210.0869 - val_loss: 120.0996 - val_mean_squared_error: 16006.0527\n",
            "Epoch 34/500\n",
            "211/211 [==============================] - 0s 2ms/step - loss: 119.0165 - mean_squared_error: 15903.0654 - val_loss: 118.8065 - val_mean_squared_error: 15697.2061\n",
            "Epoch 35/500\n",
            "211/211 [==============================] - 0s 2ms/step - loss: 117.7250 - mean_squared_error: 15596.4443 - val_loss: 117.5162 - val_mean_squared_error: 15392.2822\n",
            "Epoch 36/500\n",
            "211/211 [==============================] - 0s 2ms/step - loss: 116.4361 - mean_squared_error: 15294.6426 - val_loss: 116.2282 - val_mean_squared_error: 15091.2471\n",
            "Epoch 37/500\n",
            "211/211 [==============================] - 0s 2ms/step - loss: 115.1494 - mean_squared_error: 14994.5000 - val_loss: 114.9424 - val_mean_squared_error: 14794.0166\n",
            "Epoch 38/500\n",
            "211/211 [==============================] - 1s 2ms/step - loss: 113.8648 - mean_squared_error: 14698.4482 - val_loss: 113.6584 - val_mean_squared_error: 14500.5059\n",
            "Epoch 39/500\n",
            "211/211 [==============================] - 0s 2ms/step - loss: 112.5816 - mean_squared_error: 14411.1660 - val_loss: 112.3760 - val_mean_squared_error: 14210.6191\n",
            "Epoch 40/500\n",
            "211/211 [==============================] - 0s 2ms/step - loss: 111.3001 - mean_squared_error: 14123.7002 - val_loss: 111.0949 - val_mean_squared_error: 13924.4355\n",
            "Epoch 41/500\n",
            "211/211 [==============================] - 0s 2ms/step - loss: 110.0201 - mean_squared_error: 13840.5244 - val_loss: 109.8155 - val_mean_squared_error: 13641.8008\n",
            "Epoch 42/500\n",
            "211/211 [==============================] - 0s 2ms/step - loss: 108.7413 - mean_squared_error: 13556.9062 - val_loss: 108.5371 - val_mean_squared_error: 13362.6914\n",
            "Epoch 43/500\n",
            "211/211 [==============================] - 0s 2ms/step - loss: 107.4638 - mean_squared_error: 13286.7354 - val_loss: 107.2599 - val_mean_squared_error: 13087.0625\n",
            "Epoch 44/500\n",
            "211/211 [==============================] - 0s 2ms/step - loss: 106.1870 - mean_squared_error: 13010.2568 - val_loss: 105.9837 - val_mean_squared_error: 12814.9355\n",
            "Epoch 45/500\n",
            "211/211 [==============================] - 0s 2ms/step - loss: 104.9114 - mean_squared_error: 12740.9375 - val_loss: 104.7084 - val_mean_squared_error: 12546.2490\n",
            "Epoch 46/500\n",
            "211/211 [==============================] - 0s 2ms/step - loss: 103.6366 - mean_squared_error: 12477.3682 - val_loss: 103.4339 - val_mean_squared_error: 12280.9932\n",
            "Epoch 47/500\n",
            "211/211 [==============================] - 0s 2ms/step - loss: 102.3627 - mean_squared_error: 12215.6621 - val_loss: 102.1602 - val_mean_squared_error: 12019.1455\n",
            "Epoch 48/500\n",
            "211/211 [==============================] - 0s 2ms/step - loss: 101.0893 - mean_squared_error: 11954.3389 - val_loss: 100.8871 - val_mean_squared_error: 11760.6348\n",
            "Epoch 49/500\n",
            "211/211 [==============================] - 0s 2ms/step - loss: 99.8165 - mean_squared_error: 11700.1895 - val_loss: 99.6145 - val_mean_squared_error: 11505.4912\n",
            "Epoch 50/500\n",
            "211/211 [==============================] - 0s 2ms/step - loss: 98.5444 - mean_squared_error: 11446.8330 - val_loss: 98.3428 - val_mean_squared_error: 11253.7646\n",
            "Epoch 51/500\n",
            "211/211 [==============================] - 0s 2ms/step - loss: 97.2731 - mean_squared_error: 11200.8984 - val_loss: 97.0716 - val_mean_squared_error: 11005.3584\n",
            "Epoch 52/500\n",
            "211/211 [==============================] - 0s 2ms/step - loss: 96.0022 - mean_squared_error: 10954.7998 - val_loss: 95.8008 - val_mean_squared_error: 10760.2666\n",
            "Epoch 53/500\n",
            "211/211 [==============================] - 0s 2ms/step - loss: 94.7316 - mean_squared_error: 10710.9707 - val_loss: 94.5303 - val_mean_squared_error: 10518.4580\n",
            "Epoch 54/500\n",
            "211/211 [==============================] - 0s 2ms/step - loss: 93.4612 - mean_squared_error: 10469.6426 - val_loss: 93.2601 - val_mean_squared_error: 10279.9287\n",
            "Epoch 55/500\n",
            "211/211 [==============================] - 0s 2ms/step - loss: 92.1912 - mean_squared_error: 10236.0381 - val_loss: 91.9902 - val_mean_squared_error: 10044.6689\n",
            "Epoch 56/500\n",
            "211/211 [==============================] - 0s 2ms/step - loss: 90.9216 - mean_squared_error: 10004.7578 - val_loss: 90.7207 - val_mean_squared_error: 9812.7500\n",
            "Epoch 57/500\n",
            "211/211 [==============================] - 0s 2ms/step - loss: 89.6524 - mean_squared_error: 9775.6797 - val_loss: 89.4517 - val_mean_squared_error: 9584.0986\n",
            "Epoch 58/500\n",
            "211/211 [==============================] - 0s 2ms/step - loss: 88.3834 - mean_squared_error: 9545.7285 - val_loss: 88.1828 - val_mean_squared_error: 9358.7080\n",
            "Epoch 59/500\n",
            "211/211 [==============================] - 0s 2ms/step - loss: 87.1147 - mean_squared_error: 9326.5576 - val_loss: 86.9141 - val_mean_squared_error: 9136.5684\n",
            "Epoch 60/500\n",
            "211/211 [==============================] - 1s 2ms/step - loss: 85.8462 - mean_squared_error: 9105.4795 - val_loss: 85.6456 - val_mean_squared_error: 8917.6807\n",
            "Epoch 61/500\n",
            "211/211 [==============================] - 0s 2ms/step - loss: 84.5777 - mean_squared_error: 8890.0117 - val_loss: 84.3773 - val_mean_squared_error: 8702.0322\n",
            "Epoch 62/500\n",
            "211/211 [==============================] - 0s 2ms/step - loss: 83.3095 - mean_squared_error: 8677.2354 - val_loss: 83.1091 - val_mean_squared_error: 8489.6318\n",
            "Epoch 63/500\n",
            "211/211 [==============================] - 0s 2ms/step - loss: 82.0414 - mean_squared_error: 8468.3447 - val_loss: 81.8410 - val_mean_squared_error: 8280.4648\n",
            "Epoch 64/500\n",
            "211/211 [==============================] - 0s 2ms/step - loss: 80.7734 - mean_squared_error: 8260.0215 - val_loss: 80.5731 - val_mean_squared_error: 8074.5366\n",
            "Epoch 65/500\n",
            "211/211 [==============================] - 0s 2ms/step - loss: 79.5056 - mean_squared_error: 8059.0796 - val_loss: 79.3052 - val_mean_squared_error: 7871.8403\n",
            "Epoch 66/500\n",
            "211/211 [==============================] - 0s 2ms/step - loss: 78.2378 - mean_squared_error: 7853.4224 - val_loss: 78.0375 - val_mean_squared_error: 7672.3779\n",
            "Epoch 67/500\n",
            "211/211 [==============================] - 0s 2ms/step - loss: 76.9701 - mean_squared_error: 7659.7744 - val_loss: 76.7699 - val_mean_squared_error: 7476.1411\n",
            "Epoch 68/500\n",
            "211/211 [==============================] - 0s 2ms/step - loss: 75.7026 - mean_squared_error: 7466.4331 - val_loss: 75.5024 - val_mean_squared_error: 7283.1348\n",
            "Epoch 69/500\n",
            "211/211 [==============================] - 0s 2ms/step - loss: 74.4351 - mean_squared_error: 7280.0869 - val_loss: 74.2349 - val_mean_squared_error: 7093.3506\n",
            "Epoch 70/500\n",
            "211/211 [==============================] - 0s 2ms/step - loss: 73.1677 - mean_squared_error: 7089.1357 - val_loss: 72.9675 - val_mean_squared_error: 6906.7925\n",
            "Epoch 71/500\n",
            "211/211 [==============================] - 0s 2ms/step - loss: 71.9004 - mean_squared_error: 6905.4287 - val_loss: 71.7004 - val_mean_squared_error: 6723.4775\n",
            "Epoch 72/500\n",
            "211/211 [==============================] - 0s 2ms/step - loss: 70.6334 - mean_squared_error: 6726.3252 - val_loss: 70.4335 - val_mean_squared_error: 6543.4097\n",
            "Epoch 73/500\n",
            "211/211 [==============================] - 0s 2ms/step - loss: 69.3666 - mean_squared_error: 6549.5156 - val_loss: 69.1667 - val_mean_squared_error: 6366.5674\n",
            "Epoch 74/500\n",
            "211/211 [==============================] - 0s 2ms/step - loss: 68.0999 - mean_squared_error: 6373.9282 - val_loss: 67.9000 - val_mean_squared_error: 6192.9414\n",
            "Epoch 75/500\n",
            "211/211 [==============================] - 0s 2ms/step - loss: 66.8333 - mean_squared_error: 6201.2715 - val_loss: 66.6335 - val_mean_squared_error: 6022.5615\n",
            "Epoch 76/500\n",
            "211/211 [==============================] - 0s 2ms/step - loss: 65.5668 - mean_squared_error: 6030.5864 - val_loss: 65.3671 - val_mean_squared_error: 5855.3970\n",
            "Epoch 77/500\n",
            "211/211 [==============================] - 0s 2ms/step - loss: 64.3005 - mean_squared_error: 5870.6455 - val_loss: 64.1009 - val_mean_squared_error: 5691.4678\n",
            "Epoch 78/500\n",
            "211/211 [==============================] - 0s 2ms/step - loss: 63.0561 - mean_squared_error: 5712.3950 - val_loss: 62.8515 - val_mean_squared_error: 5532.8525\n",
            "Epoch 79/500\n",
            "211/211 [==============================] - 0s 2ms/step - loss: 61.8782 - mean_squared_error: 5557.0190 - val_loss: 61.6525 - val_mean_squared_error: 5383.5610\n",
            "Epoch 80/500\n",
            "211/211 [==============================] - 0s 2ms/step - loss: 60.7651 - mean_squared_error: 5414.2295 - val_loss: 60.4820 - val_mean_squared_error: 5240.6055\n",
            "Epoch 81/500\n",
            "211/211 [==============================] - 0s 2ms/step - loss: 59.7262 - mean_squared_error: 5271.8379 - val_loss: 59.3442 - val_mean_squared_error: 5104.2568\n",
            "Epoch 82/500\n",
            "211/211 [==============================] - 0s 2ms/step - loss: 58.7457 - mean_squared_error: 5144.0977 - val_loss: 58.2367 - val_mean_squared_error: 4974.0332\n",
            "Epoch 83/500\n",
            "211/211 [==============================] - 0s 2ms/step - loss: 57.7827 - mean_squared_error: 5013.7061 - val_loss: 57.1479 - val_mean_squared_error: 4847.9482\n",
            "Epoch 84/500\n",
            "211/211 [==============================] - 0s 2ms/step - loss: 56.8339 - mean_squared_error: 4890.2949 - val_loss: 56.1269 - val_mean_squared_error: 4724.4014\n",
            "Epoch 85/500\n",
            "211/211 [==============================] - 0s 2ms/step - loss: 55.9293 - mean_squared_error: 4771.9136 - val_loss: 55.1413 - val_mean_squared_error: 4607.4033\n",
            "Epoch 86/500\n",
            "211/211 [==============================] - 0s 2ms/step - loss: 55.0381 - mean_squared_error: 4653.5356 - val_loss: 54.2074 - val_mean_squared_error: 4491.5854\n",
            "Epoch 87/500\n",
            "211/211 [==============================] - 0s 2ms/step - loss: 54.1937 - mean_squared_error: 4543.0679 - val_loss: 53.3204 - val_mean_squared_error: 4382.7700\n",
            "Epoch 88/500\n",
            "211/211 [==============================] - 0s 2ms/step - loss: 53.4178 - mean_squared_error: 4440.9023 - val_loss: 52.4690 - val_mean_squared_error: 4280.2676\n",
            "Epoch 89/500\n",
            "211/211 [==============================] - 0s 2ms/step - loss: 52.6741 - mean_squared_error: 4344.2261 - val_loss: 51.6317 - val_mean_squared_error: 4181.3208\n",
            "Epoch 90/500\n",
            "211/211 [==============================] - 0s 2ms/step - loss: 51.9784 - mean_squared_error: 4245.4712 - val_loss: 50.8420 - val_mean_squared_error: 4089.6978\n",
            "Epoch 91/500\n",
            "211/211 [==============================] - 0s 2ms/step - loss: 51.3135 - mean_squared_error: 4153.5239 - val_loss: 50.0740 - val_mean_squared_error: 3997.0737\n",
            "Epoch 92/500\n",
            "211/211 [==============================] - 0s 2ms/step - loss: 50.6573 - mean_squared_error: 4066.9678 - val_loss: 49.4128 - val_mean_squared_error: 3910.2825\n",
            "Epoch 93/500\n",
            "211/211 [==============================] - 0s 2ms/step - loss: 50.0173 - mean_squared_error: 3980.9832 - val_loss: 48.7556 - val_mean_squared_error: 3825.5986\n",
            "Epoch 94/500\n",
            "211/211 [==============================] - 0s 2ms/step - loss: 49.4226 - mean_squared_error: 3898.7170 - val_loss: 48.1340 - val_mean_squared_error: 3745.1670\n",
            "Epoch 95/500\n",
            "211/211 [==============================] - 0s 2ms/step - loss: 48.8466 - mean_squared_error: 3820.2820 - val_loss: 47.5643 - val_mean_squared_error: 3667.6633\n",
            "Epoch 96/500\n",
            "211/211 [==============================] - 0s 2ms/step - loss: 48.3203 - mean_squared_error: 3746.7087 - val_loss: 47.0267 - val_mean_squared_error: 3595.8135\n",
            "Epoch 97/500\n",
            "211/211 [==============================] - 0s 2ms/step - loss: 47.8098 - mean_squared_error: 3676.2412 - val_loss: 46.4835 - val_mean_squared_error: 3523.8684\n",
            "Epoch 98/500\n",
            "211/211 [==============================] - 0s 2ms/step - loss: 47.3174 - mean_squared_error: 3607.0754 - val_loss: 46.0086 - val_mean_squared_error: 3456.1926\n",
            "Epoch 99/500\n",
            "211/211 [==============================] - 0s 2ms/step - loss: 46.8432 - mean_squared_error: 3541.2961 - val_loss: 45.5822 - val_mean_squared_error: 3391.8433\n",
            "Epoch 100/500\n",
            "211/211 [==============================] - 0s 2ms/step - loss: 46.3804 - mean_squared_error: 3477.3518 - val_loss: 45.1680 - val_mean_squared_error: 3328.2141\n",
            "Epoch 101/500\n",
            "211/211 [==============================] - 0s 2ms/step - loss: 45.9592 - mean_squared_error: 3417.8154 - val_loss: 44.7654 - val_mean_squared_error: 3267.5056\n",
            "Epoch 102/500\n",
            "211/211 [==============================] - 0s 2ms/step - loss: 45.5491 - mean_squared_error: 3358.0544 - val_loss: 44.3816 - val_mean_squared_error: 3210.7358\n",
            "Epoch 103/500\n",
            "211/211 [==============================] - 0s 2ms/step - loss: 45.1602 - mean_squared_error: 3302.0593 - val_loss: 44.0083 - val_mean_squared_error: 3156.5959\n",
            "Epoch 104/500\n",
            "211/211 [==============================] - 0s 2ms/step - loss: 44.7954 - mean_squared_error: 3250.2224 - val_loss: 43.6269 - val_mean_squared_error: 3102.4663\n",
            "Epoch 105/500\n",
            "211/211 [==============================] - 0s 2ms/step - loss: 44.4335 - mean_squared_error: 3196.7117 - val_loss: 43.2455 - val_mean_squared_error: 3049.8552\n",
            "Epoch 106/500\n",
            "211/211 [==============================] - 0s 2ms/step - loss: 44.0811 - mean_squared_error: 3145.9712 - val_loss: 42.8811 - val_mean_squared_error: 3001.4133\n",
            "Epoch 107/500\n",
            "211/211 [==============================] - 0s 2ms/step - loss: 43.7446 - mean_squared_error: 3097.6899 - val_loss: 42.4944 - val_mean_squared_error: 2950.6370\n",
            "Epoch 108/500\n",
            "211/211 [==============================] - 0s 2ms/step - loss: 43.3894 - mean_squared_error: 3050.7681 - val_loss: 42.1463 - val_mean_squared_error: 2904.8936\n",
            "Epoch 109/500\n",
            "211/211 [==============================] - 0s 2ms/step - loss: 43.0171 - mean_squared_error: 3003.1379 - val_loss: 41.7827 - val_mean_squared_error: 2857.7451\n",
            "Epoch 110/500\n",
            "211/211 [==============================] - 0s 2ms/step - loss: 42.6262 - mean_squared_error: 2954.0374 - val_loss: 41.3548 - val_mean_squared_error: 2810.4468\n",
            "Epoch 111/500\n",
            "211/211 [==============================] - 0s 2ms/step - loss: 42.1810 - mean_squared_error: 2907.2014 - val_loss: 40.8493 - val_mean_squared_error: 2760.8157\n",
            "Epoch 112/500\n",
            "211/211 [==============================] - 0s 2ms/step - loss: 41.6398 - mean_squared_error: 2859.2046 - val_loss: 40.1968 - val_mean_squared_error: 2712.7610\n",
            "Epoch 113/500\n",
            "211/211 [==============================] - 0s 2ms/step - loss: 41.1089 - mean_squared_error: 2810.9380 - val_loss: 39.6190 - val_mean_squared_error: 2668.1904\n",
            "Epoch 114/500\n",
            "211/211 [==============================] - 0s 2ms/step - loss: 40.7075 - mean_squared_error: 2766.6638 - val_loss: 39.2083 - val_mean_squared_error: 2624.2703\n",
            "Epoch 115/500\n",
            "211/211 [==============================] - 0s 2ms/step - loss: 40.2769 - mean_squared_error: 2724.4446 - val_loss: 38.8773 - val_mean_squared_error: 2580.3687\n",
            "Epoch 116/500\n",
            "211/211 [==============================] - 0s 2ms/step - loss: 39.8943 - mean_squared_error: 2682.4314 - val_loss: 38.5558 - val_mean_squared_error: 2539.7092\n",
            "Epoch 117/500\n",
            "211/211 [==============================] - 0s 2ms/step - loss: 39.5613 - mean_squared_error: 2641.2981 - val_loss: 38.2426 - val_mean_squared_error: 2502.9370\n",
            "Epoch 118/500\n",
            "211/211 [==============================] - 0s 2ms/step - loss: 39.2548 - mean_squared_error: 2601.0906 - val_loss: 37.9183 - val_mean_squared_error: 2462.5327\n",
            "Epoch 119/500\n",
            "211/211 [==============================] - 0s 2ms/step - loss: 38.9617 - mean_squared_error: 2564.0496 - val_loss: 37.6041 - val_mean_squared_error: 2423.3435\n",
            "Epoch 120/500\n",
            "211/211 [==============================] - 0s 2ms/step - loss: 38.6731 - mean_squared_error: 2526.5518 - val_loss: 37.2960 - val_mean_squared_error: 2385.4485\n",
            "Epoch 121/500\n",
            "211/211 [==============================] - 1s 5ms/step - loss: 38.3967 - mean_squared_error: 2489.1975 - val_loss: 37.0070 - val_mean_squared_error: 2349.5771\n",
            "Epoch 122/500\n",
            "211/211 [==============================] - 0s 2ms/step - loss: 38.1239 - mean_squared_error: 2456.4739 - val_loss: 36.7339 - val_mean_squared_error: 2313.8784\n",
            "Epoch 123/500\n",
            "211/211 [==============================] - 0s 2ms/step - loss: 37.8517 - mean_squared_error: 2419.8713 - val_loss: 36.4328 - val_mean_squared_error: 2280.1406\n",
            "Epoch 124/500\n",
            "211/211 [==============================] - 1s 4ms/step - loss: 37.6002 - mean_squared_error: 2387.8003 - val_loss: 36.1203 - val_mean_squared_error: 2247.8499\n",
            "Epoch 125/500\n",
            "211/211 [==============================] - 0s 2ms/step - loss: 37.3457 - mean_squared_error: 2356.4043 - val_loss: 35.7976 - val_mean_squared_error: 2214.5889\n",
            "Epoch 126/500\n",
            "211/211 [==============================] - 0s 2ms/step - loss: 37.0801 - mean_squared_error: 2324.0540 - val_loss: 35.5090 - val_mean_squared_error: 2183.3071\n",
            "Epoch 127/500\n",
            "211/211 [==============================] - 0s 2ms/step - loss: 36.8314 - mean_squared_error: 2292.7676 - val_loss: 35.1997 - val_mean_squared_error: 2151.1199\n",
            "Epoch 128/500\n",
            "211/211 [==============================] - 0s 2ms/step - loss: 36.5818 - mean_squared_error: 2262.4517 - val_loss: 34.8841 - val_mean_squared_error: 2119.9653\n",
            "Epoch 129/500\n",
            "211/211 [==============================] - 0s 2ms/step - loss: 36.3162 - mean_squared_error: 2233.9678 - val_loss: 34.5627 - val_mean_squared_error: 2090.1804\n",
            "Epoch 130/500\n",
            "211/211 [==============================] - 0s 2ms/step - loss: 36.0487 - mean_squared_error: 2203.6157 - val_loss: 34.2169 - val_mean_squared_error: 2059.5640\n",
            "Epoch 131/500\n",
            "211/211 [==============================] - 0s 2ms/step - loss: 35.7697 - mean_squared_error: 2174.0996 - val_loss: 33.8917 - val_mean_squared_error: 2028.5001\n",
            "Epoch 132/500\n",
            "211/211 [==============================] - 1s 2ms/step - loss: 35.4799 - mean_squared_error: 2145.8604 - val_loss: 33.5803 - val_mean_squared_error: 1999.8912\n",
            "Epoch 133/500\n",
            "211/211 [==============================] - 0s 2ms/step - loss: 35.1706 - mean_squared_error: 2116.1458 - val_loss: 33.2352 - val_mean_squared_error: 1969.4224\n",
            "Epoch 134/500\n",
            "211/211 [==============================] - 0s 2ms/step - loss: 34.8654 - mean_squared_error: 2088.6184 - val_loss: 32.8998 - val_mean_squared_error: 1941.2081\n",
            "Epoch 135/500\n",
            "211/211 [==============================] - 0s 2ms/step - loss: 34.5533 - mean_squared_error: 2058.5273 - val_loss: 32.5884 - val_mean_squared_error: 1911.8359\n",
            "Epoch 136/500\n",
            "211/211 [==============================] - 0s 2ms/step - loss: 34.2389 - mean_squared_error: 2031.4091 - val_loss: 32.2723 - val_mean_squared_error: 1883.5791\n",
            "Epoch 137/500\n",
            "211/211 [==============================] - 0s 2ms/step - loss: 33.9424 - mean_squared_error: 2002.6978 - val_loss: 31.9362 - val_mean_squared_error: 1855.2782\n",
            "Epoch 138/500\n",
            "211/211 [==============================] - 0s 2ms/step - loss: 33.6615 - mean_squared_error: 1973.5457 - val_loss: 31.5767 - val_mean_squared_error: 1825.0403\n",
            "Epoch 139/500\n",
            "211/211 [==============================] - 0s 2ms/step - loss: 33.3744 - mean_squared_error: 1944.9005 - val_loss: 31.2357 - val_mean_squared_error: 1797.3456\n",
            "Epoch 140/500\n",
            "211/211 [==============================] - 0s 2ms/step - loss: 33.0844 - mean_squared_error: 1916.6227 - val_loss: 30.8781 - val_mean_squared_error: 1768.1335\n",
            "Epoch 141/500\n",
            "211/211 [==============================] - 0s 2ms/step - loss: 32.8110 - mean_squared_error: 1890.2155 - val_loss: 30.5417 - val_mean_squared_error: 1742.1564\n",
            "Epoch 142/500\n",
            "211/211 [==============================] - 0s 2ms/step - loss: 32.5464 - mean_squared_error: 1861.8251 - val_loss: 30.1878 - val_mean_squared_error: 1714.5841\n",
            "Epoch 143/500\n",
            "211/211 [==============================] - 0s 2ms/step - loss: 32.2721 - mean_squared_error: 1834.4993 - val_loss: 29.8271 - val_mean_squared_error: 1686.5818\n",
            "Epoch 144/500\n",
            "211/211 [==============================] - 0s 2ms/step - loss: 31.9972 - mean_squared_error: 1809.9159 - val_loss: 29.5053 - val_mean_squared_error: 1662.4031\n",
            "Epoch 145/500\n",
            "211/211 [==============================] - 0s 2ms/step - loss: 31.7246 - mean_squared_error: 1783.1123 - val_loss: 29.1879 - val_mean_squared_error: 1637.1991\n",
            "Epoch 146/500\n",
            "211/211 [==============================] - 0s 2ms/step - loss: 31.4624 - mean_squared_error: 1756.7943 - val_loss: 28.8814 - val_mean_squared_error: 1612.0480\n",
            "Epoch 147/500\n",
            "211/211 [==============================] - 0s 2ms/step - loss: 31.2026 - mean_squared_error: 1732.6334 - val_loss: 28.5746 - val_mean_squared_error: 1587.5190\n",
            "Epoch 148/500\n",
            "211/211 [==============================] - 0s 2ms/step - loss: 30.9409 - mean_squared_error: 1707.8665 - val_loss: 28.2788 - val_mean_squared_error: 1564.0044\n",
            "Epoch 149/500\n",
            "211/211 [==============================] - 0s 2ms/step - loss: 30.6809 - mean_squared_error: 1683.5974 - val_loss: 27.9987 - val_mean_squared_error: 1540.7007\n",
            "Epoch 150/500\n",
            "211/211 [==============================] - 0s 2ms/step - loss: 30.4235 - mean_squared_error: 1658.6906 - val_loss: 27.7293 - val_mean_squared_error: 1516.3763\n",
            "Epoch 151/500\n",
            "211/211 [==============================] - 0s 2ms/step - loss: 30.1724 - mean_squared_error: 1638.3975 - val_loss: 27.5222 - val_mean_squared_error: 1496.9048\n",
            "Epoch 152/500\n",
            "211/211 [==============================] - 0s 2ms/step - loss: 29.9224 - mean_squared_error: 1614.7888 - val_loss: 27.2671 - val_mean_squared_error: 1474.5804\n",
            "Epoch 153/500\n",
            "211/211 [==============================] - 0s 2ms/step - loss: 29.6743 - mean_squared_error: 1591.2632 - val_loss: 27.0131 - val_mean_squared_error: 1452.6959\n",
            "Epoch 154/500\n",
            "211/211 [==============================] - 0s 2ms/step - loss: 29.4308 - mean_squared_error: 1570.1993 - val_loss: 26.7869 - val_mean_squared_error: 1432.4606\n",
            "Epoch 155/500\n",
            "211/211 [==============================] - 0s 2ms/step - loss: 29.1932 - mean_squared_error: 1548.1121 - val_loss: 26.5548 - val_mean_squared_error: 1412.2383\n",
            "Epoch 156/500\n",
            "211/211 [==============================] - 0s 2ms/step - loss: 28.9559 - mean_squared_error: 1526.9242 - val_loss: 26.3285 - val_mean_squared_error: 1393.1925\n",
            "Epoch 157/500\n",
            "211/211 [==============================] - 0s 2ms/step - loss: 28.7267 - mean_squared_error: 1505.8550 - val_loss: 26.0968 - val_mean_squared_error: 1373.4093\n",
            "Epoch 158/500\n",
            "211/211 [==============================] - 0s 2ms/step - loss: 28.4956 - mean_squared_error: 1485.5908 - val_loss: 25.8741 - val_mean_squared_error: 1355.1136\n",
            "Epoch 159/500\n",
            "211/211 [==============================] - 0s 2ms/step - loss: 28.2585 - mean_squared_error: 1465.0623 - val_loss: 25.6418 - val_mean_squared_error: 1335.9915\n",
            "Epoch 160/500\n",
            "211/211 [==============================] - 0s 2ms/step - loss: 28.0300 - mean_squared_error: 1445.1943 - val_loss: 25.4086 - val_mean_squared_error: 1316.9246\n",
            "Epoch 161/500\n",
            "211/211 [==============================] - 0s 2ms/step - loss: 27.8046 - mean_squared_error: 1424.7107 - val_loss: 25.2045 - val_mean_squared_error: 1298.7228\n",
            "Epoch 162/500\n",
            "211/211 [==============================] - 0s 2ms/step - loss: 27.5808 - mean_squared_error: 1406.6213 - val_loss: 25.0077 - val_mean_squared_error: 1281.7673\n",
            "Epoch 163/500\n",
            "211/211 [==============================] - 0s 2ms/step - loss: 27.3559 - mean_squared_error: 1386.5828 - val_loss: 24.7910 - val_mean_squared_error: 1263.2844\n",
            "Epoch 164/500\n",
            "211/211 [==============================] - 0s 2ms/step - loss: 27.1300 - mean_squared_error: 1367.5623 - val_loss: 24.5865 - val_mean_squared_error: 1245.7766\n",
            "Epoch 165/500\n",
            "211/211 [==============================] - 0s 2ms/step - loss: 26.9067 - mean_squared_error: 1348.9739 - val_loss: 24.3792 - val_mean_squared_error: 1228.3881\n",
            "Epoch 166/500\n",
            "211/211 [==============================] - 0s 2ms/step - loss: 26.6879 - mean_squared_error: 1330.5630 - val_loss: 24.1795 - val_mean_squared_error: 1211.8146\n",
            "Epoch 167/500\n",
            "211/211 [==============================] - 0s 2ms/step - loss: 26.4784 - mean_squared_error: 1312.6029 - val_loss: 23.9943 - val_mean_squared_error: 1196.9845\n",
            "Epoch 168/500\n",
            "211/211 [==============================] - 0s 2ms/step - loss: 26.2693 - mean_squared_error: 1295.5200 - val_loss: 23.8086 - val_mean_squared_error: 1181.6477\n",
            "Epoch 169/500\n",
            "211/211 [==============================] - 0s 2ms/step - loss: 26.0567 - mean_squared_error: 1278.5751 - val_loss: 23.6117 - val_mean_squared_error: 1165.6194\n",
            "Epoch 170/500\n",
            "211/211 [==============================] - 0s 2ms/step - loss: 25.8463 - mean_squared_error: 1259.8173 - val_loss: 23.4181 - val_mean_squared_error: 1150.0863\n",
            "Epoch 171/500\n",
            "211/211 [==============================] - 0s 2ms/step - loss: 25.6306 - mean_squared_error: 1243.9718 - val_loss: 23.2316 - val_mean_squared_error: 1135.3751\n",
            "Epoch 172/500\n",
            "211/211 [==============================] - 0s 2ms/step - loss: 25.4190 - mean_squared_error: 1227.5815 - val_loss: 23.0388 - val_mean_squared_error: 1120.4810\n",
            "Epoch 173/500\n",
            "211/211 [==============================] - 1s 2ms/step - loss: 25.2160 - mean_squared_error: 1211.4453 - val_loss: 22.8482 - val_mean_squared_error: 1105.6998\n",
            "Epoch 174/500\n",
            "211/211 [==============================] - 1s 2ms/step - loss: 25.0109 - mean_squared_error: 1194.9445 - val_loss: 22.6425 - val_mean_squared_error: 1090.1033\n",
            "Epoch 175/500\n",
            "211/211 [==============================] - 0s 2ms/step - loss: 24.8065 - mean_squared_error: 1178.4208 - val_loss: 22.4438 - val_mean_squared_error: 1075.2646\n",
            "Epoch 176/500\n",
            "211/211 [==============================] - 0s 2ms/step - loss: 24.6010 - mean_squared_error: 1162.3433 - val_loss: 22.2594 - val_mean_squared_error: 1061.4368\n",
            "Epoch 177/500\n",
            "211/211 [==============================] - 0s 2ms/step - loss: 24.3954 - mean_squared_error: 1147.2257 - val_loss: 22.0930 - val_mean_squared_error: 1048.5349\n",
            "Epoch 178/500\n",
            "211/211 [==============================] - 0s 2ms/step - loss: 24.1869 - mean_squared_error: 1132.3151 - val_loss: 21.9183 - val_mean_squared_error: 1035.1421\n",
            "Epoch 179/500\n",
            "211/211 [==============================] - 0s 2ms/step - loss: 23.9896 - mean_squared_error: 1116.2164 - val_loss: 21.7740 - val_mean_squared_error: 1021.7000\n",
            "Epoch 180/500\n",
            "211/211 [==============================] - 0s 2ms/step - loss: 23.7899 - mean_squared_error: 1102.4281 - val_loss: 21.5848 - val_mean_squared_error: 1007.6016\n",
            "Epoch 181/500\n",
            "211/211 [==============================] - 0s 2ms/step - loss: 23.5960 - mean_squared_error: 1087.9269 - val_loss: 21.4232 - val_mean_squared_error: 994.5469\n",
            "Epoch 182/500\n",
            "211/211 [==============================] - 0s 2ms/step - loss: 23.3953 - mean_squared_error: 1073.1548 - val_loss: 21.2808 - val_mean_squared_error: 982.1295\n",
            "Epoch 183/500\n",
            "211/211 [==============================] - 0s 2ms/step - loss: 23.1971 - mean_squared_error: 1059.5548 - val_loss: 21.1130 - val_mean_squared_error: 969.1006\n",
            "Epoch 184/500\n",
            "211/211 [==============================] - 0s 2ms/step - loss: 23.0010 - mean_squared_error: 1045.9552 - val_loss: 20.9478 - val_mean_squared_error: 957.0823\n",
            "Epoch 185/500\n",
            "211/211 [==============================] - 1s 3ms/step - loss: 22.8124 - mean_squared_error: 1031.9387 - val_loss: 20.7931 - val_mean_squared_error: 945.1382\n",
            "Epoch 186/500\n",
            "211/211 [==============================] - 1s 4ms/step - loss: 22.6292 - mean_squared_error: 1018.8452 - val_loss: 20.6182 - val_mean_squared_error: 932.7235\n",
            "Epoch 187/500\n",
            "211/211 [==============================] - 1s 5ms/step - loss: 22.4470 - mean_squared_error: 1005.5312 - val_loss: 20.4679 - val_mean_squared_error: 922.0003\n",
            "Epoch 188/500\n",
            "211/211 [==============================] - 1s 6ms/step - loss: 22.2678 - mean_squared_error: 994.0584 - val_loss: 20.3096 - val_mean_squared_error: 911.2737\n",
            "Epoch 189/500\n",
            "211/211 [==============================] - 1s 3ms/step - loss: 22.0946 - mean_squared_error: 981.6805 - val_loss: 20.1466 - val_mean_squared_error: 900.0620\n",
            "Epoch 190/500\n",
            "211/211 [==============================] - 1s 3ms/step - loss: 21.9165 - mean_squared_error: 968.8034 - val_loss: 19.9837 - val_mean_squared_error: 889.1016\n",
            "Epoch 191/500\n",
            "211/211 [==============================] - 1s 6ms/step - loss: 21.7337 - mean_squared_error: 957.1755 - val_loss: 19.8210 - val_mean_squared_error: 877.9800\n",
            "Epoch 192/500\n",
            "211/211 [==============================] - 1s 4ms/step - loss: 21.5515 - mean_squared_error: 944.6459 - val_loss: 19.6659 - val_mean_squared_error: 867.0295\n",
            "Epoch 193/500\n",
            "211/211 [==============================] - 1s 4ms/step - loss: 21.3744 - mean_squared_error: 933.2900 - val_loss: 19.5328 - val_mean_squared_error: 857.7325\n",
            "Epoch 194/500\n",
            "211/211 [==============================] - 1s 5ms/step - loss: 21.2012 - mean_squared_error: 921.9450 - val_loss: 19.3650 - val_mean_squared_error: 847.1895\n",
            "Epoch 195/500\n",
            "211/211 [==============================] - 1s 3ms/step - loss: 21.0232 - mean_squared_error: 910.6611 - val_loss: 19.2053 - val_mean_squared_error: 837.2205\n",
            "Epoch 196/500\n",
            "211/211 [==============================] - 1s 3ms/step - loss: 20.8450 - mean_squared_error: 898.8614 - val_loss: 19.0221 - val_mean_squared_error: 826.6157\n",
            "Epoch 197/500\n",
            "211/211 [==============================] - 1s 3ms/step - loss: 20.6647 - mean_squared_error: 887.3278 - val_loss: 18.8801 - val_mean_squared_error: 817.7892\n",
            "Epoch 198/500\n",
            "211/211 [==============================] - 1s 3ms/step - loss: 20.4830 - mean_squared_error: 876.3788 - val_loss: 18.7150 - val_mean_squared_error: 807.5383\n",
            "Epoch 199/500\n",
            "211/211 [==============================] - 1s 3ms/step - loss: 20.3101 - mean_squared_error: 866.2767 - val_loss: 18.5663 - val_mean_squared_error: 798.6835\n",
            "Epoch 200/500\n",
            "211/211 [==============================] - 1s 3ms/step - loss: 20.1356 - mean_squared_error: 855.6078 - val_loss: 18.4011 - val_mean_squared_error: 790.0269\n",
            "Epoch 201/500\n",
            "211/211 [==============================] - 1s 6ms/step - loss: 19.9724 - mean_squared_error: 845.6902 - val_loss: 18.2589 - val_mean_squared_error: 781.7909\n",
            "Epoch 202/500\n",
            "211/211 [==============================] - 1s 4ms/step - loss: 19.8071 - mean_squared_error: 835.6552 - val_loss: 18.0933 - val_mean_squared_error: 773.0999\n",
            "Epoch 203/500\n",
            "211/211 [==============================] - 1s 3ms/step - loss: 19.6492 - mean_squared_error: 827.4736 - val_loss: 17.9395 - val_mean_squared_error: 765.7447\n",
            "Epoch 204/500\n",
            "211/211 [==============================] - 1s 3ms/step - loss: 19.4850 - mean_squared_error: 816.9895 - val_loss: 17.7603 - val_mean_squared_error: 756.5522\n",
            "Epoch 205/500\n",
            "211/211 [==============================] - 0s 2ms/step - loss: 19.3218 - mean_squared_error: 808.0395 - val_loss: 17.6233 - val_mean_squared_error: 749.3290\n",
            "Epoch 206/500\n",
            "211/211 [==============================] - 0s 2ms/step - loss: 19.1597 - mean_squared_error: 799.1392 - val_loss: 17.4788 - val_mean_squared_error: 741.5316\n",
            "Epoch 207/500\n",
            "211/211 [==============================] - 0s 2ms/step - loss: 18.9934 - mean_squared_error: 790.4019 - val_loss: 17.3245 - val_mean_squared_error: 733.0904\n",
            "Epoch 208/500\n",
            "211/211 [==============================] - 0s 2ms/step - loss: 18.8330 - mean_squared_error: 780.0829 - val_loss: 17.1912 - val_mean_squared_error: 724.8597\n",
            "Epoch 209/500\n",
            "211/211 [==============================] - 0s 2ms/step - loss: 18.6697 - mean_squared_error: 772.0641 - val_loss: 17.0684 - val_mean_squared_error: 717.6573\n",
            "Epoch 210/500\n",
            "211/211 [==============================] - 0s 2ms/step - loss: 18.5058 - mean_squared_error: 762.7791 - val_loss: 16.9175 - val_mean_squared_error: 709.4987\n",
            "Epoch 211/500\n",
            "211/211 [==============================] - 0s 2ms/step - loss: 18.3463 - mean_squared_error: 753.6503 - val_loss: 16.7860 - val_mean_squared_error: 702.0233\n",
            "Epoch 212/500\n",
            "211/211 [==============================] - 0s 2ms/step - loss: 18.1892 - mean_squared_error: 745.7639 - val_loss: 16.6551 - val_mean_squared_error: 694.6679\n",
            "Epoch 213/500\n",
            "211/211 [==============================] - 0s 2ms/step - loss: 18.0312 - mean_squared_error: 737.0970 - val_loss: 16.5103 - val_mean_squared_error: 687.3370\n",
            "Epoch 214/500\n",
            "211/211 [==============================] - 0s 2ms/step - loss: 17.8725 - mean_squared_error: 728.3253 - val_loss: 16.3863 - val_mean_squared_error: 680.0308\n",
            "Epoch 215/500\n",
            "211/211 [==============================] - 0s 2ms/step - loss: 17.7071 - mean_squared_error: 720.5269 - val_loss: 16.2436 - val_mean_squared_error: 672.4995\n",
            "Epoch 216/500\n",
            "211/211 [==============================] - 0s 2ms/step - loss: 17.5400 - mean_squared_error: 712.1511 - val_loss: 16.1103 - val_mean_squared_error: 664.9019\n",
            "Epoch 217/500\n",
            "211/211 [==============================] - 0s 2ms/step - loss: 17.3784 - mean_squared_error: 704.6002 - val_loss: 15.9800 - val_mean_squared_error: 657.5236\n",
            "Epoch 218/500\n",
            "211/211 [==============================] - 0s 2ms/step - loss: 17.2144 - mean_squared_error: 695.7842 - val_loss: 15.8551 - val_mean_squared_error: 650.3450\n",
            "Epoch 219/500\n",
            "211/211 [==============================] - 0s 2ms/step - loss: 17.0501 - mean_squared_error: 687.2455 - val_loss: 15.7675 - val_mean_squared_error: 643.5302\n",
            "Epoch 220/500\n",
            "211/211 [==============================] - 0s 2ms/step - loss: 16.8980 - mean_squared_error: 679.2982 - val_loss: 15.6122 - val_mean_squared_error: 635.7866\n",
            "Epoch 221/500\n",
            "211/211 [==============================] - 0s 2ms/step - loss: 16.7595 - mean_squared_error: 671.7962 - val_loss: 15.4941 - val_mean_squared_error: 628.9026\n",
            "Epoch 222/500\n",
            "211/211 [==============================] - 0s 2ms/step - loss: 16.6251 - mean_squared_error: 664.2516 - val_loss: 15.3585 - val_mean_squared_error: 621.9262\n",
            "Epoch 223/500\n",
            "211/211 [==============================] - 0s 2ms/step - loss: 16.4968 - mean_squared_error: 656.1950 - val_loss: 15.2502 - val_mean_squared_error: 614.9162\n",
            "Epoch 224/500\n",
            "211/211 [==============================] - 0s 2ms/step - loss: 16.3720 - mean_squared_error: 649.0801 - val_loss: 15.1225 - val_mean_squared_error: 608.2123\n",
            "Epoch 225/500\n",
            "211/211 [==============================] - 0s 2ms/step - loss: 16.2425 - mean_squared_error: 641.0786 - val_loss: 14.9994 - val_mean_squared_error: 600.6603\n",
            "Epoch 226/500\n",
            "211/211 [==============================] - 0s 2ms/step - loss: 16.1160 - mean_squared_error: 632.9808 - val_loss: 14.8968 - val_mean_squared_error: 594.0428\n",
            "Epoch 227/500\n",
            "211/211 [==============================] - 0s 2ms/step - loss: 15.9992 - mean_squared_error: 626.0189 - val_loss: 14.7667 - val_mean_squared_error: 587.2205\n",
            "Epoch 228/500\n",
            "211/211 [==============================] - 0s 2ms/step - loss: 15.8720 - mean_squared_error: 618.3324 - val_loss: 14.6165 - val_mean_squared_error: 579.3806\n",
            "Epoch 229/500\n",
            "211/211 [==============================] - 0s 2ms/step - loss: 15.7580 - mean_squared_error: 610.3024 - val_loss: 14.4935 - val_mean_squared_error: 572.4269\n",
            "Epoch 230/500\n",
            "211/211 [==============================] - 0s 2ms/step - loss: 15.6444 - mean_squared_error: 602.5871 - val_loss: 14.3804 - val_mean_squared_error: 565.6252\n",
            "Epoch 231/500\n",
            "211/211 [==============================] - 0s 2ms/step - loss: 15.5290 - mean_squared_error: 597.0629 - val_loss: 14.2640 - val_mean_squared_error: 559.7116\n",
            "Epoch 232/500\n",
            "211/211 [==============================] - 0s 2ms/step - loss: 15.4246 - mean_squared_error: 589.3760 - val_loss: 14.1621 - val_mean_squared_error: 553.3769\n",
            "Epoch 233/500\n",
            "211/211 [==============================] - 0s 2ms/step - loss: 15.3139 - mean_squared_error: 582.8237 - val_loss: 14.0644 - val_mean_squared_error: 547.0916\n",
            "Epoch 234/500\n",
            "211/211 [==============================] - 0s 2ms/step - loss: 15.2031 - mean_squared_error: 576.1646 - val_loss: 13.9900 - val_mean_squared_error: 541.3491\n",
            "Epoch 235/500\n",
            "211/211 [==============================] - 0s 2ms/step - loss: 15.0917 - mean_squared_error: 568.6889 - val_loss: 13.8788 - val_mean_squared_error: 534.6016\n",
            "Epoch 236/500\n",
            "211/211 [==============================] - 0s 2ms/step - loss: 14.9864 - mean_squared_error: 561.8234 - val_loss: 13.7647 - val_mean_squared_error: 528.1218\n",
            "Epoch 237/500\n",
            "211/211 [==============================] - 0s 2ms/step - loss: 14.8835 - mean_squared_error: 555.2147 - val_loss: 13.6343 - val_mean_squared_error: 521.6862\n",
            "Epoch 238/500\n",
            "211/211 [==============================] - 0s 2ms/step - loss: 14.7800 - mean_squared_error: 549.1410 - val_loss: 13.5212 - val_mean_squared_error: 515.5563\n",
            "Epoch 239/500\n",
            "211/211 [==============================] - 1s 3ms/step - loss: 14.6809 - mean_squared_error: 542.5911 - val_loss: 13.4360 - val_mean_squared_error: 510.3299\n",
            "Epoch 240/500\n",
            "211/211 [==============================] - 0s 2ms/step - loss: 14.5853 - mean_squared_error: 536.9490 - val_loss: 13.3428 - val_mean_squared_error: 504.8302\n",
            "Epoch 241/500\n",
            "211/211 [==============================] - 0s 2ms/step - loss: 14.4900 - mean_squared_error: 530.2894 - val_loss: 13.2329 - val_mean_squared_error: 498.6272\n",
            "Epoch 242/500\n",
            "211/211 [==============================] - 0s 2ms/step - loss: 14.4018 - mean_squared_error: 525.5817 - val_loss: 13.1368 - val_mean_squared_error: 492.9226\n",
            "Epoch 243/500\n",
            "211/211 [==============================] - 0s 2ms/step - loss: 14.3059 - mean_squared_error: 518.7288 - val_loss: 13.0424 - val_mean_squared_error: 487.5577\n",
            "Epoch 244/500\n",
            "211/211 [==============================] - 1s 2ms/step - loss: 14.2103 - mean_squared_error: 512.2067 - val_loss: 12.9527 - val_mean_squared_error: 481.4499\n",
            "Epoch 245/500\n",
            "211/211 [==============================] - 0s 2ms/step - loss: 14.1162 - mean_squared_error: 506.7863 - val_loss: 12.8596 - val_mean_squared_error: 476.2955\n",
            "Epoch 246/500\n",
            "211/211 [==============================] - 0s 2ms/step - loss: 14.0240 - mean_squared_error: 500.9304 - val_loss: 12.7432 - val_mean_squared_error: 470.0463\n",
            "Epoch 247/500\n",
            "211/211 [==============================] - 0s 2ms/step - loss: 13.9305 - mean_squared_error: 494.7679 - val_loss: 12.6549 - val_mean_squared_error: 464.9323\n",
            "Epoch 248/500\n",
            "211/211 [==============================] - 0s 2ms/step - loss: 13.8496 - mean_squared_error: 490.2573 - val_loss: 12.5552 - val_mean_squared_error: 459.5739\n",
            "Epoch 249/500\n",
            "211/211 [==============================] - 0s 2ms/step - loss: 13.7638 - mean_squared_error: 484.5747 - val_loss: 12.4767 - val_mean_squared_error: 454.7373\n",
            "Epoch 250/500\n",
            "211/211 [==============================] - 0s 2ms/step - loss: 13.6811 - mean_squared_error: 478.9293 - val_loss: 12.3888 - val_mean_squared_error: 449.2975\n",
            "Epoch 251/500\n",
            "211/211 [==============================] - 0s 2ms/step - loss: 13.5985 - mean_squared_error: 473.8368 - val_loss: 12.3327 - val_mean_squared_error: 445.3522\n",
            "Epoch 252/500\n",
            "211/211 [==============================] - 0s 2ms/step - loss: 13.5218 - mean_squared_error: 469.7268 - val_loss: 12.2479 - val_mean_squared_error: 440.4780\n",
            "Epoch 253/500\n",
            "211/211 [==============================] - 0s 2ms/step - loss: 13.4475 - mean_squared_error: 464.5288 - val_loss: 12.1643 - val_mean_squared_error: 435.3741\n",
            "Epoch 254/500\n",
            "211/211 [==============================] - 1s 2ms/step - loss: 13.3697 - mean_squared_error: 459.6851 - val_loss: 12.0951 - val_mean_squared_error: 431.2493\n",
            "Epoch 255/500\n",
            "211/211 [==============================] - 0s 2ms/step - loss: 13.2865 - mean_squared_error: 454.3871 - val_loss: 11.9950 - val_mean_squared_error: 425.9765\n",
            "Epoch 256/500\n",
            "211/211 [==============================] - 0s 2ms/step - loss: 13.2140 - mean_squared_error: 449.8994 - val_loss: 11.9295 - val_mean_squared_error: 421.7891\n",
            "Epoch 257/500\n",
            "211/211 [==============================] - 0s 2ms/step - loss: 13.1328 - mean_squared_error: 445.4264 - val_loss: 11.8408 - val_mean_squared_error: 417.3153\n",
            "Epoch 258/500\n",
            "211/211 [==============================] - 0s 2ms/step - loss: 13.0491 - mean_squared_error: 440.4678 - val_loss: 11.7618 - val_mean_squared_error: 412.7875\n",
            "Epoch 259/500\n",
            "211/211 [==============================] - 0s 2ms/step - loss: 12.9812 - mean_squared_error: 435.4368 - val_loss: 11.6766 - val_mean_squared_error: 408.3914\n",
            "Epoch 260/500\n",
            "211/211 [==============================] - 0s 2ms/step - loss: 12.9000 - mean_squared_error: 431.6668 - val_loss: 11.5889 - val_mean_squared_error: 404.5852\n",
            "Epoch 261/500\n",
            "211/211 [==============================] - 0s 2ms/step - loss: 12.8267 - mean_squared_error: 426.5178 - val_loss: 11.5034 - val_mean_squared_error: 400.5166\n",
            "Epoch 262/500\n",
            "211/211 [==============================] - 0s 2ms/step - loss: 12.7521 - mean_squared_error: 422.9591 - val_loss: 11.4213 - val_mean_squared_error: 396.8181\n",
            "Epoch 263/500\n",
            "211/211 [==============================] - 0s 2ms/step - loss: 12.6862 - mean_squared_error: 418.9177 - val_loss: 11.3529 - val_mean_squared_error: 393.3823\n",
            "Epoch 264/500\n",
            "211/211 [==============================] - 0s 2ms/step - loss: 12.6142 - mean_squared_error: 415.5693 - val_loss: 11.2925 - val_mean_squared_error: 389.9386\n",
            "Epoch 265/500\n",
            "211/211 [==============================] - 0s 2ms/step - loss: 12.5432 - mean_squared_error: 411.2905 - val_loss: 11.2268 - val_mean_squared_error: 385.9777\n",
            "Epoch 266/500\n",
            "211/211 [==============================] - 0s 2ms/step - loss: 12.4650 - mean_squared_error: 407.0034 - val_loss: 11.1633 - val_mean_squared_error: 382.4414\n",
            "Epoch 267/500\n",
            "211/211 [==============================] - 0s 2ms/step - loss: 12.3910 - mean_squared_error: 403.4054 - val_loss: 11.0910 - val_mean_squared_error: 378.8776\n",
            "Epoch 268/500\n",
            "211/211 [==============================] - 0s 2ms/step - loss: 12.3114 - mean_squared_error: 398.8414 - val_loss: 11.0267 - val_mean_squared_error: 375.1228\n",
            "Epoch 269/500\n",
            "211/211 [==============================] - 0s 2ms/step - loss: 12.2322 - mean_squared_error: 394.6267 - val_loss: 10.9669 - val_mean_squared_error: 371.6960\n",
            "Epoch 270/500\n",
            "211/211 [==============================] - 0s 2ms/step - loss: 12.1554 - mean_squared_error: 390.8221 - val_loss: 10.8919 - val_mean_squared_error: 368.1204\n",
            "Epoch 271/500\n",
            "211/211 [==============================] - 0s 2ms/step - loss: 12.0793 - mean_squared_error: 387.2699 - val_loss: 10.8223 - val_mean_squared_error: 365.1368\n",
            "Epoch 272/500\n",
            "211/211 [==============================] - 0s 2ms/step - loss: 11.9950 - mean_squared_error: 382.9502 - val_loss: 10.7527 - val_mean_squared_error: 361.5152\n",
            "Epoch 273/500\n",
            "211/211 [==============================] - 0s 2ms/step - loss: 11.9161 - mean_squared_error: 379.8712 - val_loss: 10.6729 - val_mean_squared_error: 358.1991\n",
            "Epoch 274/500\n",
            "211/211 [==============================] - 0s 2ms/step - loss: 11.8291 - mean_squared_error: 375.1122 - val_loss: 10.6116 - val_mean_squared_error: 355.0016\n",
            "Epoch 275/500\n",
            "211/211 [==============================] - 0s 2ms/step - loss: 11.7460 - mean_squared_error: 371.5596 - val_loss: 10.5425 - val_mean_squared_error: 351.9720\n",
            "Epoch 276/500\n",
            "211/211 [==============================] - 0s 2ms/step - loss: 11.6577 - mean_squared_error: 367.8800 - val_loss: 10.4694 - val_mean_squared_error: 349.0808\n",
            "Epoch 277/500\n",
            "211/211 [==============================] - 0s 2ms/step - loss: 11.5731 - mean_squared_error: 364.3226 - val_loss: 10.3985 - val_mean_squared_error: 346.3525\n",
            "Epoch 278/500\n",
            "211/211 [==============================] - 0s 2ms/step - loss: 11.4907 - mean_squared_error: 361.1051 - val_loss: 10.3296 - val_mean_squared_error: 343.4915\n",
            "Epoch 279/500\n",
            "211/211 [==============================] - 0s 2ms/step - loss: 11.4045 - mean_squared_error: 357.8383 - val_loss: 10.2489 - val_mean_squared_error: 340.8941\n",
            "Epoch 280/500\n",
            "211/211 [==============================] - 0s 2ms/step - loss: 11.3185 - mean_squared_error: 354.1029 - val_loss: 10.1816 - val_mean_squared_error: 337.6875\n",
            "Epoch 281/500\n",
            "211/211 [==============================] - 0s 2ms/step - loss: 11.2327 - mean_squared_error: 350.2257 - val_loss: 10.1090 - val_mean_squared_error: 334.7889\n",
            "Epoch 282/500\n",
            "211/211 [==============================] - 1s 2ms/step - loss: 11.1481 - mean_squared_error: 346.6410 - val_loss: 10.0363 - val_mean_squared_error: 331.6118\n",
            "Epoch 283/500\n",
            "211/211 [==============================] - 0s 2ms/step - loss: 11.0571 - mean_squared_error: 343.1790 - val_loss: 9.9668 - val_mean_squared_error: 328.6371\n",
            "Epoch 284/500\n",
            "211/211 [==============================] - 0s 2ms/step - loss: 10.9666 - mean_squared_error: 339.0348 - val_loss: 9.8947 - val_mean_squared_error: 325.4076\n",
            "Epoch 285/500\n",
            "211/211 [==============================] - 0s 2ms/step - loss: 10.8693 - mean_squared_error: 335.8190 - val_loss: 9.8292 - val_mean_squared_error: 322.3127\n",
            "Epoch 286/500\n",
            "211/211 [==============================] - 0s 2ms/step - loss: 10.7780 - mean_squared_error: 332.1590 - val_loss: 9.7610 - val_mean_squared_error: 319.3084\n",
            "Epoch 287/500\n",
            "211/211 [==============================] - 1s 2ms/step - loss: 10.6922 - mean_squared_error: 327.8877 - val_loss: 9.6904 - val_mean_squared_error: 315.9856\n",
            "Epoch 288/500\n",
            "211/211 [==============================] - 0s 2ms/step - loss: 10.6025 - mean_squared_error: 324.4303 - val_loss: 9.6421 - val_mean_squared_error: 313.3139\n",
            "Epoch 289/500\n",
            "211/211 [==============================] - 0s 2ms/step - loss: 10.5157 - mean_squared_error: 320.9009 - val_loss: 9.5833 - val_mean_squared_error: 310.0699\n",
            "Epoch 290/500\n",
            "211/211 [==============================] - 0s 2ms/step - loss: 10.4310 - mean_squared_error: 317.4936 - val_loss: 9.5199 - val_mean_squared_error: 306.8725\n",
            "Epoch 291/500\n",
            "211/211 [==============================] - 1s 3ms/step - loss: 10.3435 - mean_squared_error: 313.7236 - val_loss: 9.4539 - val_mean_squared_error: 303.6150\n",
            "Epoch 292/500\n",
            "211/211 [==============================] - 0s 2ms/step - loss: 10.2583 - mean_squared_error: 309.2865 - val_loss: 9.4027 - val_mean_squared_error: 300.1796\n",
            "Epoch 293/500\n",
            "211/211 [==============================] - 0s 2ms/step - loss: 10.1671 - mean_squared_error: 305.8927 - val_loss: 9.3502 - val_mean_squared_error: 297.1235\n",
            "Epoch 294/500\n",
            "211/211 [==============================] - 0s 2ms/step - loss: 10.0789 - mean_squared_error: 302.1127 - val_loss: 9.2918 - val_mean_squared_error: 293.8073\n",
            "Epoch 295/500\n",
            "211/211 [==============================] - 0s 2ms/step - loss: 10.0024 - mean_squared_error: 298.0420 - val_loss: 9.2345 - val_mean_squared_error: 290.6044\n",
            "Epoch 296/500\n",
            "211/211 [==============================] - 0s 2ms/step - loss: 9.9247 - mean_squared_error: 295.2497 - val_loss: 9.1757 - val_mean_squared_error: 287.2950\n",
            "Epoch 297/500\n",
            "211/211 [==============================] - 0s 2ms/step - loss: 9.8366 - mean_squared_error: 291.1401 - val_loss: 9.1129 - val_mean_squared_error: 284.0398\n",
            "Epoch 298/500\n",
            "211/211 [==============================] - 0s 2ms/step - loss: 9.7585 - mean_squared_error: 287.1878 - val_loss: 9.0523 - val_mean_squared_error: 280.7998\n",
            "Epoch 299/500\n",
            "211/211 [==============================] - 0s 2ms/step - loss: 9.6712 - mean_squared_error: 283.8197 - val_loss: 8.9865 - val_mean_squared_error: 277.5666\n",
            "Epoch 300/500\n",
            "211/211 [==============================] - 0s 2ms/step - loss: 9.5911 - mean_squared_error: 280.0188 - val_loss: 8.9252 - val_mean_squared_error: 273.9632\n",
            "Epoch 301/500\n",
            "211/211 [==============================] - 0s 2ms/step - loss: 9.5129 - mean_squared_error: 276.8368 - val_loss: 8.8600 - val_mean_squared_error: 271.2005\n",
            "Epoch 302/500\n",
            "211/211 [==============================] - 0s 2ms/step - loss: 9.4347 - mean_squared_error: 272.9312 - val_loss: 8.7941 - val_mean_squared_error: 268.1747\n",
            "Epoch 303/500\n",
            "211/211 [==============================] - 0s 2ms/step - loss: 9.3521 - mean_squared_error: 270.1133 - val_loss: 8.7304 - val_mean_squared_error: 265.0678\n",
            "Epoch 304/500\n",
            "211/211 [==============================] - 0s 2ms/step - loss: 9.2760 - mean_squared_error: 266.5509 - val_loss: 8.6626 - val_mean_squared_error: 261.9632\n",
            "Epoch 305/500\n",
            "211/211 [==============================] - 0s 2ms/step - loss: 9.1894 - mean_squared_error: 263.4743 - val_loss: 8.5955 - val_mean_squared_error: 258.9444\n",
            "Epoch 306/500\n",
            "211/211 [==============================] - 0s 2ms/step - loss: 9.1131 - mean_squared_error: 259.8619 - val_loss: 8.5421 - val_mean_squared_error: 255.4898\n",
            "Epoch 307/500\n",
            "211/211 [==============================] - 0s 2ms/step - loss: 9.0394 - mean_squared_error: 256.4078 - val_loss: 8.4944 - val_mean_squared_error: 252.3918\n",
            "Epoch 308/500\n",
            "211/211 [==============================] - 0s 2ms/step - loss: 8.9677 - mean_squared_error: 252.3222 - val_loss: 8.4550 - val_mean_squared_error: 249.0770\n",
            "Epoch 309/500\n",
            "211/211 [==============================] - 0s 2ms/step - loss: 8.8890 - mean_squared_error: 249.3083 - val_loss: 8.4102 - val_mean_squared_error: 245.6686\n",
            "Epoch 310/500\n",
            "211/211 [==============================] - 0s 2ms/step - loss: 8.8195 - mean_squared_error: 245.2030 - val_loss: 8.3626 - val_mean_squared_error: 242.6782\n",
            "Epoch 311/500\n",
            "211/211 [==============================] - 0s 2ms/step - loss: 8.7416 - mean_squared_error: 242.0317 - val_loss: 8.2916 - val_mean_squared_error: 239.9773\n",
            "Epoch 312/500\n",
            "211/211 [==============================] - 0s 2ms/step - loss: 8.6741 - mean_squared_error: 239.3173 - val_loss: 8.2565 - val_mean_squared_error: 236.6656\n",
            "Epoch 313/500\n",
            "211/211 [==============================] - 0s 2ms/step - loss: 8.5909 - mean_squared_error: 235.4275 - val_loss: 8.1942 - val_mean_squared_error: 233.8288\n",
            "Epoch 314/500\n",
            "211/211 [==============================] - 0s 2ms/step - loss: 8.5232 - mean_squared_error: 232.7212 - val_loss: 8.1547 - val_mean_squared_error: 230.8012\n",
            "Epoch 315/500\n",
            "211/211 [==============================] - 0s 2ms/step - loss: 8.4547 - mean_squared_error: 229.1330 - val_loss: 8.1139 - val_mean_squared_error: 227.7678\n",
            "Epoch 316/500\n",
            "211/211 [==============================] - 0s 2ms/step - loss: 8.3870 - mean_squared_error: 226.0493 - val_loss: 8.0724 - val_mean_squared_error: 225.0014\n",
            "Epoch 317/500\n",
            "211/211 [==============================] - 0s 2ms/step - loss: 8.3188 - mean_squared_error: 223.1882 - val_loss: 7.9987 - val_mean_squared_error: 222.5748\n",
            "Epoch 318/500\n",
            "211/211 [==============================] - 0s 2ms/step - loss: 8.2471 - mean_squared_error: 220.5089 - val_loss: 7.9467 - val_mean_squared_error: 219.8581\n",
            "Epoch 319/500\n",
            "211/211 [==============================] - 0s 2ms/step - loss: 8.1866 - mean_squared_error: 217.6526 - val_loss: 7.8928 - val_mean_squared_error: 216.9435\n",
            "Epoch 320/500\n",
            "211/211 [==============================] - 0s 2ms/step - loss: 8.1230 - mean_squared_error: 214.4292 - val_loss: 7.8534 - val_mean_squared_error: 214.2950\n",
            "Epoch 321/500\n",
            "211/211 [==============================] - 0s 2ms/step - loss: 8.0597 - mean_squared_error: 211.4925 - val_loss: 7.7920 - val_mean_squared_error: 211.6788\n",
            "Epoch 322/500\n",
            "211/211 [==============================] - 0s 2ms/step - loss: 7.9888 - mean_squared_error: 208.9583 - val_loss: 7.7593 - val_mean_squared_error: 208.7998\n",
            "Epoch 323/500\n",
            "211/211 [==============================] - 0s 2ms/step - loss: 7.9254 - mean_squared_error: 205.7004 - val_loss: 7.7314 - val_mean_squared_error: 205.9119\n",
            "Epoch 324/500\n",
            "211/211 [==============================] - 0s 2ms/step - loss: 7.8621 - mean_squared_error: 203.0602 - val_loss: 7.6574 - val_mean_squared_error: 203.4844\n",
            "Epoch 325/500\n",
            "211/211 [==============================] - 0s 2ms/step - loss: 7.7938 - mean_squared_error: 200.1646 - val_loss: 7.6139 - val_mean_squared_error: 200.8457\n",
            "Epoch 326/500\n",
            "211/211 [==============================] - 0s 2ms/step - loss: 7.7235 - mean_squared_error: 196.8426 - val_loss: 7.5555 - val_mean_squared_error: 198.0713\n",
            "Epoch 327/500\n",
            "211/211 [==============================] - 0s 2ms/step - loss: 7.6597 - mean_squared_error: 194.6225 - val_loss: 7.5165 - val_mean_squared_error: 195.4539\n",
            "Epoch 328/500\n",
            "211/211 [==============================] - 1s 2ms/step - loss: 7.5888 - mean_squared_error: 191.7921 - val_loss: 7.4779 - val_mean_squared_error: 192.8197\n",
            "Epoch 329/500\n",
            "211/211 [==============================] - 1s 2ms/step - loss: 7.5196 - mean_squared_error: 189.2377 - val_loss: 7.4157 - val_mean_squared_error: 190.3026\n",
            "Epoch 330/500\n",
            "211/211 [==============================] - 1s 3ms/step - loss: 7.4603 - mean_squared_error: 186.3201 - val_loss: 7.3605 - val_mean_squared_error: 187.7758\n",
            "Epoch 331/500\n",
            "211/211 [==============================] - 1s 2ms/step - loss: 7.3914 - mean_squared_error: 183.9440 - val_loss: 7.3138 - val_mean_squared_error: 185.2200\n",
            "Epoch 332/500\n",
            "211/211 [==============================] - 0s 2ms/step - loss: 7.3268 - mean_squared_error: 181.4186 - val_loss: 7.2585 - val_mean_squared_error: 182.9592\n",
            "Epoch 333/500\n",
            "211/211 [==============================] - 0s 2ms/step - loss: 7.2600 - mean_squared_error: 178.8225 - val_loss: 7.1909 - val_mean_squared_error: 180.4581\n",
            "Epoch 334/500\n",
            "211/211 [==============================] - 0s 2ms/step - loss: 7.1991 - mean_squared_error: 176.4232 - val_loss: 7.1088 - val_mean_squared_error: 178.4160\n",
            "Epoch 335/500\n",
            "211/211 [==============================] - 0s 2ms/step - loss: 7.1343 - mean_squared_error: 174.1866 - val_loss: 7.0692 - val_mean_squared_error: 175.7524\n",
            "Epoch 336/500\n",
            "211/211 [==============================] - 0s 2ms/step - loss: 7.0697 - mean_squared_error: 171.4428 - val_loss: 6.9983 - val_mean_squared_error: 173.4646\n",
            "Epoch 337/500\n",
            "211/211 [==============================] - 0s 2ms/step - loss: 7.0088 - mean_squared_error: 168.9289 - val_loss: 6.9434 - val_mean_squared_error: 171.0083\n",
            "Epoch 338/500\n",
            "211/211 [==============================] - 0s 2ms/step - loss: 6.9427 - mean_squared_error: 166.5051 - val_loss: 6.8837 - val_mean_squared_error: 168.8442\n",
            "Epoch 339/500\n",
            "211/211 [==============================] - 1s 3ms/step - loss: 6.8795 - mean_squared_error: 164.4293 - val_loss: 6.8172 - val_mean_squared_error: 166.5909\n",
            "Epoch 340/500\n",
            "211/211 [==============================] - 0s 2ms/step - loss: 6.8141 - mean_squared_error: 162.2325 - val_loss: 6.7567 - val_mean_squared_error: 164.4334\n",
            "Epoch 341/500\n",
            "211/211 [==============================] - 0s 2ms/step - loss: 6.7578 - mean_squared_error: 159.8338 - val_loss: 6.6979 - val_mean_squared_error: 162.0402\n",
            "Epoch 342/500\n",
            "211/211 [==============================] - 0s 2ms/step - loss: 6.7006 - mean_squared_error: 157.3461 - val_loss: 6.6320 - val_mean_squared_error: 159.9537\n",
            "Epoch 343/500\n",
            "211/211 [==============================] - 0s 2ms/step - loss: 6.6374 - mean_squared_error: 155.4144 - val_loss: 6.5699 - val_mean_squared_error: 157.8834\n",
            "Epoch 344/500\n",
            "211/211 [==============================] - 0s 2ms/step - loss: 6.5785 - mean_squared_error: 152.7945 - val_loss: 6.5322 - val_mean_squared_error: 155.4831\n",
            "Epoch 345/500\n",
            "211/211 [==============================] - 0s 2ms/step - loss: 6.5189 - mean_squared_error: 150.4385 - val_loss: 6.4765 - val_mean_squared_error: 153.3129\n",
            "Epoch 346/500\n",
            "211/211 [==============================] - 0s 2ms/step - loss: 6.4519 - mean_squared_error: 148.2261 - val_loss: 6.4335 - val_mean_squared_error: 151.0964\n",
            "Epoch 347/500\n",
            "211/211 [==============================] - 1s 2ms/step - loss: 6.3926 - mean_squared_error: 146.0833 - val_loss: 6.3987 - val_mean_squared_error: 148.9089\n",
            "Epoch 348/500\n",
            "211/211 [==============================] - 0s 2ms/step - loss: 6.3355 - mean_squared_error: 143.6536 - val_loss: 6.3600 - val_mean_squared_error: 146.8077\n",
            "Epoch 349/500\n",
            "211/211 [==============================] - 0s 2ms/step - loss: 6.2817 - mean_squared_error: 141.7812 - val_loss: 6.3194 - val_mean_squared_error: 144.9142\n",
            "Epoch 350/500\n",
            "211/211 [==============================] - 1s 3ms/step - loss: 6.2217 - mean_squared_error: 139.3272 - val_loss: 6.2772 - val_mean_squared_error: 142.9096\n",
            "Epoch 351/500\n",
            "211/211 [==============================] - 1s 3ms/step - loss: 6.1663 - mean_squared_error: 137.1866 - val_loss: 6.2365 - val_mean_squared_error: 140.8002\n",
            "Epoch 352/500\n",
            "211/211 [==============================] - 0s 2ms/step - loss: 6.1159 - mean_squared_error: 135.1544 - val_loss: 6.1930 - val_mean_squared_error: 138.7771\n",
            "Epoch 353/500\n",
            "211/211 [==============================] - 0s 2ms/step - loss: 6.0693 - mean_squared_error: 133.6456 - val_loss: 6.1512 - val_mean_squared_error: 136.9135\n",
            "Epoch 354/500\n",
            "211/211 [==============================] - 1s 3ms/step - loss: 6.0188 - mean_squared_error: 131.6379 - val_loss: 6.1160 - val_mean_squared_error: 134.8781\n",
            "Epoch 355/500\n",
            "211/211 [==============================] - 0s 2ms/step - loss: 5.9688 - mean_squared_error: 129.3458 - val_loss: 6.0800 - val_mean_squared_error: 132.8938\n",
            "Epoch 356/500\n",
            "211/211 [==============================] - 0s 2ms/step - loss: 5.9202 - mean_squared_error: 127.2953 - val_loss: 6.0358 - val_mean_squared_error: 131.3724\n",
            "Epoch 357/500\n",
            "211/211 [==============================] - 0s 2ms/step - loss: 5.8768 - mean_squared_error: 125.9676 - val_loss: 5.9844 - val_mean_squared_error: 129.5516\n",
            "Epoch 358/500\n",
            "211/211 [==============================] - 0s 2ms/step - loss: 5.8306 - mean_squared_error: 123.6975 - val_loss: 5.9321 - val_mean_squared_error: 127.6591\n",
            "Epoch 359/500\n",
            "211/211 [==============================] - 0s 2ms/step - loss: 5.7868 - mean_squared_error: 122.1344 - val_loss: 5.8930 - val_mean_squared_error: 126.2583\n",
            "Epoch 360/500\n",
            "211/211 [==============================] - 1s 3ms/step - loss: 5.7430 - mean_squared_error: 120.4475 - val_loss: 5.8486 - val_mean_squared_error: 124.2581\n",
            "Epoch 361/500\n",
            "211/211 [==============================] - 1s 3ms/step - loss: 5.6955 - mean_squared_error: 118.7171 - val_loss: 5.8095 - val_mean_squared_error: 122.8321\n",
            "Epoch 362/500\n",
            "211/211 [==============================] - 1s 2ms/step - loss: 5.6537 - mean_squared_error: 117.2103 - val_loss: 5.7716 - val_mean_squared_error: 120.9669\n",
            "Epoch 363/500\n",
            "211/211 [==============================] - 0s 2ms/step - loss: 5.6146 - mean_squared_error: 115.3687 - val_loss: 5.7239 - val_mean_squared_error: 119.3719\n",
            "Epoch 364/500\n",
            "211/211 [==============================] - 0s 2ms/step - loss: 5.5687 - mean_squared_error: 113.2559 - val_loss: 5.6807 - val_mean_squared_error: 117.8661\n",
            "Epoch 365/500\n",
            "211/211 [==============================] - 0s 2ms/step - loss: 5.5305 - mean_squared_error: 111.9721 - val_loss: 5.6447 - val_mean_squared_error: 116.4949\n",
            "Epoch 366/500\n",
            "211/211 [==============================] - 1s 2ms/step - loss: 5.4882 - mean_squared_error: 110.6529 - val_loss: 5.6088 - val_mean_squared_error: 114.9841\n",
            "Epoch 367/500\n",
            "211/211 [==============================] - 1s 3ms/step - loss: 5.4519 - mean_squared_error: 109.2509 - val_loss: 5.5638 - val_mean_squared_error: 113.6576\n",
            "Epoch 368/500\n",
            "211/211 [==============================] - 1s 3ms/step - loss: 5.4102 - mean_squared_error: 108.0083 - val_loss: 5.5307 - val_mean_squared_error: 112.1730\n",
            "Epoch 369/500\n",
            "211/211 [==============================] - 1s 2ms/step - loss: 5.3701 - mean_squared_error: 106.2480 - val_loss: 5.4882 - val_mean_squared_error: 110.4583\n",
            "Epoch 370/500\n",
            "211/211 [==============================] - 1s 2ms/step - loss: 5.3290 - mean_squared_error: 104.5522 - val_loss: 5.4546 - val_mean_squared_error: 109.3179\n",
            "Epoch 371/500\n",
            "211/211 [==============================] - 1s 3ms/step - loss: 5.2901 - mean_squared_error: 103.2171 - val_loss: 5.4168 - val_mean_squared_error: 107.8813\n",
            "Epoch 372/500\n",
            "211/211 [==============================] - 0s 2ms/step - loss: 5.2527 - mean_squared_error: 102.0243 - val_loss: 5.3759 - val_mean_squared_error: 106.4861\n",
            "Epoch 373/500\n",
            "211/211 [==============================] - 0s 2ms/step - loss: 5.2080 - mean_squared_error: 100.4659 - val_loss: 5.3410 - val_mean_squared_error: 105.0130\n",
            "Epoch 374/500\n",
            "211/211 [==============================] - 0s 2ms/step - loss: 5.1734 - mean_squared_error: 99.0286 - val_loss: 5.2970 - val_mean_squared_error: 103.6846\n",
            "Epoch 375/500\n",
            "211/211 [==============================] - 0s 2ms/step - loss: 5.1346 - mean_squared_error: 97.5839 - val_loss: 5.2445 - val_mean_squared_error: 102.2101\n",
            "Epoch 376/500\n",
            "211/211 [==============================] - 0s 2ms/step - loss: 5.0957 - mean_squared_error: 96.1883 - val_loss: 5.2160 - val_mean_squared_error: 101.0169\n",
            "Epoch 377/500\n",
            "211/211 [==============================] - 0s 2ms/step - loss: 5.0617 - mean_squared_error: 95.0150 - val_loss: 5.1883 - val_mean_squared_error: 99.6757\n",
            "Epoch 378/500\n",
            "211/211 [==============================] - 0s 2ms/step - loss: 5.0219 - mean_squared_error: 93.6874 - val_loss: 5.1342 - val_mean_squared_error: 98.1548\n",
            "Epoch 379/500\n",
            "211/211 [==============================] - 0s 2ms/step - loss: 4.9920 - mean_squared_error: 92.2161 - val_loss: 5.0757 - val_mean_squared_error: 97.1908\n",
            "Epoch 380/500\n",
            "211/211 [==============================] - 0s 2ms/step - loss: 4.9560 - mean_squared_error: 91.1646 - val_loss: 5.0644 - val_mean_squared_error: 95.8425\n",
            "Epoch 381/500\n",
            "211/211 [==============================] - 1s 3ms/step - loss: 4.9236 - mean_squared_error: 89.9346 - val_loss: 5.0417 - val_mean_squared_error: 94.9803\n",
            "Epoch 382/500\n",
            "211/211 [==============================] - 0s 2ms/step - loss: 4.8925 - mean_squared_error: 89.0182 - val_loss: 4.9805 - val_mean_squared_error: 93.5841\n",
            "Epoch 383/500\n",
            "211/211 [==============================] - 0s 2ms/step - loss: 4.8601 - mean_squared_error: 87.7138 - val_loss: 4.9685 - val_mean_squared_error: 92.4277\n",
            "Epoch 384/500\n",
            "211/211 [==============================] - 0s 2ms/step - loss: 4.8342 - mean_squared_error: 86.5438 - val_loss: 4.9232 - val_mean_squared_error: 91.2617\n",
            "Epoch 385/500\n",
            "211/211 [==============================] - 1s 5ms/step - loss: 4.8063 - mean_squared_error: 85.3413 - val_loss: 4.8746 - val_mean_squared_error: 90.3093\n",
            "Epoch 386/500\n",
            "211/211 [==============================] - 0s 2ms/step - loss: 4.7728 - mean_squared_error: 84.2732 - val_loss: 4.8306 - val_mean_squared_error: 89.2713\n",
            "Epoch 387/500\n",
            "211/211 [==============================] - 0s 2ms/step - loss: 4.7459 - mean_squared_error: 83.2859 - val_loss: 4.8051 - val_mean_squared_error: 88.1062\n",
            "Epoch 388/500\n",
            "211/211 [==============================] - 0s 2ms/step - loss: 4.7118 - mean_squared_error: 82.2390 - val_loss: 4.7647 - val_mean_squared_error: 87.2054\n",
            "Epoch 389/500\n",
            "211/211 [==============================] - 0s 2ms/step - loss: 4.6883 - mean_squared_error: 81.0747 - val_loss: 4.7463 - val_mean_squared_error: 86.1965\n",
            "Epoch 390/500\n",
            "211/211 [==============================] - 1s 3ms/step - loss: 4.6581 - mean_squared_error: 80.2044 - val_loss: 4.7042 - val_mean_squared_error: 85.0729\n",
            "Epoch 391/500\n",
            "211/211 [==============================] - 1s 3ms/step - loss: 4.6266 - mean_squared_error: 79.1773 - val_loss: 4.6604 - val_mean_squared_error: 83.9397\n",
            "Epoch 392/500\n",
            "211/211 [==============================] - 1s 2ms/step - loss: 4.5945 - mean_squared_error: 77.8464 - val_loss: 4.6269 - val_mean_squared_error: 83.0302\n",
            "Epoch 393/500\n",
            "211/211 [==============================] - 0s 2ms/step - loss: 4.5697 - mean_squared_error: 77.0324 - val_loss: 4.5909 - val_mean_squared_error: 82.0388\n",
            "Epoch 394/500\n",
            "211/211 [==============================] - 0s 2ms/step - loss: 4.5391 - mean_squared_error: 76.1218 - val_loss: 4.5590 - val_mean_squared_error: 80.9708\n",
            "Epoch 395/500\n",
            "211/211 [==============================] - 0s 2ms/step - loss: 4.5107 - mean_squared_error: 75.2724 - val_loss: 4.5287 - val_mean_squared_error: 79.8964\n",
            "Epoch 396/500\n",
            "211/211 [==============================] - 1s 3ms/step - loss: 4.4727 - mean_squared_error: 74.1034 - val_loss: 4.4801 - val_mean_squared_error: 79.0075\n",
            "Epoch 397/500\n",
            "211/211 [==============================] - 1s 2ms/step - loss: 4.4487 - mean_squared_error: 73.1043 - val_loss: 4.4483 - val_mean_squared_error: 78.0608\n",
            "Epoch 398/500\n",
            "211/211 [==============================] - 1s 3ms/step - loss: 4.4167 - mean_squared_error: 72.1356 - val_loss: 4.4151 - val_mean_squared_error: 77.1717\n",
            "Epoch 399/500\n",
            "211/211 [==============================] - 1s 2ms/step - loss: 4.3861 - mean_squared_error: 71.2175 - val_loss: 4.3675 - val_mean_squared_error: 76.3229\n",
            "Epoch 400/500\n",
            "211/211 [==============================] - 0s 2ms/step - loss: 4.3626 - mean_squared_error: 70.5145 - val_loss: 4.3296 - val_mean_squared_error: 75.2858\n",
            "Epoch 401/500\n",
            "211/211 [==============================] - 0s 2ms/step - loss: 4.3331 - mean_squared_error: 69.5222 - val_loss: 4.3135 - val_mean_squared_error: 74.4647\n",
            "Epoch 402/500\n",
            "211/211 [==============================] - 1s 3ms/step - loss: 4.2990 - mean_squared_error: 68.6437 - val_loss: 4.2816 - val_mean_squared_error: 73.4225\n",
            "Epoch 403/500\n",
            "211/211 [==============================] - 1s 3ms/step - loss: 4.2715 - mean_squared_error: 67.5661 - val_loss: 4.2490 - val_mean_squared_error: 72.5479\n",
            "Epoch 404/500\n",
            "211/211 [==============================] - 0s 2ms/step - loss: 4.2439 - mean_squared_error: 66.7143 - val_loss: 4.2118 - val_mean_squared_error: 71.8329\n",
            "Epoch 405/500\n",
            "211/211 [==============================] - 0s 2ms/step - loss: 4.2177 - mean_squared_error: 66.0516 - val_loss: 4.1860 - val_mean_squared_error: 71.1965\n",
            "Epoch 406/500\n",
            "211/211 [==============================] - 0s 2ms/step - loss: 4.1851 - mean_squared_error: 65.1769 - val_loss: 4.1460 - val_mean_squared_error: 69.9675\n",
            "Epoch 407/500\n",
            "211/211 [==============================] - 0s 2ms/step - loss: 4.1607 - mean_squared_error: 64.3427 - val_loss: 4.1260 - val_mean_squared_error: 69.1213\n",
            "Epoch 408/500\n",
            "211/211 [==============================] - 0s 2ms/step - loss: 4.1289 - mean_squared_error: 63.4353 - val_loss: 4.0859 - val_mean_squared_error: 68.1798\n",
            "Epoch 409/500\n",
            "211/211 [==============================] - 0s 2ms/step - loss: 4.1010 - mean_squared_error: 62.4681 - val_loss: 4.0463 - val_mean_squared_error: 67.3725\n",
            "Epoch 410/500\n",
            "211/211 [==============================] - 0s 2ms/step - loss: 4.0747 - mean_squared_error: 61.7761 - val_loss: 4.0251 - val_mean_squared_error: 66.5321\n",
            "Epoch 411/500\n",
            "211/211 [==============================] - 0s 2ms/step - loss: 4.0454 - mean_squared_error: 60.9689 - val_loss: 4.0135 - val_mean_squared_error: 65.6570\n",
            "Epoch 412/500\n",
            "211/211 [==============================] - 1s 3ms/step - loss: 4.0191 - mean_squared_error: 59.9494 - val_loss: 3.9755 - val_mean_squared_error: 64.9764\n",
            "Epoch 413/500\n",
            "211/211 [==============================] - 0s 2ms/step - loss: 3.9985 - mean_squared_error: 59.6067 - val_loss: 3.9575 - val_mean_squared_error: 64.1507\n",
            "Epoch 414/500\n",
            "211/211 [==============================] - 0s 2ms/step - loss: 3.9657 - mean_squared_error: 58.3387 - val_loss: 3.9158 - val_mean_squared_error: 63.3074\n",
            "Epoch 415/500\n",
            "211/211 [==============================] - 0s 2ms/step - loss: 3.9446 - mean_squared_error: 57.7828 - val_loss: 3.8910 - val_mean_squared_error: 62.5859\n",
            "Epoch 416/500\n",
            "211/211 [==============================] - 0s 2ms/step - loss: 3.9107 - mean_squared_error: 56.8669 - val_loss: 3.8349 - val_mean_squared_error: 61.6866\n",
            "Epoch 417/500\n",
            "211/211 [==============================] - 0s 2ms/step - loss: 3.8924 - mean_squared_error: 56.4294 - val_loss: 3.8093 - val_mean_squared_error: 61.0126\n",
            "Epoch 418/500\n",
            "211/211 [==============================] - 1s 3ms/step - loss: 3.8605 - mean_squared_error: 55.5423 - val_loss: 3.7785 - val_mean_squared_error: 60.1671\n",
            "Epoch 419/500\n",
            "211/211 [==============================] - 0s 2ms/step - loss: 3.8382 - mean_squared_error: 54.5472 - val_loss: 3.7599 - val_mean_squared_error: 59.6026\n",
            "Epoch 420/500\n",
            "211/211 [==============================] - 0s 2ms/step - loss: 3.8121 - mean_squared_error: 54.0108 - val_loss: 3.7258 - val_mean_squared_error: 58.8430\n",
            "Epoch 421/500\n",
            "211/211 [==============================] - 0s 2ms/step - loss: 3.7866 - mean_squared_error: 53.3508 - val_loss: 3.7004 - val_mean_squared_error: 58.1745\n",
            "Epoch 422/500\n",
            "211/211 [==============================] - 1s 3ms/step - loss: 3.7578 - mean_squared_error: 52.8724 - val_loss: 3.6691 - val_mean_squared_error: 57.4000\n",
            "Epoch 423/500\n",
            "211/211 [==============================] - 0s 2ms/step - loss: 3.7285 - mean_squared_error: 52.1128 - val_loss: 3.6438 - val_mean_squared_error: 56.5720\n",
            "Epoch 424/500\n",
            "211/211 [==============================] - 0s 2ms/step - loss: 3.7056 - mean_squared_error: 51.3025 - val_loss: 3.6384 - val_mean_squared_error: 56.1299\n",
            "Epoch 425/500\n",
            "211/211 [==============================] - 0s 2ms/step - loss: 3.6826 - mean_squared_error: 50.7366 - val_loss: 3.6217 - val_mean_squared_error: 55.4400\n",
            "Epoch 426/500\n",
            "211/211 [==============================] - 0s 2ms/step - loss: 3.6568 - mean_squared_error: 50.1149 - val_loss: 3.6122 - val_mean_squared_error: 54.8555\n",
            "Epoch 427/500\n",
            "211/211 [==============================] - 0s 2ms/step - loss: 3.6302 - mean_squared_error: 49.4321 - val_loss: 3.5940 - val_mean_squared_error: 54.1801\n",
            "Epoch 428/500\n",
            "211/211 [==============================] - 0s 2ms/step - loss: 3.6066 - mean_squared_error: 48.7757 - val_loss: 3.5704 - val_mean_squared_error: 53.4274\n",
            "Epoch 429/500\n",
            "211/211 [==============================] - 0s 2ms/step - loss: 3.5801 - mean_squared_error: 48.0929 - val_loss: 3.5391 - val_mean_squared_error: 52.6608\n",
            "Epoch 430/500\n",
            "211/211 [==============================] - 0s 2ms/step - loss: 3.5529 - mean_squared_error: 47.4506 - val_loss: 3.5141 - val_mean_squared_error: 52.1354\n",
            "Epoch 431/500\n",
            "211/211 [==============================] - 0s 2ms/step - loss: 3.5288 - mean_squared_error: 46.8908 - val_loss: 3.4862 - val_mean_squared_error: 51.4891\n",
            "Epoch 432/500\n",
            "211/211 [==============================] - 0s 2ms/step - loss: 3.5064 - mean_squared_error: 46.1780 - val_loss: 3.4743 - val_mean_squared_error: 50.8819\n",
            "Epoch 433/500\n",
            "211/211 [==============================] - 0s 2ms/step - loss: 3.4810 - mean_squared_error: 45.4542 - val_loss: 3.4367 - val_mean_squared_error: 49.9866\n",
            "Epoch 434/500\n",
            "211/211 [==============================] - 0s 2ms/step - loss: 3.4566 - mean_squared_error: 44.9472 - val_loss: 3.4220 - val_mean_squared_error: 49.4575\n",
            "Epoch 435/500\n",
            "211/211 [==============================] - 0s 2ms/step - loss: 3.4332 - mean_squared_error: 44.3140 - val_loss: 3.3861 - val_mean_squared_error: 48.8303\n",
            "Epoch 436/500\n",
            "211/211 [==============================] - 1s 4ms/step - loss: 3.4122 - mean_squared_error: 43.6190 - val_loss: 3.3899 - val_mean_squared_error: 48.3168\n",
            "Epoch 437/500\n",
            "211/211 [==============================] - 1s 4ms/step - loss: 3.3950 - mean_squared_error: 43.0780 - val_loss: 3.3536 - val_mean_squared_error: 47.7083\n",
            "Epoch 438/500\n",
            "211/211 [==============================] - 0s 2ms/step - loss: 3.3743 - mean_squared_error: 42.8429 - val_loss: 3.3475 - val_mean_squared_error: 47.1131\n",
            "Epoch 439/500\n",
            "211/211 [==============================] - 0s 2ms/step - loss: 3.3524 - mean_squared_error: 42.0488 - val_loss: 3.3119 - val_mean_squared_error: 46.4491\n",
            "Epoch 440/500\n",
            "211/211 [==============================] - 0s 2ms/step - loss: 3.3279 - mean_squared_error: 41.6138 - val_loss: 3.2869 - val_mean_squared_error: 45.8465\n",
            "Epoch 441/500\n",
            "211/211 [==============================] - 0s 2ms/step - loss: 3.3027 - mean_squared_error: 40.6522 - val_loss: 3.2707 - val_mean_squared_error: 45.2338\n",
            "Epoch 442/500\n",
            "211/211 [==============================] - 0s 2ms/step - loss: 3.2836 - mean_squared_error: 40.4788 - val_loss: 3.2645 - val_mean_squared_error: 44.7421\n",
            "Epoch 443/500\n",
            "211/211 [==============================] - 0s 2ms/step - loss: 3.2564 - mean_squared_error: 39.7989 - val_loss: 3.2377 - val_mean_squared_error: 44.1222\n",
            "Epoch 444/500\n",
            "211/211 [==============================] - 1s 3ms/step - loss: 3.2362 - mean_squared_error: 39.1449 - val_loss: 3.2387 - val_mean_squared_error: 43.6888\n",
            "Epoch 445/500\n",
            "211/211 [==============================] - 0s 2ms/step - loss: 3.2133 - mean_squared_error: 38.8731 - val_loss: 3.2133 - val_mean_squared_error: 43.2486\n",
            "Epoch 446/500\n",
            "211/211 [==============================] - 0s 2ms/step - loss: 3.1930 - mean_squared_error: 38.2802 - val_loss: 3.2005 - val_mean_squared_error: 42.7469\n",
            "Epoch 447/500\n",
            "211/211 [==============================] - 0s 2ms/step - loss: 3.1726 - mean_squared_error: 37.7675 - val_loss: 3.2016 - val_mean_squared_error: 42.2864\n",
            "Epoch 448/500\n",
            "211/211 [==============================] - 1s 3ms/step - loss: 3.1473 - mean_squared_error: 37.4225 - val_loss: 3.1832 - val_mean_squared_error: 41.7329\n",
            "Epoch 449/500\n",
            "211/211 [==============================] - 1s 2ms/step - loss: 3.1287 - mean_squared_error: 36.9162 - val_loss: 3.1735 - val_mean_squared_error: 41.3166\n",
            "Epoch 450/500\n",
            "211/211 [==============================] - 1s 2ms/step - loss: 3.1074 - mean_squared_error: 36.4448 - val_loss: 3.1594 - val_mean_squared_error: 40.9594\n",
            "Epoch 451/500\n",
            "211/211 [==============================] - 0s 2ms/step - loss: 3.0849 - mean_squared_error: 36.1095 - val_loss: 3.1493 - val_mean_squared_error: 40.2375\n",
            "Epoch 452/500\n",
            "211/211 [==============================] - 0s 2ms/step - loss: 3.0633 - mean_squared_error: 35.5034 - val_loss: 3.1392 - val_mean_squared_error: 39.7738\n",
            "Epoch 453/500\n",
            "211/211 [==============================] - 0s 2ms/step - loss: 3.0484 - mean_squared_error: 34.9383 - val_loss: 3.1244 - val_mean_squared_error: 39.2434\n",
            "Epoch 454/500\n",
            "211/211 [==============================] - 0s 2ms/step - loss: 3.0215 - mean_squared_error: 34.3906 - val_loss: 3.0912 - val_mean_squared_error: 38.5230\n",
            "Epoch 455/500\n",
            "211/211 [==============================] - 0s 2ms/step - loss: 3.0034 - mean_squared_error: 33.9213 - val_loss: 3.0751 - val_mean_squared_error: 38.0790\n",
            "Epoch 456/500\n",
            "211/211 [==============================] - 0s 2ms/step - loss: 2.9876 - mean_squared_error: 33.4624 - val_loss: 3.0675 - val_mean_squared_error: 37.6653\n",
            "Epoch 457/500\n",
            "211/211 [==============================] - 0s 2ms/step - loss: 2.9650 - mean_squared_error: 32.9487 - val_loss: 3.0477 - val_mean_squared_error: 37.1511\n",
            "Epoch 458/500\n",
            "211/211 [==============================] - 0s 2ms/step - loss: 2.9406 - mean_squared_error: 32.5800 - val_loss: 3.0300 - val_mean_squared_error: 36.7071\n",
            "Epoch 459/500\n",
            "211/211 [==============================] - 1s 2ms/step - loss: 2.9174 - mean_squared_error: 32.1182 - val_loss: 3.0090 - val_mean_squared_error: 36.0891\n",
            "Epoch 460/500\n",
            "211/211 [==============================] - 1s 2ms/step - loss: 2.9036 - mean_squared_error: 31.5437 - val_loss: 3.0148 - val_mean_squared_error: 35.8471\n",
            "Epoch 461/500\n",
            "211/211 [==============================] - 1s 2ms/step - loss: 2.8809 - mean_squared_error: 31.2885 - val_loss: 2.9929 - val_mean_squared_error: 35.2526\n",
            "Epoch 462/500\n",
            "211/211 [==============================] - 0s 2ms/step - loss: 2.8569 - mean_squared_error: 30.7157 - val_loss: 2.9777 - val_mean_squared_error: 34.7986\n",
            "Epoch 463/500\n",
            "211/211 [==============================] - 0s 2ms/step - loss: 2.8409 - mean_squared_error: 30.2993 - val_loss: 2.9648 - val_mean_squared_error: 34.2974\n",
            "Epoch 464/500\n",
            "211/211 [==============================] - 0s 2ms/step - loss: 2.8232 - mean_squared_error: 29.9543 - val_loss: 2.9513 - val_mean_squared_error: 33.7919\n",
            "Epoch 465/500\n",
            "211/211 [==============================] - 0s 2ms/step - loss: 2.7987 - mean_squared_error: 29.4310 - val_loss: 2.9375 - val_mean_squared_error: 33.3972\n",
            "Epoch 466/500\n",
            "211/211 [==============================] - 0s 2ms/step - loss: 2.7798 - mean_squared_error: 29.1010 - val_loss: 2.9228 - val_mean_squared_error: 32.9641\n",
            "Epoch 467/500\n",
            "211/211 [==============================] - 0s 2ms/step - loss: 2.7643 - mean_squared_error: 28.7291 - val_loss: 2.8964 - val_mean_squared_error: 32.5727\n",
            "Epoch 468/500\n",
            "211/211 [==============================] - 0s 2ms/step - loss: 2.7475 - mean_squared_error: 28.3083 - val_loss: 2.8983 - val_mean_squared_error: 32.1654\n",
            "Epoch 469/500\n",
            "211/211 [==============================] - 0s 2ms/step - loss: 2.7300 - mean_squared_error: 27.9203 - val_loss: 2.8768 - val_mean_squared_error: 31.8123\n",
            "Epoch 470/500\n",
            "211/211 [==============================] - 0s 2ms/step - loss: 2.7136 - mean_squared_error: 27.6306 - val_loss: 2.8704 - val_mean_squared_error: 31.4390\n",
            "Epoch 471/500\n",
            "211/211 [==============================] - 0s 2ms/step - loss: 2.6972 - mean_squared_error: 27.3094 - val_loss: 2.8644 - val_mean_squared_error: 31.2582\n",
            "Epoch 472/500\n",
            "211/211 [==============================] - 1s 2ms/step - loss: 2.6868 - mean_squared_error: 27.0180 - val_loss: 2.8856 - val_mean_squared_error: 30.9419\n",
            "Epoch 473/500\n",
            "211/211 [==============================] - 1s 3ms/step - loss: 2.6726 - mean_squared_error: 26.6787 - val_loss: 2.8844 - val_mean_squared_error: 30.7154\n",
            "Epoch 474/500\n",
            "211/211 [==============================] - 0s 2ms/step - loss: 2.6542 - mean_squared_error: 26.4004 - val_loss: 2.8627 - val_mean_squared_error: 30.2851\n",
            "Epoch 475/500\n",
            "211/211 [==============================] - 0s 2ms/step - loss: 2.6431 - mean_squared_error: 26.0132 - val_loss: 2.8751 - val_mean_squared_error: 30.1644\n",
            "Epoch 476/500\n",
            "211/211 [==============================] - 1s 3ms/step - loss: 2.6351 - mean_squared_error: 25.9286 - val_loss: 2.8611 - val_mean_squared_error: 29.7257\n",
            "Epoch 477/500\n",
            "211/211 [==============================] - 0s 2ms/step - loss: 2.6118 - mean_squared_error: 25.3570 - val_loss: 2.8421 - val_mean_squared_error: 29.2715\n",
            "Epoch 478/500\n",
            "211/211 [==============================] - 0s 2ms/step - loss: 2.6002 - mean_squared_error: 24.9103 - val_loss: 2.8445 - val_mean_squared_error: 29.0818\n",
            "Epoch 479/500\n",
            "211/211 [==============================] - 0s 2ms/step - loss: 2.5845 - mean_squared_error: 24.8134 - val_loss: 2.8796 - val_mean_squared_error: 28.9540\n",
            "Epoch 480/500\n",
            "211/211 [==============================] - 0s 2ms/step - loss: 2.5747 - mean_squared_error: 24.4640 - val_loss: 2.8143 - val_mean_squared_error: 28.2715\n",
            "Epoch 481/500\n",
            "211/211 [==============================] - 0s 2ms/step - loss: 2.5576 - mean_squared_error: 24.0781 - val_loss: 2.8162 - val_mean_squared_error: 28.0757\n",
            "Epoch 482/500\n",
            "211/211 [==============================] - 0s 2ms/step - loss: 2.5464 - mean_squared_error: 24.0017 - val_loss: 2.7994 - val_mean_squared_error: 27.6683\n",
            "Epoch 483/500\n",
            "211/211 [==============================] - 0s 2ms/step - loss: 2.5290 - mean_squared_error: 23.5871 - val_loss: 2.7966 - val_mean_squared_error: 27.3394\n",
            "Epoch 484/500\n",
            "211/211 [==============================] - 0s 2ms/step - loss: 2.5193 - mean_squared_error: 23.1521 - val_loss: 2.8270 - val_mean_squared_error: 27.1512\n",
            "Epoch 485/500\n",
            "211/211 [==============================] - 1s 2ms/step - loss: 2.5103 - mean_squared_error: 23.1478 - val_loss: 2.7892 - val_mean_squared_error: 26.7850\n",
            "Epoch 486/500\n",
            "211/211 [==============================] - 1s 3ms/step - loss: 2.4948 - mean_squared_error: 22.6655 - val_loss: 2.7667 - val_mean_squared_error: 26.3789\n",
            "Epoch 487/500\n",
            "211/211 [==============================] - 0s 2ms/step - loss: 2.4793 - mean_squared_error: 22.3610 - val_loss: 2.7313 - val_mean_squared_error: 25.9987\n",
            "Epoch 488/500\n",
            "211/211 [==============================] - 0s 2ms/step - loss: 2.4674 - mean_squared_error: 22.0227 - val_loss: 2.7376 - val_mean_squared_error: 25.7625\n",
            "Epoch 489/500\n",
            "211/211 [==============================] - 0s 2ms/step - loss: 2.4499 - mean_squared_error: 21.8754 - val_loss: 2.6875 - val_mean_squared_error: 25.2808\n",
            "Epoch 490/500\n",
            "211/211 [==============================] - 0s 2ms/step - loss: 2.4394 - mean_squared_error: 21.4772 - val_loss: 2.7121 - val_mean_squared_error: 25.0979\n",
            "Epoch 491/500\n",
            "211/211 [==============================] - 0s 2ms/step - loss: 2.4301 - mean_squared_error: 21.2044 - val_loss: 2.6892 - val_mean_squared_error: 24.8060\n",
            "Epoch 492/500\n",
            "211/211 [==============================] - 0s 2ms/step - loss: 2.4109 - mean_squared_error: 21.0238 - val_loss: 2.6844 - val_mean_squared_error: 24.5797\n",
            "Epoch 493/500\n",
            "211/211 [==============================] - 0s 2ms/step - loss: 2.4059 - mean_squared_error: 20.7126 - val_loss: 2.7083 - val_mean_squared_error: 24.4656\n",
            "Epoch 494/500\n",
            "211/211 [==============================] - 1s 3ms/step - loss: 2.3901 - mean_squared_error: 20.6344 - val_loss: 2.6615 - val_mean_squared_error: 24.0640\n",
            "Epoch 495/500\n",
            "211/211 [==============================] - 0s 2ms/step - loss: 2.3837 - mean_squared_error: 20.4189 - val_loss: 2.6481 - val_mean_squared_error: 23.7541\n",
            "Epoch 496/500\n",
            "211/211 [==============================] - 0s 2ms/step - loss: 2.3649 - mean_squared_error: 20.0423 - val_loss: 2.6336 - val_mean_squared_error: 23.5344\n",
            "Epoch 497/500\n",
            "211/211 [==============================] - 0s 2ms/step - loss: 2.3577 - mean_squared_error: 19.8988 - val_loss: 2.6576 - val_mean_squared_error: 23.3851\n",
            "Epoch 498/500\n",
            "211/211 [==============================] - 0s 2ms/step - loss: 2.3459 - mean_squared_error: 19.6548 - val_loss: 2.6127 - val_mean_squared_error: 22.9918\n",
            "Epoch 499/500\n",
            "211/211 [==============================] - 0s 2ms/step - loss: 2.3409 - mean_squared_error: 19.6305 - val_loss: 2.5881 - val_mean_squared_error: 22.6060\n",
            "Epoch 500/500\n",
            "211/211 [==============================] - 0s 2ms/step - loss: 2.3291 - mean_squared_error: 19.1750 - val_loss: 2.5832 - val_mean_squared_error: 22.4550\n"
          ]
        },
        {
          "output_type": "execute_result",
          "data": {
            "text/plain": [
              "<keras.callbacks.History at 0x7f039ab15150>"
            ]
          },
          "metadata": {},
          "execution_count": 121
        }
      ]
    },
    {
      "cell_type": "code",
      "source": [
        "mae,ms_e = model.evaluate(x_test, y_test,batch_size=1, verbose=1)"
      ],
      "metadata": {
        "id": "Hf9Wn6lUQy_U",
        "colab": {
          "base_uri": "https://localhost:8080/"
        },
        "outputId": "ed64ea31-e893-4050-b644-772c4cda6286"
      },
      "execution_count": null,
      "outputs": [
        {
          "output_type": "stream",
          "name": "stdout",
          "text": [
            "61/61 [==============================] - 0s 3ms/step - loss: 2.2635 - mean_squared_error: 19.4131\n"
          ]
        }
      ]
    },
    {
      "cell_type": "code",
      "source": [
        "y_pred = model.predict(x_test).T[0]"
      ],
      "metadata": {
        "id": "t808SoddadVs"
      },
      "execution_count": null,
      "outputs": []
    },
    {
      "cell_type": "code",
      "source": [
        "rmse = math.sqrt(ms_e)\n",
        "rmse"
      ],
      "metadata": {
        "colab": {
          "base_uri": "https://localhost:8080/"
        },
        "id": "izDbVY9UzkJS",
        "outputId": "640a36bf-74ca-418b-bb7c-0ada1b3addc9"
      },
      "execution_count": null,
      "outputs": [
        {
          "output_type": "execute_result",
          "data": {
            "text/plain": [
              "4.406027497429569"
            ]
          },
          "metadata": {},
          "execution_count": 130
        }
      ]
    },
    {
      "cell_type": "code",
      "source": [
        "mae"
      ],
      "metadata": {
        "colab": {
          "base_uri": "https://localhost:8080/"
        },
        "id": "18eE_qbh0Mqa",
        "outputId": "ffba0acd-14f5-4453-b339-c3d38d022b1c"
      },
      "execution_count": null,
      "outputs": [
        {
          "output_type": "execute_result",
          "data": {
            "text/plain": [
              "2.263472557067871"
            ]
          },
          "metadata": {},
          "execution_count": 131
        }
      ]
    },
    {
      "cell_type": "code",
      "source": [
        "import matplotlib.pyplot as plt\n",
        "plt.plot(y_test)\n",
        "plt.plot(y_pred)\n",
        "cc = np.corrcoef(y_pred,y_test).mean()\n",
        "cc"
      ],
      "metadata": {
        "id": "7JUIebfialHi",
        "colab": {
          "base_uri": "https://localhost:8080/",
          "height": 282
        },
        "outputId": "bebac464-94cc-4f07-c98b-42ec245a131b"
      },
      "execution_count": null,
      "outputs": [
        {
          "output_type": "execute_result",
          "data": {
            "text/plain": [
              "0.9976932533660026"
            ]
          },
          "metadata": {},
          "execution_count": 124
        },
        {
          "output_type": "display_data",
          "data": {
            "text/plain": [
              "<Figure size 432x288 with 1 Axes>"
            ],
            "image/png": "[encoded data removed]"
          },
          "metadata": {
            "needs_background": "light"
          }
        }
      ]
    },
    {
      "cell_type": "code",
      "source": [
        "model.layers[0].weights"
      ],
      "metadata": {
        "id": "46trYe9oWfvz",
        "colab": {
          "base_uri": "https://localhost:8080/"
        },
        "outputId": "effaf7ee-555f-4407-a26d-dee3becdcd8c"
      },
      "execution_count": null,
      "outputs": [
        {
          "output_type": "execute_result",
          "data": {
            "text/plain": [
              "[<tf.Variable 'dense_16/kernel:0' shape=(2, 5) dtype=float32, numpy=\n",
              " array([[ 3.089087  ,  3.0252206 ,  4.5517807 ,  4.9343553 ,  4.8026576 ],\n",
              "        [ 2.278378  ,  2.223665  , -0.1388823 , -0.11427688, -0.2380489 ]],\n",
              "       dtype=float32)>,\n",
              " <tf.Variable 'dense_16/bias:0' shape=(5,) dtype=float32, numpy=\n",
              " array([ 9.035034 ,  9.555961 ,  0.3672678,  5.3573947, -4.2542663],\n",
              "       dtype=float32)>]"
            ]
          },
          "metadata": {},
          "execution_count": 125
        }
      ]
    },
    {
      "cell_type": "code",
      "source": [
        "model.layers[1].weights"
      ],
      "metadata": {
        "id": "zxBs1ePyWOQC",
        "colab": {
          "base_uri": "https://localhost:8080/"
        },
        "outputId": "a870e4a3-f788-4e59-91cc-65e8acc26526"
      },
      "execution_count": null,
      "outputs": [
        {
          "output_type": "execute_result",
          "data": {
            "text/plain": [
              "[<tf.Variable 'dense_17/kernel:0' shape=(5, 1) dtype=float32, numpy=\n",
              " array([[34.42554],\n",
              "        [33.82785],\n",
              "        [38.02597],\n",
              "        [34.35124],\n",
              "        [47.73848]], dtype=float32)>,\n",
              " <tf.Variable 'dense_17/bias:0' shape=(1,) dtype=float32, numpy=array([33.401997], dtype=float32)>]"
            ]
          },
          "metadata": {},
          "execution_count": 126
        }
      ]
    },
    {
      "cell_type": "code",
      "source": [
        "from keras.utils.vis_utils import plot_model\n",
        "plot_model(model, to_file='model_plot.png', show_shapes= True, show_layer_names=True)"
      ],
      "metadata": {
        "id": "3EmcDpwLZORz",
        "colab": {
          "base_uri": "https://localhost:8080/",
          "height": 312
        },
        "outputId": "67e346a9-8146-4ebb-a727-54bceda62db0"
      },
      "execution_count": null,
      "outputs": [
        {
          "output_type": "execute_result",
          "data": {
            "text/plain": [
              "<IPython.core.display.Image object>"
            ],
            "image/png": "[encoded data removed]"
          },
          "metadata": {},
          "execution_count": 127
        }
      ]
    },
    {
      "cell_type": "markdown",
      "source": [
        "#Transparent Open Box (TOB) Learning Network"
      ],
      "metadata": {
        "id": "3OLyRBMVM3Gi"
      }
    },
    {
      "cell_type": "code",
      "source": [
        "#Step 1: Set up a 2-D array of N input variables and one dependent variable to be predicted for each of M data records.\n",
        "data = df2.values"
      ],
      "metadata": {
        "id": "1stpL9KURC_J"
      },
      "execution_count": null,
      "outputs": []
    },
    {
      "cell_type": "code",
      "source": [
        "data"
      ],
      "metadata": {
        "colab": {
          "base_uri": "https://localhost:8080/"
        },
        "id": "alL-lkkMRpz8",
        "outputId": "d0705afe-ec6e-4af9-8a20-ba0e15a2ea32"
      },
      "execution_count": null,
      "outputs": [
        {
          "output_type": "execute_result",
          "data": {
            "text/plain": [
              "array([[-162.        ,  424.5961819 ,  100.038004  ],\n",
              "       [-161.8       ,  424.299933  ,  101.6929019 ],\n",
              "       [-161.6       ,  424.0033799 ,  103.3688915 ],\n",
              "       [-161.4       ,  423.706521  ,  105.0661511 ],\n",
              "       [-161.2       ,  423.4093549 ,  106.7848596 ],\n",
              "       [-161.        ,  423.11188   ,  108.5251962 ],\n",
              "       [-160.8       ,  422.814095  ,  110.287341  ],\n",
              "       [-160.6       ,  422.5159983 ,  112.0714744 ],\n",
              "       [-160.4       ,  422.2175883 ,  113.8777774 ],\n",
              "       [-160.2       ,  421.9188635 ,  115.7064315 ],\n",
              "       [-160.        ,  421.6198224 ,  117.5576189 ],\n",
              "       [-159.8       ,  421.3204635 ,  119.4315221 ],\n",
              "       [-159.6       ,  421.0207851 ,  121.3283242 ],\n",
              "       [-159.4       ,  420.7207857 ,  123.2482088 ],\n",
              "       [-159.2       ,  420.4204637 ,  125.1913601 ],\n",
              "       [-159.        ,  420.1198175 ,  127.1579625 ],\n",
              "       [-158.8       ,  419.8188457 ,  129.1484348 ],\n",
              "       [-158.6       ,  419.5175463 ,  131.1625269 ],\n",
              "       [-158.4       ,  419.2159179 ,  133.2006301 ],\n",
              "       [-158.2       ,  418.9139587 ,  135.2629197 ],\n",
              "       [-158.        ,  418.6116672 ,  137.3495005 ],\n",
              "       [-157.8       ,  418.3090415 ,  139.4606425 ],\n",
              "       [-157.6       ,  418.0060802 ,  141.5965337 ],\n",
              "       [-157.4       ,  417.7027826 ,  143.7583699 ],\n",
              "       [-157.2       ,  417.399145  ,  145.9445264 ],\n",
              "       [-157.        ,  417.0951667 ,  148.156014  ],\n",
              "       [-156.8       ,  416.7908458 ,  150.3930226 ],\n",
              "       [-156.6       ,  416.4861807 ,  152.6557429 ],\n",
              "       [-156.4       ,  416.1811696 ,  154.9443659 ],\n",
              "       [-156.2       ,  415.8758108 ,  157.2590829 ],\n",
              "       [-156.        ,  415.5701024 ,  159.6000859 ],\n",
              "       [-155.8       ,  415.2640428 ,  161.9675672 ],\n",
              "       [-155.6       ,  414.95763   ,  164.3617196 ],\n",
              "       [-155.4       ,  414.6508623 ,  166.7827361 ],\n",
              "       [-155.2       ,  414.3437379 ,  169.2308105 ],\n",
              "       [-155.        ,  414.0362549 ,  171.7061368 ],\n",
              "       [-154.8       ,  413.7284117 ,  174.2091294 ],\n",
              "       [-154.6       ,  413.420206  ,  176.7395777 ],\n",
              "       [-154.4       ,  413.1116361 ,  179.2978663 ],\n",
              "       [-154.2       ,  412.8027002 ,  181.884191  ],\n",
              "       [-154.        ,  412.4933963 ,  184.4987484 ],\n",
              "       [-153.8       ,  412.1837226 ,  187.1417352 ],\n",
              "       [-153.6       ,  411.873677  ,  189.8133487 ],\n",
              "       [-153.4       ,  411.5632577 ,  192.5137864 ],\n",
              "       [-153.2       ,  411.2524627 ,  195.2432767 ],\n",
              "       [-153.        ,  410.9412897 ,  198.0017863 ],\n",
              "       [-152.8       ,  410.6297371 ,  200.7896992 ],\n",
              "       [-152.6       ,  410.3178043 ,  203.6085592 ],\n",
              "       [-152.4       ,  410.0054865 ,  206.4561701 ],\n",
              "       [-152.2       ,  409.6927831 ,  209.3338023 ],\n",
              "       [-152.        ,  409.3796918 ,  212.2416561 ],\n",
              "       [-151.8       ,  409.0662107 ,  215.1799322 ],\n",
              "       [-151.6       ,  408.7523376 ,  218.1488318 ],\n",
              "       [-151.4       ,  408.4380705 ,  221.1485564 ],\n",
              "       [-151.2       ,  408.1234072 ,  224.1793078 ],\n",
              "       [-151.        ,  407.8083457 ,  227.2412884 ],\n",
              "       [-150.8       ,  407.4928838 ,  230.3347009 ],\n",
              "       [-150.6       ,  407.1770195 ,  233.4599468 ],\n",
              "       [-150.4       ,  406.8607503 ,  236.6168663 ],\n",
              "       [-150.2       ,  406.5440741 ,  239.8058314 ],\n",
              "       [-150.        ,  406.2269888 ,  243.0270465 ],\n",
              "       [-162.        ,  428.5663823 ,  100.2650001 ],\n",
              "       [-161.8       ,  428.2718019 ,  101.9105296 ],\n",
              "       [-161.6       ,  427.9769263 ,  103.576901  ],\n",
              "       [-161.4       ,  427.6817541 ,  105.2642896 ],\n",
              "       [-161.2       ,  427.3862838 ,  106.9728713 ],\n",
              "       [-161.        ,  427.0905141 ,  108.7028223 ],\n",
              "       [-160.8       ,  426.7944434 ,  110.4543194 ],\n",
              "       [-160.6       ,  426.4980704 ,  112.2275401 ],\n",
              "       [-160.4       ,  426.2013935 ,  114.0226622 ],\n",
              "       [-160.2       ,  425.9044114 ,  115.8398642 ],\n",
              "       [-160.        ,  425.6071225 ,  117.6793248 ],\n",
              "       [-159.8       ,  425.3095254 ,  119.5412237 ],\n",
              "       [-159.6       ,  425.0116185 ,  121.4257406 ],\n",
              "       [-159.4       ,  424.7134005 ,  123.333056  ],\n",
              "       [-159.2       ,  424.4148701 ,  125.2638556 ],\n",
              "       [-159.        ,  424.116025  ,  127.2173493 ],\n",
              "       [-158.8       ,  423.8168641 ,  129.1941879 ],\n",
              "       [-158.6       ,  423.5173859 ,  131.194554  ],\n",
              "       [-158.4       ,  423.2175887 ,  133.2186305 ],\n",
              "       [-158.2       ,  422.9174711 ,  135.2666008 ],\n",
              "       [-158.        ,  422.6170314 ,  137.3386488 ],\n",
              "       [-157.8       ,  422.3162681 ,  139.4349589 ],\n",
              "       [-157.6       ,  422.0151795 ,  141.555716  ],\n",
              "       [-157.4       ,  421.713764  ,  143.7011054 ],\n",
              "       [-157.2       ,  421.4120201 ,  145.8713128 ],\n",
              "       [-157.        ,  421.1099461 ,  148.0665243 ],\n",
              "       [-156.8       ,  420.8075403 ,  150.2869268 ],\n",
              "       [-156.6       ,  420.5048011 ,  152.5327072 ],\n",
              "       [-156.4       ,  420.2017268 ,  154.8040532 ],\n",
              "       [-156.2       ,  419.8983158 ,  157.1011527 ],\n",
              "       [-156.        ,  419.5945663 ,  159.4241941 ],\n",
              "       [-155.8       ,  419.2904767 ,  161.7733662 ],\n",
              "       [-155.6       ,  418.9860452 ,  164.1488584 ],\n",
              "       [-155.4       ,  418.6812701 ,  166.5508603 ],\n",
              "       [-155.2       ,  418.3761497 ,  168.9795621 ],\n",
              "       [-155.        ,  418.0706822 ,  171.4351542 ],\n",
              "       [-154.8       ,  417.7648659 ,  173.9178276 ],\n",
              "       [-154.6       ,  417.4586989 ,  176.4277471 ],\n",
              "       [-154.4       ,  417.1521796 ,  178.9651395 ],\n",
              "       [-154.2       ,  416.845306  ,  181.530187  ],\n",
              "       [-154.        ,  416.5380764 ,  184.123082  ],\n",
              "       [-153.8       ,  416.230489  ,  186.7440174 ],\n",
              "       [-153.6       ,  415.9225418 ,  189.3931865 ],\n",
              "       [-153.4       ,  415.6142331 ,  192.070783  ],\n",
              "       [-153.2       ,  415.305561  ,  194.7770008 ],\n",
              "       [-153.        ,  414.9965236 ,  197.5120345 ],\n",
              "       [-152.8       ,  414.6871191 ,  200.2760787 ],\n",
              "       [-152.6       ,  414.3773454 ,  203.0693287 ],\n",
              "       [-152.4       ,  414.0672007 ,  205.8919799 ],\n",
              "       [-152.2       ,  413.7566831 ,  208.7442283 ],\n",
              "       [-152.        ,  413.4457905 ,  211.6262702 ],\n",
              "       [-151.8       ,  413.1345211 ,  214.5383022 ],\n",
              "       [-151.6       ,  412.8228728 ,  217.4805212 ],\n",
              "       [-151.4       ,  412.5108437 ,  220.4531246 ],\n",
              "       [-151.2       ,  412.1984328 ,  223.4571734 ],\n",
              "       [-151.        ,  411.885636  ,  226.4912063 ],\n",
              "       [-150.8       ,  411.5724524 ,  229.5562205 ],\n",
              "       [-150.6       ,  411.2588797 ,  232.6524149 ],\n",
              "       [-150.4       ,  410.9449161 ,  235.7799885 ],\n",
              "       [-150.2       ,  410.6305593 ,  238.9391406 ],\n",
              "       [-150.        ,  410.3158073 ,  242.1300712 ],\n",
              "       [-150.        ,  416.7959563 ,  240.3950228 ],\n",
              "       [-150.2       ,  417.1071341 ,  237.2481511 ],\n",
              "       [-150.4       ,  417.4179377 ,  234.1324181 ],\n",
              "       [-150.6       ,  417.7283688 ,  231.04763   ],\n",
              "       [-150.8       ,  418.0384294 ,  227.9935935 ],\n",
              "       [-151.        ,  418.3481215 ,  224.9701154 ],\n",
              "       [-151.2       ,  418.6574469 ,  221.977003  ],\n",
              "       [-151.4       ,  418.9664075 ,  219.0140635 ],\n",
              "       [-151.6       ,  419.2750052 ,  216.081105  ],\n",
              "       [-151.8       ,  419.5832419 ,  213.1779353 ],\n",
              "       [-152.        ,  419.8911193 ,  210.3043629 ],\n",
              "       [-152.2       ,  420.1986394 ,  207.4601965 ],\n",
              "       [-152.4       ,  420.5058031 ,  204.6445825 ],\n",
              "       [-152.6       ,  420.8126139 ,  201.8587178 ],\n",
              "       [-152.8       ,  421.1190681 ,  199.0973671 ],\n",
              "       [-153.        ,  421.4251772 ,  196.3694375 ],\n",
              "       [-153.2       ,  421.7309379 ,  193.6699475 ],\n",
              "       [-153.4       ,  422.0363547 ,  191.0013544 ],\n",
              "       [-153.6       ,  422.3414232 ,  188.3577275 ],\n",
              "       [-153.8       ,  422.6461486 ,  185.741987  ],\n",
              "       [-154.        ,  422.9505324 ,  183.1539448 ],\n",
              "       [-154.2       ,  423.2545764 ,  180.5934128 ],\n",
              "       [-154.4       ,  423.5582824 ,  178.0602034 ],\n",
              "       [-154.6       ,  423.8616519 ,  175.5541293 ],\n",
              "       [-154.8       ,  424.1646867 ,  173.0750038 ],\n",
              "       [-155.        ,  424.4673884 ,  170.6226403 ],\n",
              "       [-155.2       ,  424.7697586 ,  168.1968526 ],\n",
              "       [-155.4       ,  425.071799  ,  165.797455  ],\n",
              "       [-155.6       ,  425.3735113 ,  163.4242621 ],\n",
              "       [-155.8       ,  425.6748969 ,  161.0770888 ],\n",
              "       [-156.        ,  425.9759576 ,  158.7557507 ],\n",
              "       [-156.2       ,  426.2766949 ,  156.4600633 ],\n",
              "       [-156.4       ,  426.5771104 ,  154.189843  ],\n",
              "       [-156.6       ,  426.8772057 ,  151.9449062 ],\n",
              "       [-156.8       ,  427.1769826 ,  149.7253847 ],\n",
              "       [-157.        ,  427.476442  ,  147.5304502 ],\n",
              "       [-157.2       ,  427.7755859 ,  145.3602522 ],\n",
              "       [-157.4       ,  428.0744156 ,  143.2146086 ],\n",
              "       [-157.6       ,  428.3729329 ,  141.0933382 ],\n",
              "       [-157.8       ,  428.671139  ,  138.9962599 ],\n",
              "       [-158.        ,  428.9690357 ,  136.9231932 ],\n",
              "       [-158.2       ,  429.2666243 ,  134.8739579 ],\n",
              "       [-158.4       ,  429.5639062 ,  132.8483743 ],\n",
              "       [-158.6       ,  429.8608831 ,  130.8462633 ],\n",
              "       [-159.        ,  430.4539273 ,  126.9117439 ],\n",
              "       [-159.2       ,  430.7499975 ,  124.9789793 ],\n",
              "       [-159.4       ,  431.0457683 ,  123.0689746 ],\n",
              "       [-159.6       ,  431.3412413 ,  121.1815529 ],\n",
              "       [-159.8       ,  431.6364177 ,  119.3165376 ],\n",
              "       [-160.        ,  431.9312989 ,  117.4737527 ],\n",
              "       [-160.2       ,  432.2258818 ,  115.647926  ],\n",
              "       [-160.4       ,  432.5201749 ,  113.8468226 ],\n",
              "       [-160.6       ,  432.8141794 ,  112.0699683 ],\n",
              "       [-160.8       ,  433.1078943 ,  110.3146362 ],\n",
              "       [-161.        ,  433.4013209 ,  108.580653  ],\n",
              "       [-161.2       ,  433.6944606 ,  106.8678455 ],\n",
              "       [-161.4       ,  433.9873129 ,  105.1740459 ],\n",
              "       [-161.6       ,  434.2798828 ,  103.5031564 ],\n",
              "       [-161.8       ,  434.5721698 ,  101.8529242 ],\n",
              "       [-162.        ,  434.8641751 ,  100.2231783 ],\n",
              "       [-162.        ,  438.0085904 ,   98.83663099],\n",
              "       [-161.8       ,  437.7180646 ,  100.4483903 ],\n",
              "       [-161.6       ,  437.4272642 ,  102.0804504 ],\n",
              "       [-161.4       ,  437.1361879 ,  103.7329808 ],\n",
              "       [-161.2       ,  436.8448346 ,  105.4061516 ],\n",
              "       [-161.        ,  436.5532028 ,  107.1001331 ],\n",
              "       [-160.8       ,  436.2612914 ,  108.8150963 ],\n",
              "       [-160.6       ,  435.969099  ,  110.5512128 ],\n",
              "       [-160.4       ,  435.6766243 ,  112.3086545 ],\n",
              "       [-160.2       ,  435.383866  ,  114.0875938 ],\n",
              "       [-160.        ,  435.0908228 ,  115.8882037 ],\n",
              "       [-159.8       ,  434.7974934 ,  117.7106574 ],\n",
              "       [-159.6       ,  434.5038764 ,  119.555129  ],\n",
              "       [-159.4       ,  434.2099705 ,  121.4217926 ],\n",
              "       [-159.2       ,  433.9157743 ,  123.310823  ],\n",
              "       [-159.        ,  433.6212864 ,  125.2223955 ],\n",
              "       [-158.8       ,  433.3265056 ,  127.1566858 ],\n",
              "       [-158.6       ,  433.0314303 ,  129.11387   ],\n",
              "       [-158.4       ,  432.7360593 ,  131.0941245 ],\n",
              "       [-158.2       ,  432.440391  ,  133.0976265 ],\n",
              "       [-158.        ,  432.1444242 ,  135.1245533 ],\n",
              "       [-157.8       ,  431.8481574 ,  137.1750829 ],\n",
              "       [-157.6       ,  431.5515891 ,  139.2493934 ],\n",
              "       [-157.4       ,  431.2547179 ,  141.3476636 ],\n",
              "       [-157.2       ,  430.9575424 ,  143.4700727 ],\n",
              "       [-157.        ,  430.6600612 ,  145.6168001 ],\n",
              "       [-156.8       ,  430.3622726 ,  147.7880258 ],\n",
              "       [-156.6       ,  430.0641754 ,  149.98393   ],\n",
              "       [-156.4       ,  429.7657679 ,  152.2046937 ],\n",
              "       [-156.2       ,  429.4670461 ,  154.4478332 ],\n",
              "       [-156.        ,  429.1680133 ,  156.7184646 ],\n",
              "       [-155.8       ,  428.8686698 ,  159.0185453 ],\n",
              "       [-155.6       ,  428.5690065 ,  161.3405815 ],\n",
              "       [-155.4       ,  428.2690244 ,  163.6873765 ],\n",
              "       [-155.2       ,  427.9687243 ,  166.061592  ],\n",
              "       [-155.        ,  427.6681036 ,  168.4621039 ],\n",
              "       [-154.8       ,  427.3671598 ,  170.8883238 ],\n",
              "       [-154.6       ,  427.0658919 ,  173.3410478 ],\n",
              "       [-154.4       ,  426.7642984 ,  175.8204603 ],\n",
              "       [-154.2       ,  426.4623777 ,  178.3267462 ],\n",
              "       [-154.        ,  426.1601281 ,  180.8600907 ],\n",
              "       [-153.8       ,  425.8575481 ,  183.4206794 ],\n",
              "       [-153.6       ,  425.5546359 ,  186.0086982 ],\n",
              "       [-153.4       ,  425.2513901 ,  188.6243333 ],\n",
              "       [-153.2       ,  424.9478088 ,  191.2677713 ],\n",
              "       [-153.        ,  424.6438904 ,  193.9391991 ],\n",
              "       [-152.8       ,  424.3396333 ,  196.6388039 ],\n",
              "       [-152.6       ,  424.0350357 ,  199.3667733 ],\n",
              "       [-152.4       ,  423.730096  ,  202.1232952 ],\n",
              "       [-152.2       ,  423.4248125 ,  204.9085576 ],\n",
              "       [-152.        ,  423.1191833 ,  207.7227492 ],\n",
              "       [-151.8       ,  422.8132068 ,  210.5660588 ],\n",
              "       [-151.6       ,  422.5068813 ,  213.4386754 ],\n",
              "       [-151.4       ,  422.2002049 ,  216.3407884 ],\n",
              "       [-151.2       ,  421.8931758 ,  219.2725875 ],\n",
              "       [-151.        ,  421.5857924 ,  222.2342629 ],\n",
              "       [-150.8       ,  421.2780527 ,  225.2260046 ],\n",
              "       [-150.6       ,  420.969955  ,  228.2480033 ],\n",
              "       [-150.4       ,  420.6614974 ,  231.3004499 ],\n",
              "       [-150.2       ,  420.3526781 ,  234.3835354 ],\n",
              "       [-150.        ,  420.0434953 ,  237.4974513 ],\n",
              "       [-162.        ,  442.282634  ,   99.68085616],\n",
              "       [-161.8       ,  441.9933868 ,  101.2929644 ],\n",
              "       [-161.6       ,  441.7038725 ,  102.925247  ],\n",
              "       [-161.4       ,  441.41409   ,  104.5778714 ],\n",
              "       [-161.2       ,  441.1240379 ,  106.2510058 ],\n",
              "       [-161.        ,  440.8337151 ,  107.9448184 ],\n",
              "       [-160.8       ,  440.5431213 ,  109.6604941 ],\n",
              "       [-160.6       ,  440.2522534 ,  111.3962221 ],\n",
              "       [-160.4       ,  439.9611111 ,  113.1531384 ],\n",
              "       [-160.2       ,  439.669693  ,  114.9314133 ],\n",
              "       [-160.        ,  439.377998  ,  116.7312178 ],\n",
              "       [-159.8       ,  439.0860248 ,  118.5527232 ],\n",
              "       [-159.6       ,  438.793772  ,  120.3961012 ],\n",
              "       [-159.4       ,  438.5012384 ,  122.2615241 ],\n",
              "       [-159.2       ,  438.2084227 ,  124.1491645 ],\n",
              "       [-159.        ,  437.9153236 ,  126.0591956 ],\n",
              "       [-158.8       ,  437.6219398 ,  127.9917909 ],\n",
              "       [-158.6       ,  437.3282699 ,  129.9471245 ],\n",
              "       [-158.4       ,  437.0343126 ,  131.9253707 ],\n",
              "       [-158.2       ,  436.7400665 ,  133.9267044 ],\n",
              "       [-158.        ,  436.4455304 ,  135.9513008 ],\n",
              "       [-157.8       ,  436.1507029 ,  137.9993357 ],\n",
              "       [-157.6       ,  435.8555845 ,  140.0730484 ],\n",
              "       [-157.4       ,  435.56017   ,  142.1685719 ],\n",
              "       [-157.2       ,  435.26446   ,  144.2880656 ],\n",
              "       [-157.        ,  434.968453  ,  146.431707  ],\n",
              "       [-156.8       ,  434.6721477 ,  148.5996737 ],\n",
              "       [-156.6       ,  434.375545  ,  150.7946449 ],\n",
              "       [-156.4       ,  434.0786388 ,  153.0118918 ],\n",
              "       [-156.2       ,  433.78143   ,  155.254002  ],\n",
              "       [-156.        ,  433.4839172 ,  157.5211549 ],\n",
              "       [-155.8       ,  433.1860988 ,  159.8135301 ],\n",
              "       [-155.6       ,  432.8879734 ,  162.1313079 ],\n",
              "       [-155.4       ,  432.5895396 ,  164.4746685 ],\n",
              "       [-155.2       ,  432.2907959 ,  166.8437928 ],\n",
              "       [-154.8       ,  431.6923762 ,  171.6634996 ],\n",
              "       [-154.6       ,  431.3926938 ,  174.1111208 ],\n",
              "       [-154.4       ,  431.0926956 ,  176.5852351 ],\n",
              "       [-154.2       ,  430.7923798 ,  179.086025  ],\n",
              "       [-154.        ,  430.4917451 ,  181.6136735 ],\n",
              "       [-153.8       ,  430.1907898 ,  184.1683639 ],\n",
              "       [-153.6       ,  429.8895124 ,  186.7502797 ],\n",
              "       [-153.4       ,  429.5879113 ,  189.3596048 ],\n",
              "       [-153.2       ,  429.2859894 ,  192.0007562 ],\n",
              "       [-153.        ,  428.9837363 ,  194.6655815 ],\n",
              "       [-152.8       ,  428.6811548 ,  197.3583722 ],\n",
              "       [-152.6       ,  428.3782431 ,  200.0793134 ],\n",
              "       [-152.4       ,  428.0749998 ,  202.8285906 ],\n",
              "       [-152.2       ,  427.7714231 ,  205.6063896 ],\n",
              "       [-152.        ,  427.4675115 ,  208.4128964 ],\n",
              "       [-151.8       ,  427.1632632 ,  211.2482974 ],\n",
              "       [-151.6       ,  426.8586765 ,  214.1127793 ],\n",
              "       [-151.4       ,  426.5537499 ,  217.0065289 ],\n",
              "       [-151.2       ,  426.2484815 ,  219.9297339 ],\n",
              "       [-151.        ,  425.9428697 ,  222.8825811 ],\n",
              "       [-150.8       ,  425.6369128 ,  225.8652586 ],\n",
              "       [-150.6       ,  425.3306091 ,  228.8779544 ],\n",
              "       [-150.4       ,  425.0239567 ,  231.9208568 ],\n",
              "       [-150.2       ,  424.7169539 ,  234.9941544 ],\n",
              "       [-150.        ,  424.409599  ,  238.0980361 ]])"
            ]
          },
          "metadata": {},
          "execution_count": 210
        }
      ]
    },
    {
      "cell_type": "code",
      "source": [
        "#Step 2: Arrange the data records in a systematic order defined by the prediction variable's values (e.g. ascending or descending value order).\n",
        "data_sort = data[data[:,2].argsort()]"
      ],
      "metadata": {
        "id": "Ug9xCRgjR5hq"
      },
      "execution_count": null,
      "outputs": []
    },
    {
      "cell_type": "code",
      "source": [
        "data_sort"
      ],
      "metadata": {
        "colab": {
          "base_uri": "https://localhost:8080/"
        },
        "id": "zj0lYEHDSXcO",
        "outputId": "94feace5-36a4-450d-f8c8-f822538a5379"
      },
      "execution_count": null,
      "outputs": [
        {
          "output_type": "execute_result",
          "data": {
            "text/plain": [
              "array([[-162.        ,  438.0085904 ,   98.83663099],\n",
              "       [-162.        ,  442.282634  ,   99.68085616],\n",
              "       [-162.        ,  424.5961819 ,  100.038004  ],\n",
              "       [-162.        ,  434.8641751 ,  100.2231783 ],\n",
              "       [-162.        ,  428.5663823 ,  100.2650001 ],\n",
              "       [-161.8       ,  437.7180646 ,  100.4483903 ],\n",
              "       [-161.8       ,  441.9933868 ,  101.2929644 ],\n",
              "       [-161.8       ,  424.299933  ,  101.6929019 ],\n",
              "       [-161.8       ,  434.5721698 ,  101.8529242 ],\n",
              "       [-161.8       ,  428.2718019 ,  101.9105296 ],\n",
              "       [-161.6       ,  437.4272642 ,  102.0804504 ],\n",
              "       [-161.6       ,  441.7038725 ,  102.925247  ],\n",
              "       [-161.6       ,  424.0033799 ,  103.3688915 ],\n",
              "       [-161.6       ,  434.2798828 ,  103.5031564 ],\n",
              "       [-161.6       ,  427.9769263 ,  103.576901  ],\n",
              "       [-161.4       ,  437.1361879 ,  103.7329808 ],\n",
              "       [-161.4       ,  441.41409   ,  104.5778714 ],\n",
              "       [-161.4       ,  423.706521  ,  105.0661511 ],\n",
              "       [-161.4       ,  433.9873129 ,  105.1740459 ],\n",
              "       [-161.4       ,  427.6817541 ,  105.2642896 ],\n",
              "       [-161.2       ,  436.8448346 ,  105.4061516 ],\n",
              "       [-161.2       ,  441.1240379 ,  106.2510058 ],\n",
              "       [-161.2       ,  423.4093549 ,  106.7848596 ],\n",
              "       [-161.2       ,  433.6944606 ,  106.8678455 ],\n",
              "       [-161.2       ,  427.3862838 ,  106.9728713 ],\n",
              "       [-161.        ,  436.5532028 ,  107.1001331 ],\n",
              "       [-161.        ,  440.8337151 ,  107.9448184 ],\n",
              "       [-161.        ,  423.11188   ,  108.5251962 ],\n",
              "       [-161.        ,  433.4013209 ,  108.580653  ],\n",
              "       [-161.        ,  427.0905141 ,  108.7028223 ],\n",
              "       [-160.8       ,  436.2612914 ,  108.8150963 ],\n",
              "       [-160.8       ,  440.5431213 ,  109.6604941 ],\n",
              "       [-160.8       ,  422.814095  ,  110.287341  ],\n",
              "       [-160.8       ,  433.1078943 ,  110.3146362 ],\n",
              "       [-160.8       ,  426.7944434 ,  110.4543194 ],\n",
              "       [-160.6       ,  435.969099  ,  110.5512128 ],\n",
              "       [-160.6       ,  440.2522534 ,  111.3962221 ],\n",
              "       [-160.6       ,  432.8141794 ,  112.0699683 ],\n",
              "       [-160.6       ,  422.5159983 ,  112.0714744 ],\n",
              "       [-160.6       ,  426.4980704 ,  112.2275401 ],\n",
              "       [-160.4       ,  435.6766243 ,  112.3086545 ],\n",
              "       [-160.4       ,  439.9611111 ,  113.1531384 ],\n",
              "       [-160.4       ,  432.5201749 ,  113.8468226 ],\n",
              "       [-160.4       ,  422.2175883 ,  113.8777774 ],\n",
              "       [-160.4       ,  426.2013935 ,  114.0226622 ],\n",
              "       [-160.2       ,  435.383866  ,  114.0875938 ],\n",
              "       [-160.2       ,  439.669693  ,  114.9314133 ],\n",
              "       [-160.2       ,  432.2258818 ,  115.647926  ],\n",
              "       [-160.2       ,  421.9188635 ,  115.7064315 ],\n",
              "       [-160.2       ,  425.9044114 ,  115.8398642 ],\n",
              "       [-160.        ,  435.0908228 ,  115.8882037 ],\n",
              "       [-160.        ,  439.377998  ,  116.7312178 ],\n",
              "       [-160.        ,  431.9312989 ,  117.4737527 ],\n",
              "       [-160.        ,  421.6198224 ,  117.5576189 ],\n",
              "       [-160.        ,  425.6071225 ,  117.6793248 ],\n",
              "       [-159.8       ,  434.7974934 ,  117.7106574 ],\n",
              "       [-159.8       ,  439.0860248 ,  118.5527232 ],\n",
              "       [-159.8       ,  431.6364177 ,  119.3165376 ],\n",
              "       [-159.8       ,  421.3204635 ,  119.4315221 ],\n",
              "       [-159.8       ,  425.3095254 ,  119.5412237 ],\n",
              "       [-159.6       ,  434.5038764 ,  119.555129  ],\n",
              "       [-159.6       ,  438.793772  ,  120.3961012 ],\n",
              "       [-159.6       ,  431.3412413 ,  121.1815529 ],\n",
              "       [-159.6       ,  421.0207851 ,  121.3283242 ],\n",
              "       [-159.4       ,  434.2099705 ,  121.4217926 ],\n",
              "       [-159.6       ,  425.0116185 ,  121.4257406 ],\n",
              "       [-159.4       ,  438.5012384 ,  122.2615241 ],\n",
              "       [-159.4       ,  431.0457683 ,  123.0689746 ],\n",
              "       [-159.4       ,  420.7207857 ,  123.2482088 ],\n",
              "       [-159.2       ,  433.9157743 ,  123.310823  ],\n",
              "       [-159.4       ,  424.7134005 ,  123.333056  ],\n",
              "       [-159.2       ,  438.2084227 ,  124.1491645 ],\n",
              "       [-159.2       ,  430.7499975 ,  124.9789793 ],\n",
              "       [-159.2       ,  420.4204637 ,  125.1913601 ],\n",
              "       [-159.        ,  433.6212864 ,  125.2223955 ],\n",
              "       [-159.2       ,  424.4148701 ,  125.2638556 ],\n",
              "       [-159.        ,  437.9153236 ,  126.0591956 ],\n",
              "       [-159.        ,  430.4539273 ,  126.9117439 ],\n",
              "       [-158.8       ,  433.3265056 ,  127.1566858 ],\n",
              "       [-159.        ,  420.1198175 ,  127.1579625 ],\n",
              "       [-159.        ,  424.116025  ,  127.2173493 ],\n",
              "       [-158.8       ,  437.6219398 ,  127.9917909 ],\n",
              "       [-158.6       ,  433.0314303 ,  129.11387   ],\n",
              "       [-158.8       ,  419.8188457 ,  129.1484348 ],\n",
              "       [-158.8       ,  423.8168641 ,  129.1941879 ],\n",
              "       [-158.6       ,  437.3282699 ,  129.9471245 ],\n",
              "       [-158.6       ,  429.8608831 ,  130.8462633 ],\n",
              "       [-158.4       ,  432.7360593 ,  131.0941245 ],\n",
              "       [-158.6       ,  419.5175463 ,  131.1625269 ],\n",
              "       [-158.6       ,  423.5173859 ,  131.194554  ],\n",
              "       [-158.4       ,  437.0343126 ,  131.9253707 ],\n",
              "       [-158.4       ,  429.5639062 ,  132.8483743 ],\n",
              "       [-158.2       ,  432.440391  ,  133.0976265 ],\n",
              "       [-158.4       ,  419.2159179 ,  133.2006301 ],\n",
              "       [-158.4       ,  423.2175887 ,  133.2186305 ],\n",
              "       [-158.2       ,  436.7400665 ,  133.9267044 ],\n",
              "       [-158.2       ,  429.2666243 ,  134.8739579 ],\n",
              "       [-158.        ,  432.1444242 ,  135.1245533 ],\n",
              "       [-158.2       ,  418.9139587 ,  135.2629197 ],\n",
              "       [-158.2       ,  422.9174711 ,  135.2666008 ],\n",
              "       [-158.        ,  436.4455304 ,  135.9513008 ],\n",
              "       [-158.        ,  428.9690357 ,  136.9231932 ],\n",
              "       [-157.8       ,  431.8481574 ,  137.1750829 ],\n",
              "       [-158.        ,  422.6170314 ,  137.3386488 ],\n",
              "       [-158.        ,  418.6116672 ,  137.3495005 ],\n",
              "       [-157.8       ,  436.1507029 ,  137.9993357 ],\n",
              "       [-157.8       ,  428.671139  ,  138.9962599 ],\n",
              "       [-157.6       ,  431.5515891 ,  139.2493934 ],\n",
              "       [-157.8       ,  422.3162681 ,  139.4349589 ],\n",
              "       [-157.8       ,  418.3090415 ,  139.4606425 ],\n",
              "       [-157.6       ,  435.8555845 ,  140.0730484 ],\n",
              "       [-157.6       ,  428.3729329 ,  141.0933382 ],\n",
              "       [-157.4       ,  431.2547179 ,  141.3476636 ],\n",
              "       [-157.6       ,  422.0151795 ,  141.555716  ],\n",
              "       [-157.6       ,  418.0060802 ,  141.5965337 ],\n",
              "       [-157.4       ,  435.56017   ,  142.1685719 ],\n",
              "       [-157.4       ,  428.0744156 ,  143.2146086 ],\n",
              "       [-157.2       ,  430.9575424 ,  143.4700727 ],\n",
              "       [-157.4       ,  421.713764  ,  143.7011054 ],\n",
              "       [-157.4       ,  417.7027826 ,  143.7583699 ],\n",
              "       [-157.2       ,  435.26446   ,  144.2880656 ],\n",
              "       [-157.2       ,  427.7755859 ,  145.3602522 ],\n",
              "       [-157.        ,  430.6600612 ,  145.6168001 ],\n",
              "       [-157.2       ,  421.4120201 ,  145.8713128 ],\n",
              "       [-157.2       ,  417.399145  ,  145.9445264 ],\n",
              "       [-157.        ,  434.968453  ,  146.431707  ],\n",
              "       [-157.        ,  427.476442  ,  147.5304502 ],\n",
              "       [-156.8       ,  430.3622726 ,  147.7880258 ],\n",
              "       [-157.        ,  421.1099461 ,  148.0665243 ],\n",
              "       [-157.        ,  417.0951667 ,  148.156014  ],\n",
              "       [-156.8       ,  434.6721477 ,  148.5996737 ],\n",
              "       [-156.8       ,  427.1769826 ,  149.7253847 ],\n",
              "       [-156.6       ,  430.0641754 ,  149.98393   ],\n",
              "       [-156.8       ,  420.8075403 ,  150.2869268 ],\n",
              "       [-156.8       ,  416.7908458 ,  150.3930226 ],\n",
              "       [-156.6       ,  434.375545  ,  150.7946449 ],\n",
              "       [-156.6       ,  426.8772057 ,  151.9449062 ],\n",
              "       [-156.4       ,  429.7657679 ,  152.2046937 ],\n",
              "       [-156.6       ,  420.5048011 ,  152.5327072 ],\n",
              "       [-156.6       ,  416.4861807 ,  152.6557429 ],\n",
              "       [-156.4       ,  434.0786388 ,  153.0118918 ],\n",
              "       [-156.4       ,  426.5771104 ,  154.189843  ],\n",
              "       [-156.2       ,  429.4670461 ,  154.4478332 ],\n",
              "       [-156.4       ,  420.2017268 ,  154.8040532 ],\n",
              "       [-156.4       ,  416.1811696 ,  154.9443659 ],\n",
              "       [-156.2       ,  433.78143   ,  155.254002  ],\n",
              "       [-156.2       ,  426.2766949 ,  156.4600633 ],\n",
              "       [-156.        ,  429.1680133 ,  156.7184646 ],\n",
              "       [-156.2       ,  419.8983158 ,  157.1011527 ],\n",
              "       [-156.2       ,  415.8758108 ,  157.2590829 ],\n",
              "       [-156.        ,  433.4839172 ,  157.5211549 ],\n",
              "       [-156.        ,  425.9759576 ,  158.7557507 ],\n",
              "       [-155.8       ,  428.8686698 ,  159.0185453 ],\n",
              "       [-156.        ,  419.5945663 ,  159.4241941 ],\n",
              "       [-156.        ,  415.5701024 ,  159.6000859 ],\n",
              "       [-155.8       ,  433.1860988 ,  159.8135301 ],\n",
              "       [-155.8       ,  425.6748969 ,  161.0770888 ],\n",
              "       [-155.6       ,  428.5690065 ,  161.3405815 ],\n",
              "       [-155.8       ,  419.2904767 ,  161.7733662 ],\n",
              "       [-155.8       ,  415.2640428 ,  161.9675672 ],\n",
              "       [-155.6       ,  432.8879734 ,  162.1313079 ],\n",
              "       [-155.6       ,  425.3735113 ,  163.4242621 ],\n",
              "       [-155.4       ,  428.2690244 ,  163.6873765 ],\n",
              "       [-155.6       ,  418.9860452 ,  164.1488584 ],\n",
              "       [-155.6       ,  414.95763   ,  164.3617196 ],\n",
              "       [-155.4       ,  432.5895396 ,  164.4746685 ],\n",
              "       [-155.4       ,  425.071799  ,  165.797455  ],\n",
              "       [-155.2       ,  427.9687243 ,  166.061592  ],\n",
              "       [-155.4       ,  418.6812701 ,  166.5508603 ],\n",
              "       [-155.4       ,  414.6508623 ,  166.7827361 ],\n",
              "       [-155.2       ,  432.2907959 ,  166.8437928 ],\n",
              "       [-155.2       ,  424.7697586 ,  168.1968526 ],\n",
              "       [-155.        ,  427.6681036 ,  168.4621039 ],\n",
              "       [-155.2       ,  418.3761497 ,  168.9795621 ],\n",
              "       [-155.2       ,  414.3437379 ,  169.2308105 ],\n",
              "       [-155.        ,  424.4673884 ,  170.6226403 ],\n",
              "       [-154.8       ,  427.3671598 ,  170.8883238 ],\n",
              "       [-155.        ,  418.0706822 ,  171.4351542 ],\n",
              "       [-154.8       ,  431.6923762 ,  171.6634996 ],\n",
              "       [-155.        ,  414.0362549 ,  171.7061368 ],\n",
              "       [-154.8       ,  424.1646867 ,  173.0750038 ],\n",
              "       [-154.6       ,  427.0658919 ,  173.3410478 ],\n",
              "       [-154.8       ,  417.7648659 ,  173.9178276 ],\n",
              "       [-154.6       ,  431.3926938 ,  174.1111208 ],\n",
              "       [-154.8       ,  413.7284117 ,  174.2091294 ],\n",
              "       [-154.6       ,  423.8616519 ,  175.5541293 ],\n",
              "       [-154.4       ,  426.7642984 ,  175.8204603 ],\n",
              "       [-154.6       ,  417.4586989 ,  176.4277471 ],\n",
              "       [-154.4       ,  431.0926956 ,  176.5852351 ],\n",
              "       [-154.6       ,  413.420206  ,  176.7395777 ],\n",
              "       [-154.4       ,  423.5582824 ,  178.0602034 ],\n",
              "       [-154.2       ,  426.4623777 ,  178.3267462 ],\n",
              "       [-154.4       ,  417.1521796 ,  178.9651395 ],\n",
              "       [-154.2       ,  430.7923798 ,  179.086025  ],\n",
              "       [-154.4       ,  413.1116361 ,  179.2978663 ],\n",
              "       [-154.2       ,  423.2545764 ,  180.5934128 ],\n",
              "       [-154.        ,  426.1601281 ,  180.8600907 ],\n",
              "       [-154.2       ,  416.845306  ,  181.530187  ],\n",
              "       [-154.        ,  430.4917451 ,  181.6136735 ],\n",
              "       [-154.2       ,  412.8027002 ,  181.884191  ],\n",
              "       [-154.        ,  422.9505324 ,  183.1539448 ],\n",
              "       [-153.8       ,  425.8575481 ,  183.4206794 ],\n",
              "       [-154.        ,  416.5380764 ,  184.123082  ],\n",
              "       [-153.8       ,  430.1907898 ,  184.1683639 ],\n",
              "       [-154.        ,  412.4933963 ,  184.4987484 ],\n",
              "       [-153.8       ,  422.6461486 ,  185.741987  ],\n",
              "       [-153.6       ,  425.5546359 ,  186.0086982 ],\n",
              "       [-153.8       ,  416.230489  ,  186.7440174 ],\n",
              "       [-153.6       ,  429.8895124 ,  186.7502797 ],\n",
              "       [-153.8       ,  412.1837226 ,  187.1417352 ],\n",
              "       [-153.6       ,  422.3414232 ,  188.3577275 ],\n",
              "       [-153.4       ,  425.2513901 ,  188.6243333 ],\n",
              "       [-153.4       ,  429.5879113 ,  189.3596048 ],\n",
              "       [-153.6       ,  415.9225418 ,  189.3931865 ],\n",
              "       [-153.6       ,  411.873677  ,  189.8133487 ],\n",
              "       [-153.4       ,  422.0363547 ,  191.0013544 ],\n",
              "       [-153.2       ,  424.9478088 ,  191.2677713 ],\n",
              "       [-153.2       ,  429.2859894 ,  192.0007562 ],\n",
              "       [-153.4       ,  415.6142331 ,  192.070783  ],\n",
              "       [-153.4       ,  411.5632577 ,  192.5137864 ],\n",
              "       [-153.2       ,  421.7309379 ,  193.6699475 ],\n",
              "       [-153.        ,  424.6438904 ,  193.9391991 ],\n",
              "       [-153.        ,  428.9837363 ,  194.6655815 ],\n",
              "       [-153.2       ,  415.305561  ,  194.7770008 ],\n",
              "       [-153.2       ,  411.2524627 ,  195.2432767 ],\n",
              "       [-153.        ,  421.4251772 ,  196.3694375 ],\n",
              "       [-152.8       ,  424.3396333 ,  196.6388039 ],\n",
              "       [-152.8       ,  428.6811548 ,  197.3583722 ],\n",
              "       [-153.        ,  414.9965236 ,  197.5120345 ],\n",
              "       [-153.        ,  410.9412897 ,  198.0017863 ],\n",
              "       [-152.8       ,  421.1190681 ,  199.0973671 ],\n",
              "       [-152.6       ,  424.0350357 ,  199.3667733 ],\n",
              "       [-152.6       ,  428.3782431 ,  200.0793134 ],\n",
              "       [-152.8       ,  414.6871191 ,  200.2760787 ],\n",
              "       [-152.8       ,  410.6297371 ,  200.7896992 ],\n",
              "       [-152.6       ,  420.8126139 ,  201.8587178 ],\n",
              "       [-152.4       ,  423.730096  ,  202.1232952 ],\n",
              "       [-152.4       ,  428.0749998 ,  202.8285906 ],\n",
              "       [-152.6       ,  414.3773454 ,  203.0693287 ],\n",
              "       [-152.6       ,  410.3178043 ,  203.6085592 ],\n",
              "       [-152.4       ,  420.5058031 ,  204.6445825 ],\n",
              "       [-152.2       ,  423.4248125 ,  204.9085576 ],\n",
              "       [-152.2       ,  427.7714231 ,  205.6063896 ],\n",
              "       [-152.4       ,  414.0672007 ,  205.8919799 ],\n",
              "       [-152.4       ,  410.0054865 ,  206.4561701 ],\n",
              "       [-152.2       ,  420.1986394 ,  207.4601965 ],\n",
              "       [-152.        ,  423.1191833 ,  207.7227492 ],\n",
              "       [-152.        ,  427.4675115 ,  208.4128964 ],\n",
              "       [-152.2       ,  413.7566831 ,  208.7442283 ],\n",
              "       [-152.2       ,  409.6927831 ,  209.3338023 ],\n",
              "       [-152.        ,  419.8911193 ,  210.3043629 ],\n",
              "       [-151.8       ,  422.8132068 ,  210.5660588 ],\n",
              "       [-151.8       ,  427.1632632 ,  211.2482974 ],\n",
              "       [-152.        ,  413.4457905 ,  211.6262702 ],\n",
              "       [-152.        ,  409.3796918 ,  212.2416561 ],\n",
              "       [-151.8       ,  419.5832419 ,  213.1779353 ],\n",
              "       [-151.6       ,  422.5068813 ,  213.4386754 ],\n",
              "       [-151.6       ,  426.8586765 ,  214.1127793 ],\n",
              "       [-151.8       ,  413.1345211 ,  214.5383022 ],\n",
              "       [-151.8       ,  409.0662107 ,  215.1799322 ],\n",
              "       [-151.6       ,  419.2750052 ,  216.081105  ],\n",
              "       [-151.4       ,  422.2002049 ,  216.3407884 ],\n",
              "       [-151.4       ,  426.5537499 ,  217.0065289 ],\n",
              "       [-151.6       ,  412.8228728 ,  217.4805212 ],\n",
              "       [-151.6       ,  408.7523376 ,  218.1488318 ],\n",
              "       [-151.4       ,  418.9664075 ,  219.0140635 ],\n",
              "       [-151.2       ,  421.8931758 ,  219.2725875 ],\n",
              "       [-151.2       ,  426.2484815 ,  219.9297339 ],\n",
              "       [-151.4       ,  412.5108437 ,  220.4531246 ],\n",
              "       [-151.4       ,  408.4380705 ,  221.1485564 ],\n",
              "       [-151.2       ,  418.6574469 ,  221.977003  ],\n",
              "       [-151.        ,  421.5857924 ,  222.2342629 ],\n",
              "       [-151.        ,  425.9428697 ,  222.8825811 ],\n",
              "       [-151.2       ,  412.1984328 ,  223.4571734 ],\n",
              "       [-151.2       ,  408.1234072 ,  224.1793078 ],\n",
              "       [-151.        ,  418.3481215 ,  224.9701154 ],\n",
              "       [-150.8       ,  421.2780527 ,  225.2260046 ],\n",
              "       [-150.8       ,  425.6369128 ,  225.8652586 ],\n",
              "       [-151.        ,  411.885636  ,  226.4912063 ],\n",
              "       [-151.        ,  407.8083457 ,  227.2412884 ],\n",
              "       [-150.8       ,  418.0384294 ,  227.9935935 ],\n",
              "       [-150.6       ,  420.969955  ,  228.2480033 ],\n",
              "       [-150.6       ,  425.3306091 ,  228.8779544 ],\n",
              "       [-150.8       ,  411.5724524 ,  229.5562205 ],\n",
              "       [-150.8       ,  407.4928838 ,  230.3347009 ],\n",
              "       [-150.6       ,  417.7283688 ,  231.04763   ],\n",
              "       [-150.4       ,  420.6614974 ,  231.3004499 ],\n",
              "       [-150.4       ,  425.0239567 ,  231.9208568 ],\n",
              "       [-150.6       ,  411.2588797 ,  232.6524149 ],\n",
              "       [-150.6       ,  407.1770195 ,  233.4599468 ],\n",
              "       [-150.4       ,  417.4179377 ,  234.1324181 ],\n",
              "       [-150.2       ,  420.3526781 ,  234.3835354 ],\n",
              "       [-150.2       ,  424.7169539 ,  234.9941544 ],\n",
              "       [-150.4       ,  410.9449161 ,  235.7799885 ],\n",
              "       [-150.4       ,  406.8607503 ,  236.6168663 ],\n",
              "       [-150.2       ,  417.1071341 ,  237.2481511 ],\n",
              "       [-150.        ,  420.0434953 ,  237.4974513 ],\n",
              "       [-150.        ,  424.409599  ,  238.0980361 ],\n",
              "       [-150.2       ,  410.6305593 ,  238.9391406 ],\n",
              "       [-150.2       ,  406.5440741 ,  239.8058314 ],\n",
              "       [-150.        ,  416.7959563 ,  240.3950228 ],\n",
              "       [-150.        ,  410.3158073 ,  242.1300712 ],\n",
              "       [-150.        ,  406.2269888 ,  243.0270465 ]])"
            ]
          },
          "metadata": {},
          "execution_count": 212
        }
      ]
    },
    {
      "cell_type": "code",
      "source": [
        "#Step 3: Derive maximum and minimum values (and other standard statistics, such as mean and standard deviation) for all records in the dataset\n",
        "#Step 4: Normalize the data in the array so each variable spans a range from minus 1 to plus 1 (−1,+1). This is achieved by using Eq. (A1)\n",
        "#Xi* = 2*[(Xi- Xmin)/(Xmax-Xmin)]-1 (A1)\n",
        "#Where:\n",
        "#Xi = variable X value for the ith data record\n",
        "#Xmin = minimum value of variable X\n",
        "#Xmax = maximum value of variable X\n",
        "#Xi* is the normalized value of variable X for the ith data record.\n",
        "\n",
        "data_norm = (2*((data_sort-data.min(axis = 0))/((data.max(axis=0))-(data.min(axis=0)))))-1"
      ],
      "metadata": {
        "id": "Q2YM81gySjqI"
      },
      "execution_count": null,
      "outputs": []
    },
    {
      "cell_type": "code",
      "source": [
        "data_norm"
      ],
      "metadata": {
        "colab": {
          "base_uri": "https://localhost:8080/"
        },
        "id": "sUGGB2hXT57N",
        "outputId": "6d692009-17fb-4ead-d8db-857cb06145f5"
      },
      "execution_count": null,
      "outputs": [
        {
          "output_type": "execute_result",
          "data": {
            "text/plain": [
              "array([[-1.00000000e+00,  7.62919589e-01, -1.00000000e+00],\n",
              "       [-1.00000000e+00,  1.00000000e+00, -9.88290135e-01],\n",
              "       [-1.00000000e+00,  1.89357588e-02, -9.83336299e-01],\n",
              "       [-1.00000000e+00,  5.88499451e-01, -9.80767830e-01],\n",
              "       [-1.00000000e+00,  2.39162044e-01, -9.80187738e-01],\n",
              "       [-9.66666667e-01,  7.46804176e-01, -9.77644016e-01],\n",
              "       [-9.66666667e-01,  9.83955511e-01, -9.65929311e-01],\n",
              "       [-9.66666667e-01,  2.50288684e-03, -9.60381959e-01],\n",
              "       [-9.66666667e-01,  5.72301971e-01, -9.58162362e-01],\n",
              "       [-9.66666667e-01,  2.22821723e-01, -9.57363343e-01],\n",
              "       [-9.33333333e-01,  7.30673531e-01, -9.55006449e-01],\n",
              "       [-9.33333333e-01,  9.67896206e-01, -9.43288658e-01],\n",
              "       [-9.33333333e-01, -1.39468590e-02, -9.37135066e-01],\n",
              "       [-9.33333333e-01,  5.56088865e-01, -9.35272738e-01],\n",
              "       [-9.33333333e-01,  2.06465028e-01, -9.34249860e-01],\n",
              "       [-9.00000000e-01,  7.14527582e-01, -9.32084948e-01],\n",
              "       [-9.00000000e-01,  9.51822024e-01, -9.20365852e-01],\n",
              "       [-9.00000000e-01, -3.04135675e-02, -9.13593146e-01],\n",
              "       [-9.00000000e-01,  5.39860066e-01, -9.12096586e-01],\n",
              "       [-9.00000000e-01,  1.90091881e-01, -9.10844856e-01],\n",
              "       [-8.66666667e-01,  6.98366269e-01, -9.08877153e-01],\n",
              "       [-8.66666667e-01,  9.35732888e-01, -8.97158562e-01],\n",
              "       [-8.66666667e-01, -4.68973164e-02, -8.89753718e-01],\n",
              "       [-8.66666667e-01,  5.23615603e-01, -8.88602658e-01],\n",
              "       [-8.66666667e-01,  1.73702197e-01, -8.87145893e-01],\n",
              "       [-8.33333333e-01,  6.82189506e-01, -8.85380702e-01],\n",
              "       [-8.33333333e-01,  9.19628735e-01, -8.73664454e-01],\n",
              "       [-8.33333333e-01, -6.33981943e-02, -8.65614297e-01],\n",
              "       [-8.33333333e-01,  5.07355198e-01, -8.64845080e-01],\n",
              "       [-8.33333333e-01,  1.57295907e-01, -8.63150525e-01],\n",
              "       [-8.00000000e-01,  6.65997235e-01, -8.61593223e-01],\n",
              "       [-8.00000000e-01,  9.03509551e-01, -8.49867093e-01],\n",
              "       [-8.00000000e-01, -7.99162734e-02, -8.41172383e-01],\n",
              "       [-8.00000000e-01,  4.91078878e-01, -8.40793784e-01],\n",
              "       [-8.00000000e-01,  1.40872919e-01, -8.38856302e-01],\n",
              "       [-7.66666667e-01,  6.49789376e-01, -8.37512337e-01],\n",
              "       [-7.66666667e-01,  8.87375162e-01, -8.25791596e-01],\n",
              "       [-7.66666667e-01,  4.74786567e-01, -8.16446367e-01],\n",
              "       [-7.66666667e-01, -9.64516425e-02, -8.16425477e-01],\n",
              "       [-7.66666667e-01,  1.24433164e-01, -8.14260760e-01],\n",
              "       [-7.33333333e-01,  6.33565858e-01, -8.13135659e-01],\n",
              "       [-7.33333333e-01,  8.71225552e-01, -8.01422205e-01],\n",
              "       [-7.33333333e-01,  4.58478191e-01, -7.91800425e-01],\n",
              "       [-7.33333333e-01, -1.13004390e-01, -7.91371065e-01],\n",
              "       [-7.33333333e-01,  1.07976551e-01, -7.89361434e-01],\n",
              "       [-7.00000000e-01,  6.17326609e-01, -7.88460797e-01],\n",
              "       [-7.00000000e-01,  8.55060644e-01, -7.76756558e-01],\n",
              "       [-7.00000000e-01,  4.42153807e-01, -7.66818135e-01],\n",
              "       [-7.00000000e-01, -1.29574600e-01, -7.66006632e-01],\n",
              "       [-7.00000000e-01,  9.15030082e-02, -7.64155847e-01],\n",
              "       [-6.66666667e-01,  6.01071557e-01, -7.63485352e-01],\n",
              "       [-6.66666667e-01,  8.38880376e-01, -7.51792285e-01],\n",
              "       [-6.66666667e-01,  4.25813348e-01, -7.41492919e-01],\n",
              "       [-6.66666667e-01, -1.46162355e-01, -7.40329649e-01],\n",
              "       [-6.66666667e-01,  7.50124477e-02, -7.38641521e-01],\n",
              "       [-6.33333333e-01,  5.84800629e-01, -7.38206921e-01],\n",
              "       [-6.33333333e-01,  8.22684676e-01, -7.26527007e-01],\n",
              "       [-6.33333333e-01,  4.09456342e-01, -7.15932484e-01],\n",
              "       [-6.33333333e-01, -1.62767738e-01, -7.14337586e-01],\n",
              "       [-6.33333333e-01,  5.85047914e-02, -7.12815964e-01],\n",
              "       [-6.00000000e-01,  5.68513748e-01, -7.12623090e-01],\n",
              "       [-6.00000000e-01,  8.06473467e-01, -7.00958345e-01],\n",
              "       [-6.00000000e-01,  3.93082962e-01, -6.90063700e-01],\n",
              "       [-6.00000000e-01, -1.79390843e-01, -6.88027902e-01],\n",
              "       [-5.66666667e-01,  5.52210842e-01, -6.86731444e-01],\n",
              "       [-6.00000000e-01,  4.19799505e-02, -6.86676683e-01],\n",
              "       [-5.66666667e-01,  7.90246682e-01, -6.75083909e-01],\n",
              "       [-5.66666667e-01,  3.76693129e-01, -6.63884128e-01],\n",
              "       [-5.66666667e-01, -1.96031755e-01, -6.61398052e-01],\n",
              "       [-5.33333333e-01,  5.35891833e-01, -6.60529558e-01],\n",
              "       [-5.66666667e-01,  2.54378529e-02, -6.60221175e-01],\n",
              "       [-5.33333333e-01,  7.74004249e-01, -6.48901303e-01],\n",
              "       [-5.33333333e-01,  3.60286777e-01, -6.37391317e-01],\n",
              "       [-5.33333333e-01, -2.12690561e-01, -6.34445479e-01],\n",
              "       [-5.00000000e-01,  5.19556644e-01, -6.34015001e-01],\n",
              "       [-5.33333333e-01,  8.87842662e-03, -6.33439927e-01],\n",
              "       [-5.00000000e-01,  7.57746096e-01, -6.22408126e-01],\n",
              "       [-5.00000000e-01,  3.43863817e-01, -6.10582814e-01],\n",
              "       [-4.66666667e-01,  5.03205207e-01, -6.07185336e-01],\n",
              "       [-5.00000000e-01, -2.29367350e-01, -6.07167627e-01],\n",
              "       [-5.00000000e-01, -7.69845605e-03, -6.06343900e-01],\n",
              "       [-4.66666667e-01,  7.41472151e-01, -5.95601971e-01],\n",
              "       [-4.33333333e-01,  4.86837434e-01, -5.80038120e-01],\n",
              "       [-4.66666667e-01, -2.46062201e-01, -5.79558687e-01],\n",
              "       [-4.66666667e-01, -2.42928561e-02, -5.78924066e-01],\n",
              "       [-4.33333333e-01,  7.25182336e-01, -5.68480424e-01],\n",
              "       [-4.33333333e-01,  3.10967765e-01, -5.56008876e-01],\n",
              "       [-4.00000000e-01,  4.70453259e-01, -5.52570906e-01],\n",
              "       [-4.33333333e-01, -2.62775223e-01, -5.51622127e-01],\n",
              "       [-4.33333333e-01, -4.09048567e-02, -5.51177894e-01],\n",
              "       [-4.00000000e-01,  7.08876578e-01, -5.41041066e-01],\n",
              "       [-4.00000000e-01,  2.94494511e-01, -5.28238501e-01],\n",
              "       [-3.66666667e-01,  4.54052593e-01, -5.24781236e-01],\n",
              "       [-4.00000000e-01, -2.79506495e-01, -5.23352520e-01],\n",
              "       [-4.00000000e-01, -5.75345522e-02, -5.23102844e-01],\n",
              "       [-3.66666667e-01,  6.92554801e-01, -5.13281472e-01],\n",
              "       [-3.66666667e-01,  2.78004339e-01, -5.00142547e-01],\n",
              "       [-3.33333333e-01,  4.37635369e-01, -4.96666652e-01],\n",
              "       [-3.66666667e-01, -2.96256116e-01, -4.94747434e-01],\n",
              "       [-3.66666667e-01, -7.41820202e-02, -4.94696375e-01],\n",
              "       [-3.33333333e-01,  6.76216938e-01, -4.85199211e-01],\n",
              "       [-3.33333333e-01,  2.61497154e-01, -4.71718532e-01],\n",
              "       [-3.00000000e-01,  4.21201504e-01, -4.68224684e-01],\n",
              "       [-3.33333333e-01, -9.08473550e-02, -4.65955935e-01],\n",
              "       [-3.33333333e-01, -3.13024170e-01, -4.65805416e-01],\n",
              "       [-3.00000000e-01,  6.59862911e-01, -4.56791846e-01],\n",
              "       [-3.00000000e-01,  2.44972879e-01, -4.42963962e-01],\n",
              "       [-2.66666667e-01,  4.04750915e-01, -4.39452861e-01],\n",
              "       [-3.00000000e-01, -1.07530640e-01, -4.36878966e-01],\n",
              "       [-3.00000000e-01, -3.29810762e-01, -4.36522721e-01],\n",
              "       [-2.66666667e-01,  6.43492748e-01, -4.28028316e-01],\n",
              "       [-2.66666667e-01,  2.28431441e-01, -4.13876338e-01],\n",
              "       [-2.33333333e-01,  3.88283525e-01, -4.10348705e-01],\n",
              "       [-2.66666667e-01, -1.24231969e-01, -4.07462904e-01],\n",
              "       [-2.66666667e-01, -3.46615969e-01, -4.06896741e-01],\n",
              "       [-2.33333333e-01,  6.27106160e-01, -3.98962258e-01],\n",
              "       [-2.33333333e-01,  2.11872742e-01, -3.84453156e-01],\n",
              "       [-2.00000000e-01,  3.71799254e-01, -3.80909729e-01],\n",
              "       [-2.33333333e-01, -1.40951431e-01, -3.77705179e-01],\n",
              "       [-2.33333333e-01, -3.63439831e-01, -3.76910889e-01],\n",
              "       [-2.00000000e-01,  6.10703181e-01, -3.69563720e-01],\n",
              "       [-2.00000000e-01,  1.95296713e-01, -3.54691905e-01],\n",
              "       [-1.66666667e-01,  3.55298027e-01, -3.51133445e-01],\n",
              "       [-2.00000000e-01, -1.57689110e-01, -3.47603214e-01],\n",
              "       [-2.00000000e-01, -3.80282553e-01, -3.46587702e-01],\n",
              "       [-1.66666667e-01,  5.94283727e-01, -3.39830240e-01],\n",
              "       [-1.66666667e-01,  1.78703256e-01, -3.24590070e-01],\n",
              "       [-1.33333333e-01,  3.38779748e-01, -3.21017356e-01],\n",
              "       [-1.66666667e-01, -1.74445099e-01, -3.17154429e-01],\n",
              "       [-1.66666667e-01, -3.97144173e-01, -3.15913158e-01],\n",
              "       [-1.33333333e-01,  5.77847726e-01, -3.09759355e-01],\n",
              "       [-1.33333333e-01,  1.62092298e-01, -2.94145127e-01],\n",
              "       [-1.00000000e-01,  3.22244351e-01, -2.90558962e-01],\n",
              "       [-1.33333333e-01, -1.91219493e-01, -2.86356231e-01],\n",
              "       [-1.33333333e-01, -4.14024797e-01, -2.84884624e-01],\n",
              "       [-1.00000000e-01,  5.61395229e-01, -2.79313903e-01],\n",
              "       [-1.00000000e-01,  1.45463729e-01, -2.63359149e-01],\n",
              "       [-6.66666667e-02,  3.05691742e-01, -2.59755754e-01],\n",
              "       [-1.00000000e-01, -2.08012381e-01, -2.55206027e-01],\n",
              "       [-1.00000000e-01, -4.30924514e-01, -2.53499455e-01],\n",
              "       [-6.66666667e-02,  5.44925897e-01, -2.48559474e-01],\n",
              "       [-6.66666667e-02,  1.28817498e-01, -2.32220646e-01],\n",
              "       [-3.33333333e-02,  2.89121699e-01, -2.28642181e-01],\n",
              "       [-6.66666667e-02, -2.24823856e-01, -2.23701215e-01],\n",
              "       [-6.66666667e-02, -4.47843424e-01, -2.21755001e-01],\n",
              "       [-3.33333333e-02,  5.28439780e-01, -2.17460178e-01],\n",
              "       [-3.33333333e-02,  1.12153505e-01, -2.00731448e-01],\n",
              "       [ 0.00000000e+00,  2.72534405e-01, -1.97147280e-01],\n",
              "       [-3.33333333e-02, -2.41654009e-01, -1.91839187e-01],\n",
              "       [-3.33333333e-02, -4.64781620e-01, -1.89648609e-01],\n",
              "       [ 0.00000000e+00,  5.11936799e-01, -1.86013527e-01],\n",
              "       [ 0.00000000e+00,  9.54716628e-02, -1.68889007e-01],\n",
              "       [ 3.33333333e-02,  2.55929876e-01, -1.65243902e-01],\n",
              "       [ 0.00000000e+00, -2.58502938e-01, -1.59617331e-01],\n",
              "       [ 0.00000000e+00, -4.81739209e-01, -1.57177616e-01],\n",
              "       [ 3.33333333e-02,  4.95416867e-01, -1.54217028e-01],\n",
              "       [ 3.33333333e-02,  7.87718812e-02, -1.36690777e-01],\n",
              "       [ 6.66666667e-02,  2.39307608e-01, -1.33035989e-01],\n",
              "       [ 3.33333333e-02, -2.75370732e-01, -1.27033028e-01],\n",
              "       [ 3.33333333e-02, -4.98716279e-01, -1.24339354e-01],\n",
              "       [ 6.66666667e-02,  4.78879906e-01, -1.22068181e-01],\n",
              "       [ 6.66666667e-02,  6.20540775e-02, -1.04134198e-01],\n",
              "       [ 1.00000000e-01,  2.22667656e-01, -1.00484657e-01],\n",
              "       [ 6.66666667e-02, -2.92257491e-01, -9.40836507e-02],\n",
              "       [ 6.66666667e-02, -5.15712940e-01, -9.11311493e-02],\n",
              "       [ 1.00000000e-01,  4.62325839e-01, -8.95644863e-02],\n",
              "       [ 1.00000000e-01,  4.53181517e-02, -7.12167134e-02],\n",
              "       [ 1.33333333e-01,  2.06010065e-01, -6.75529886e-02],\n",
              "       [ 1.00000000e-01, -3.09163310e-01, -6.07665694e-02],\n",
              "       [ 1.00000000e-01, -5.32729288e-01, -5.75503251e-02],\n",
              "       [ 1.33333333e-01,  4.45754580e-01, -5.67034353e-02],\n",
              "       [ 1.33333333e-01,  2.85640264e-02, -3.79357551e-02],\n",
              "       [ 1.66666667e-01,  1.89334690e-01, -3.42565744e-02],\n",
              "       [ 1.33333333e-01, -3.26088282e-01, -2.70791458e-02],\n",
              "       [ 1.33333333e-01, -5.49765422e-01, -2.35941930e-02],\n",
              "       [ 1.66666667e-01,  1.17916070e-02, -4.28875170e-03],\n",
              "       [ 2.00000000e-01,  1.72641393e-01, -6.03576109e-04],\n",
              "       [ 1.66666667e-01, -3.43032508e-01,  6.98126090e-03],\n",
              "       [ 2.00000000e-01,  4.12560350e-01,  1.01485366e-02],\n",
              "       [ 1.66666667e-01, -5.66821447e-01,  1.07399379e-02],\n",
              "       [ 2.00000000e-01, -4.99920051e-03,  2.97268726e-02],\n",
              "       [ 2.33333333e-01,  1.55930118e-01,  3.34170485e-02],\n",
              "       [ 2.00000000e-01, -3.59996082e-01,  4.14173001e-02],\n",
              "       [ 2.33333333e-01,  3.95937022e-01,  4.40983826e-02],\n",
              "       [ 2.00000000e-01, -5.83897453e-01,  4.54578155e-02],\n",
              "       [ 2.33333333e-01, -2.18084851e-02,  6.41137005e-02],\n",
              "       [ 2.66666667e-01,  1.39200782e-01,  6.78078572e-02],\n",
              "       [ 2.33333333e-01, -3.76979109e-01,  7.62312576e-02],\n",
              "       [ 2.66666667e-01,  3.79296177e-01,  7.84157024e-02],\n",
              "       [ 2.33333333e-01, -6.00993566e-01,  8.05565187e-02],\n",
              "       [ 2.66666667e-01, -3.86363354e-02,  9.88743202e-02],\n",
              "       [ 3.00000000e-01,  1.22453296e-01,  1.02571415e-01],\n",
              "       [ 2.66666667e-01, -3.93981678e-01,  1.11426279e-01],\n",
              "       [ 3.00000000e-01,  3.62637715e-01,  1.13103027e-01],\n",
              "       [ 2.66666667e-01, -6.18109882e-01,  1.16041382e-01],\n",
              "       [ 3.00000000e-01, -5.54828513e-02,  1.34011321e-01],\n",
              "       [ 3.33333333e-01,  1.05687567e-01,  1.37710290e-01],\n",
              "       [ 3.00000000e-01, -4.11003900e-01,  1.47004892e-01],\n",
              "       [ 3.33333333e-01,  3.45961564e-01,  1.48162896e-01],\n",
              "       [ 3.00000000e-01, -6.35246499e-01,  1.51915122e-01],\n",
              "       [ 3.33333333e-01, -7.23481160e-02,  1.69527302e-01],\n",
              "       [ 3.66666667e-01,  8.89035096e-02,  1.73227057e-01],\n",
              "       [ 3.33333333e-01, -4.28045869e-01,  1.82969765e-01],\n",
              "       [ 3.66666667e-01,  3.29267629e-01,  1.83597850e-01],\n",
              "       [ 3.33333333e-01, -6.52403530e-01,  1.88180464e-01],\n",
              "       [ 3.66666667e-01, -8.92322293e-02,  2.05424864e-01],\n",
              "       [ 4.00000000e-01,  7.21010257e-02,  2.09124294e-01],\n",
              "       [ 3.66666667e-01, -4.45107686e-01,  2.19323574e-01],\n",
              "       [ 4.00000000e-01,  3.12555827e-01,  2.19410436e-01],\n",
              "       [ 3.66666667e-01, -6.69581073e-01,  2.24840138e-01],\n",
              "       [ 4.00000000e-01, -1.06135291e-01,  2.41706617e-01],\n",
              "       [ 4.33333333e-01,  5.52800370e-02,  2.45404585e-01],\n",
              "       [ 4.33333333e-01,  2.95826069e-01,  2.55603203e-01],\n",
              "       [ 4.00000000e-01, -4.62189460e-01,  2.56069000e-01],\n",
              "       [ 4.00000000e-01, -6.86779245e-01,  2.61896880e-01],\n",
              "       [ 4.33333333e-01, -1.23057385e-01,  2.78375169e-01],\n",
              "       [ 4.66666667e-01,  3.84404382e-02,  2.82070517e-01],\n",
              "       [ 4.66666667e-01,  2.79078517e-01,  2.92237419e-01],\n",
              "       [ 4.33333333e-01, -4.79291287e-01,  2.93208729e-01],\n",
              "       [ 4.33333333e-01, -7.03998147e-01,  2.99353429e-01],\n",
              "       [ 4.66666667e-01, -1.39998798e-01,  3.15390016e-01],\n",
              "       [ 5.00000000e-01,  2.15821405e-02,  3.19124683e-01],\n",
              "       [ 5.00000000e-01,  2.62312593e-01,  3.29200005e-01],\n",
              "       [ 4.66666667e-01, -4.96413272e-01,  3.30745452e-01],\n",
              "       [ 4.66666667e-01, -7.21237888e-01,  3.37212954e-01],\n",
              "       [ 5.00000000e-01, -1.56959288e-01,  3.52833421e-01],\n",
              "       [ 5.33333333e-01,  4.70505517e-03,  3.56569680e-01],\n",
              "       [ 5.33333333e-01,  2.45528453e-01,  3.66550486e-01],\n",
              "       [ 5.00000000e-01, -5.13555519e-01,  3.68681866e-01],\n",
              "       [ 5.00000000e-01, -7.38498597e-01,  3.75474992e-01],\n",
              "       [ 5.33333333e-01, -1.73939103e-01,  3.90671297e-01],\n",
              "       [ 5.66666667e-01, -1.21909176e-02,  3.94408109e-01],\n",
              "       [ 5.66666667e-01,  2.28725997e-01,  4.04291430e-01],\n",
              "       [ 5.33333333e-01, -5.30718130e-01,  4.07020673e-01],\n",
              "       [ 5.33333333e-01, -7.55780363e-01,  4.14144870e-01],\n",
              "       [ 5.66666667e-01, -1.90938061e-01,  4.28972743e-01],\n",
              "       [ 6.00000000e-01, -2.91058666e-02,  4.32642577e-01],\n",
              "       [ 6.00000000e-01,  2.11905147e-01,  4.42425410e-01],\n",
              "       [ 5.66666667e-01, -5.47901220e-01,  4.45764579e-01],\n",
              "       [ 5.66666667e-01, -7.73083217e-01,  4.53244002e-01],\n",
              "       [ 6.00000000e-01, -2.07956800e-01,  4.67614212e-01],\n",
              "       [ 6.33333333e-01, -4.60398861e-02,  4.71275691e-01],\n",
              "       [ 6.33333333e-01,  1.95065803e-01,  4.80955003e-01],\n",
              "       [ 6.00000000e-01, -5.65104890e-01,  4.84916297e-01],\n",
              "       [ 6.00000000e-01, -7.90407428e-01,  4.92741924e-01],\n",
              "       [ 6.33333333e-01, -2.24995114e-01,  5.06668319e-01],\n",
              "       [ 6.66666667e-01, -6.29930816e-02,  5.10310069e-01],\n",
              "       [ 6.66666667e-01,  1.78207883e-01,  5.19882789e-01],\n",
              "       [ 6.33333333e-01, -5.82329244e-01,  5.24478543e-01],\n",
              "       [ 6.33333333e-01, -8.07753028e-01,  5.32656258e-01],\n",
              "       [ 6.66666667e-01, -2.42053197e-01,  5.46118464e-01],\n",
              "       [ 7.00000000e-01, -7.99655417e-02,  5.49748330e-01],\n",
              "       [ 7.00000000e-01,  1.61331286e-01,  5.59211353e-01],\n",
              "       [ 6.66666667e-01, -5.99574399e-01,  5.64454042e-01],\n",
              "       [ 6.66666667e-01, -8.25120145e-01,  5.72989782e-01],\n",
              "       [ 7.00000000e-01, -2.59131100e-01,  5.85976487e-01],\n",
              "       [ 7.33333333e-01, -9.69573608e-02,  5.89593095e-01],\n",
              "       [ 7.33333333e-01,  1.44435918e-01,  5.98943285e-01],\n",
              "       [ 7.00000000e-01, -6.16840455e-01,  6.04845520e-01],\n",
              "       [ 7.00000000e-01, -8.42508884e-01,  6.13745280e-01],\n",
              "       [ 7.33333333e-01, -2.76228933e-01,  6.26245040e-01],\n",
              "       [ 7.66666667e-01, -1.13968644e-01,  6.29846991e-01],\n",
              "       [ 7.66666667e-01,  1.27521695e-01,  6.39081176e-01],\n",
              "       [ 7.33333333e-01, -6.34127529e-01,  6.45655709e-01],\n",
              "       [ 7.33333333e-01, -8.59919367e-01,  6.54925543e-01],\n",
              "       [ 7.66666667e-01, -2.93346791e-01,  6.66926780e-01],\n",
              "       [ 8.00000000e-01, -1.30999492e-01,  6.70512649e-01],\n",
              "       [ 8.00000000e-01,  1.10588513e-01,  6.79627630e-01],\n",
              "       [ 7.66666667e-01, -6.51435726e-01,  6.86887345e-01],\n",
              "       [ 7.66666667e-01, -8.77351705e-01,  6.96533365e-01],\n",
              "       [ 8.00000000e-01, -3.10484778e-01,  7.08024373e-01],\n",
              "       [ 8.33333333e-01, -1.48049992e-01,  7.11592708e-01],\n",
              "       [ 8.33333333e-01,  9.36362831e-02,  7.20585237e-01],\n",
              "       [ 8.00000000e-01, -6.68765101e-01,  7.28555147e-01],\n",
              "       [ 8.00000000e-01, -8.94806021e-01,  7.38571546e-01],\n",
              "       [ 8.33333333e-01, -3.27643001e-01,  7.49540480e-01],\n",
              "       [ 8.66666667e-01, -1.65120257e-01,  7.53089804e-01],\n",
              "       [ 8.66666667e-01,  7.66649102e-02,  7.61956607e-01],\n",
              "       [ 8.33333333e-01, -6.86115882e-01,  7.70638844e-01],\n",
              "       [ 8.33333333e-01, -9.12282424e-01,  7.81042893e-01],\n",
              "       [ 8.66666667e-01, -3.44821565e-01,  7.91477777e-01],\n",
              "       [ 9.00000000e-01, -1.82210380e-01,  7.95006580e-01],\n",
              "       [ 9.00000000e-01,  5.96743003e-02,  8.03744347e-01],\n",
              "       [ 8.66666667e-01, -7.03488118e-01,  8.13152269e-01],\n",
              "       [ 8.66666667e-01, -9.29781037e-01,  8.23950218e-01],\n",
              "       [ 9.00000000e-01, -3.62020569e-01,  8.33838935e-01],\n",
              "       [ 9.33333333e-01, -1.99320466e-01,  8.37345685e-01],\n",
              "       [ 9.33333333e-01,  4.26643482e-02,  8.45951069e-01],\n",
              "       [ 9.00000000e-01, -7.20881938e-01,  8.56098180e-01],\n",
              "       [ 9.00000000e-01, -9.47301972e-01,  8.67299090e-01],\n",
              "       [ 9.33333333e-01, -3.79240125e-01,  8.76626635e-01],\n",
              "       [ 9.66666667e-01, -2.16450616e-01,  8.80109769e-01],\n",
              "       [ 9.66666667e-01,  2.56349594e-02,  8.88579389e-01],\n",
              "       [ 9.33333333e-01, -7.38297441e-01,  8.99479338e-01],\n",
              "       [ 9.33333333e-01, -9.64845366e-01,  9.11087291e-01],\n",
              "       [ 9.66666667e-01, -3.96480344e-01,  9.19843557e-01],\n",
              "       [ 1.00000000e+00, -2.33600929e-01,  9.23301487e-01],\n",
              "       [ 1.00000000e+00,  8.58603967e-03,  9.31631927e-01],\n",
              "       [ 9.66666667e-01, -7.55734755e-01,  9.43298507e-01],\n",
              "       [ 9.66666667e-01, -9.82411337e-01,  9.55319983e-01],\n",
              "       [ 1.00000000e+00, -4.13741319e-01,  9.63492390e-01],\n",
              "       [ 1.00000000e+00, -7.73193991e-01,  9.87558462e-01],\n",
              "       [ 1.00000000e+00, -1.00000000e+00,  1.00000000e+00]])"
            ]
          },
          "metadata": {},
          "execution_count": 214
        }
      ]
    },
    {
      "cell_type": "code",
      "source": [
        "#Step 5. Generate statistical analysis of the normalized values to check that the variables are all correctly normalized.\n",
        "df_norm = pd.DataFrame(data_norm)\n",
        "df_norm.describe()"
      ],
      "metadata": {
        "colab": {
          "base_uri": "https://localhost:8080/",
          "height": 300
        },
        "id": "H2XJDRt3UW1x",
        "outputId": "6ea259c9-764d-40b6-f11b-d5c9a9e24fb2"
      },
      "execution_count": null,
      "outputs": [
        {
          "output_type": "execute_result",
          "data": {
            "text/plain": [
              "                0           1           2\n",
              "count  303.000000  303.000000  303.000000\n",
              "mean     0.000990    0.022793   -0.117072\n",
              "std      0.589111    0.465077    0.573589\n",
              "min     -1.000000   -1.000000   -1.000000\n",
              "25%     -0.500000   -0.302710   -0.627924\n",
              "50%      0.000000    0.025438   -0.168889\n",
              "75%      0.500000    0.374246    0.361560\n",
              "max      1.000000    1.000000    1.000000"
            ],
            "text/html": [
              "\n",
              "  <div id=\"df-1ae4cbb4-bb04-429a-943c-ce22eccb1541\">\n",
              "    <div class=\"colab-df-container\">\n",
              "      <div>\n",
              "<style scoped>\n",
              "    .dataframe tbody tr th:only-of-type {\n",
              "        vertical-align: middle;\n",
              "    }\n",
              "\n",
              "    .dataframe tbody tr th {\n",
              "        vertical-align: top;\n",
              "    }\n",
              "\n",
              "    .dataframe thead th {\n",
              "        text-align: right;\n",
              "    }\n",
              "</style>\n",
              "<table border=\"1\" class=\"dataframe\">\n",
              "  <thead>\n",
              "    <tr style=\"text-align: right;\">\n",
              "      <th></th>\n",
              "      <th>0</th>\n",
              "      <th>1</th>\n",
              "      <th>2</th>\n",
              "    </tr>\n",
              "  </thead>\n",
              "  <tbody>\n",
              "    <tr>\n",
              "      <th>count</th>\n",
              "      <td>303.000000</td>\n",
              "      <td>303.000000</td>\n",
              "      <td>303.000000</td>\n",
              "    </tr>\n",
              "    <tr>\n",
              "      <th>mean</th>\n",
              "      <td>0.000990</td>\n",
              "      <td>0.022793</td>\n",
              "      <td>-0.117072</td>\n",
              "    </tr>\n",
              "    <tr>\n",
              "      <th>std</th>\n",
              "      <td>0.589111</td>\n",
              "      <td>0.465077</td>\n",
              "      <td>0.573589</td>\n",
              "    </tr>\n",
              "    <tr>\n",
              "      <th>min</th>\n",
              "      <td>-1.000000</td>\n",
              "      <td>-1.000000</td>\n",
              "      <td>-1.000000</td>\n",
              "    </tr>\n",
              "    <tr>\n",
              "      <th>25%</th>\n",
              "      <td>-0.500000</td>\n",
              "      <td>-0.302710</td>\n",
              "      <td>-0.627924</td>\n",
              "    </tr>\n",
              "    <tr>\n",
              "      <th>50%</th>\n",
              "      <td>0.000000</td>\n",
              "      <td>0.025438</td>\n",
              "      <td>-0.168889</td>\n",
              "    </tr>\n",
              "    <tr>\n",
              "      <th>75%</th>\n",
              "      <td>0.500000</td>\n",
              "      <td>0.374246</td>\n",
              "      <td>0.361560</td>\n",
              "    </tr>\n",
              "    <tr>\n",
              "      <th>max</th>\n",
              "      <td>1.000000</td>\n",
              "      <td>1.000000</td>\n",
              "      <td>1.000000</td>\n",
              "    </tr>\n",
              "  </tbody>\n",
              "</table>\n",
              "</div>\n",
              "      <button class=\"colab-df-convert\" onclick=\"convertToInteractive('df-1ae4cbb4-bb04-429a-943c-ce22eccb1541')\"\n",
              "              title=\"Convert this dataframe to an interactive table.\"\n",
              "              style=\"display:none;\">\n",
              "        \n",
              "  <svg xmlns=\"http://www.w3.org/2000/svg\" height=\"24px\"viewBox=\"0 0 24 24\"\n",
              "       width=\"24px\">\n",
              "    <path d=\"M0 0h24v24H0V0z\" fill=\"none\"/>\n",
              "    <path d=\"M18.56 5.44l.94 2.06.94-2.06 2.06-.94-2.06-.94-.94-2.06-.94 2.06-2.06.94zm-11 1L8.5 8.5l.94-2.06 2.06-.94-2.06-.94L8.5 2.5l-.94 2.06-2.06.94zm10 10l.94 2.06.94-2.06 2.06-.94-2.06-.94-.94-2.06-.94 2.06-2.06.94z\"/><path d=\"M17.41 7.96l-1.37-1.37c-.4-.4-.92-.59-1.43-.59-.52 0-1.04.2-1.43.59L10.3 9.45l-7.72 7.72c-.78.78-.78 2.05 0 2.83L4 21.41c.39.39.9.59 1.41.59.51 0 1.02-.2 1.41-.59l7.78-7.78 2.81-2.81c.8-.78.8-2.07 0-2.86zM5.41 20L4 18.59l7.72-7.72 1.47 1.35L5.41 20z\"/>\n",
              "  </svg>\n",
              "      </button>\n",
              "      \n",
              "  <style>\n",
              "    .colab-df-container {\n",
              "      display:flex;\n",
              "      flex-wrap:wrap;\n",
              "      gap: 12px;\n",
              "    }\n",
              "\n",
              "    .colab-df-convert {\n",
              "      background-color: #E8F0FE;\n",
              "      border: none;\n",
              "      border-radius: 50%;\n",
              "      cursor: pointer;\n",
              "      display: none;\n",
              "      fill: #1967D2;\n",
              "      height: 32px;\n",
              "      padding: 0 0 0 0;\n",
              "      width: 32px;\n",
              "    }\n",
              "\n",
              "    .colab-df-convert:hover {\n",
              "      background-color: #E2EBFA;\n",
              "      box-shadow: 0px 1px 2px rgba(60, 64, 67, 0.3), 0px 1px 3px 1px rgba(60, 64, 67, 0.15);\n",
              "      fill: #174EA6;\n",
              "    }\n",
              "\n",
              "    [theme=dark] .colab-df-convert {\n",
              "      background-color: #3B4455;\n",
              "      fill: #D2E3FC;\n",
              "    }\n",
              "\n",
              "    [theme=dark] .colab-df-convert:hover {\n",
              "      background-color: #434B5C;\n",
              "      box-shadow: 0px 1px 3px 1px rgba(0, 0, 0, 0.15);\n",
              "      filter: drop-shadow(0px 1px 2px rgba(0, 0, 0, 0.3));\n",
              "      fill: #FFFFFF;\n",
              "    }\n",
              "  </style>\n",
              "\n",
              "      <script>\n",
              "        const buttonEl =\n",
              "          document.querySelector('#df-1ae4cbb4-bb04-429a-943c-ce22eccb1541 button.colab-df-convert');\n",
              "        buttonEl.style.display =\n",
              "          google.colab.kernel.accessAllowed ? 'block' : 'none';\n",
              "\n",
              "        async function convertToInteractive(key) {\n",
              "          const element = document.querySelector('#df-1ae4cbb4-bb04-429a-943c-ce22eccb1541');\n",
              "          const dataTable =\n",
              "            await google.colab.kernel.invokeFunction('convertToInteractive',\n",
              "                                                     [key], {});\n",
              "          if (!dataTable) return;\n",
              "\n",
              "          const docLinkHtml = 'Like what you see? Visit the ' +\n",
              "            '<a target=\"_blank\" href=https://colab.research.google.com/notebooks/data_table.ipynb>data table notebook</a>'\n",
              "            + ' to learn more about interactive tables.';\n",
              "          element.innerHTML = '';\n",
              "          dataTable['output_type'] = 'display_data';\n",
              "          await google.colab.output.renderOutput(dataTable, element);\n",
              "          const docLink = document.createElement('div');\n",
              "          docLink.innerHTML = docLinkHtml;\n",
              "          element.appendChild(docLink);\n",
              "        }\n",
              "      </script>\n",
              "    </div>\n",
              "  </div>\n",
              "  "
            ]
          },
          "metadata": {},
          "execution_count": 215
        }
      ]
    },
    {
      "cell_type": "code",
      "source": [
        "#Step 6. Distribute the data records between training, tuning and testing subsets. Sensitivity analysis is conducted to establish the optimum\n",
        "#percentage of data records to allocate to each data subset. Firstly, the data records to be used for testing are extracted from the complete data set\n",
        "#and placed to one side. Sensitivity analysis then helps to divide the remaining data records between the training and tuning subsets in proportions\n",
        "#that achieve an acceptable prediction accuracy. For most data sets the training subset is likely to hold more than seventy-five percent of the data\n",
        "#records. For large datasets of several thousand data records the sensitivity analysis often reveals that the training subset can be a much larger\n",
        "#percentage without compromising prediction accuracy.\n",
        "from sklearn.model_selection import train_test_split\n",
        "data_train, data_test = train_test_split(data_norm, train_size=0.7, random_state = 126)\n",
        "data_tune, data_test = train_test_split(data_test, test_size=(1/3), random_state = 26)"
      ],
      "metadata": {
        "id": "FGn8TSFQVX9v"
      },
      "execution_count": null,
      "outputs": []
    },
    {
      "cell_type": "code",
      "source": [
        "def var_sqr_err(var):\n",
        "  VSE = np.zeros((data_tune.shape[0],data_train.shape[0]))\n",
        "  for j in range(data_tune.shape[0]):\n",
        "    for k in range(data_train.shape[0]):\n",
        "      VSE[j][k] = (data_tune[j][var]-data_train[k][var])**2\n",
        "  return VSE"
      ],
      "metadata": {
        "id": "nnnm7Uczd6o_"
      },
      "execution_count": null,
      "outputs": []
    },
    {
      "cell_type": "code",
      "source": [
        "#Step 7. The variable squared error (VSE) between each variable in the J data records of the tuning-data subset and the K data records in the\n",
        "#training-data subset are calculated \n",
        "vse = {}\n",
        "for i in range(data.shape[1]):\n",
        "  vse[i] = var_sqr_err(i)"
      ],
      "metadata": {
        "id": "AZHdW8BUYf9k"
      },
      "execution_count": null,
      "outputs": []
    },
    {
      "cell_type": "code",
      "source": [
        "vse"
      ],
      "metadata": {
        "colab": {
          "base_uri": "https://localhost:8080/"
        },
        "id": "6QLPsWzbdiE7",
        "outputId": "9f90e2cb-6617-4c25-88a2-438896ef5ede"
      },
      "execution_count": null,
      "outputs": [
        {
          "output_type": "execute_result",
          "data": {
            "text/plain": [
              "{0: array([[7.11111111e-02, 1.28444444e+00, 1.52111111e+00, ...,\n",
              "         0.00000000e+00, 1.60000000e-01, 1.00000000e+00],\n",
              "        [2.15111111e+00, 4.44444444e-03, 1.11111111e-03, ...,\n",
              "         1.44000000e+00, 6.40000000e-01, 4.00000000e-02],\n",
              "        [1.77777778e+00, 4.44444444e-03, 2.77777778e-02, ...,\n",
              "         1.13777778e+00, 4.44444444e-01, 4.44444444e-03],\n",
              "        ...,\n",
              "        [3.00444444e+00, 1.11111111e-01, 5.44444444e-02, ...,\n",
              "         2.15111111e+00, 1.13777778e+00, 2.17777778e-01],\n",
              "        [3.61000000e+00, 2.50000000e-01, 1.60000000e-01, ...,\n",
              "         2.66777778e+00, 1.52111111e+00, 4.01111111e-01],\n",
              "        [4.90000000e-01, 4.90000000e-01, 6.40000000e-01, ...,\n",
              "         1.87777778e-01, 1.11111111e-03, 3.21111111e-01]]),\n",
              " 1: array([[1.89096563e-02, 9.70432868e-01, 2.19600793e-03, ...,\n",
              "         1.76958916e-01, 2.30483822e-02, 2.54682093e-01],\n",
              "        [1.33451816e+00, 1.06247135e-03, 9.42529337e-01, ...,\n",
              "         3.56452264e-01, 1.36777240e+00, 2.63210770e-01],\n",
              "        [1.04260512e-01, 6.39558370e-01, 1.91877891e-02, ...,\n",
              "         5.53582184e-02, 1.13702838e-01, 1.01938950e-01],\n",
              "        ...,\n",
              "        [7.60766874e-01, 6.26993522e-02, 4.73131489e-01, ...,\n",
              "         9.86225497e-02, 7.85924911e-01, 5.29215072e-02],\n",
              "        [1.86476324e+00, 5.90224897e-02, 1.39520834e+00, ...,\n",
              "         6.51872325e-01, 1.90403540e+00, 5.23293936e-01],\n",
              "        [2.87504665e-01, 3.43892266e-01, 1.23777767e-01, ...,\n",
              "         4.83235646e-04, 3.03049331e-01, 1.12313672e-02]]),\n",
              " 2: array([[1.13735775e-01, 1.36255685e+00, 1.52130681e+00, ...,\n",
              "         7.45385827e-04, 1.96492969e-01, 1.08185248e+00],\n",
              "        [2.43077523e+00, 2.97689238e-03, 1.33764408e-04, ...,\n",
              "         1.42693837e+00, 6.06173949e-01, 3.30242059e-02],\n",
              "        [2.04332252e+00, 5.63777686e-03, 1.99407421e-02, ...,\n",
              "         1.13401035e+00, 4.21104565e-01, 2.71228447e-03],\n",
              "        ...,\n",
              "        [3.08105287e+00, 6.28802562e-02, 3.40892699e-02, ...,\n",
              "         1.93416807e+00, 9.50176924e-01, 1.42826616e-01],\n",
              "        [3.54892188e+00, 1.43887294e-01, 9.80931281e-02, ...,\n",
              "         2.30830025e+00, 1.21734949e+00, 2.56531629e-01],\n",
              "        [7.41184926e-01, 4.14237025e-01, 5.03729508e-01, ...,\n",
              "         2.46385033e-01, 6.46389480e-03, 2.66718281e-01]])}"
            ]
          },
          "metadata": {},
          "execution_count": 220
        }
      ]
    },
    {
      "cell_type": "code",
      "source": [
        "vse_sum = np.zeros((data_tune.shape[0],data_train.shape[0]))\n",
        "w =0.5\n",
        "for j in range(data_tune.shape[0]):\n",
        "  for k in range(data_train.shape[0]):\n",
        "    for i in range(data.shape[1]):\n",
        "      vse_sum[j][k] += vse[i][j][k]*w "
      ],
      "metadata": {
        "id": "KrbErWj2gDPQ"
      },
      "execution_count": null,
      "outputs": []
    },
    {
      "cell_type": "code",
      "source": [
        "vse_sum"
      ],
      "metadata": {
        "id": "wcuoLz5ThxRe",
        "colab": {
          "base_uri": "https://localhost:8080/"
        },
        "outputId": "fe98679c-52bd-4c8e-ea9b-0c9a654e3935"
      },
      "execution_count": null,
      "outputs": [
        {
          "output_type": "execute_result",
          "data": {
            "text/plain": [
              "array([[1.01878271e-01, 1.80871708e+00, 1.52230696e+00, ...,\n",
              "        8.88521512e-02, 1.89770676e-01, 1.16826729e+00],\n",
              "       [2.95820225e+00, 4.24190409e-03, 4.71887106e-01, ...,\n",
              "        1.61169532e+00, 1.30697317e+00, 1.68117488e-01],\n",
              "       [1.96268040e+00, 3.24820295e-01, 3.34531545e-02, ...,\n",
              "        1.16357317e+00, 4.89625924e-01, 5.45478393e-02],\n",
              "       ...,\n",
              "       [3.42313209e+00, 1.18345360e-01, 2.80832602e-01, ...,\n",
              "        2.09195086e+00, 1.43693981e+00, 2.06762950e-01],\n",
              "       [4.51184256e+00, 2.26454892e-01, 8.26650733e-01, ...,\n",
              "        2.81397518e+00, 2.32124800e+00, 5.90468338e-01],\n",
              "       [7.59344796e-01, 6.24064646e-01, 6.33753638e-01, ...,\n",
              "        2.17323023e-01, 1.55312169e-01, 2.99530380e-01]])"
            ]
          },
          "metadata": {},
          "execution_count": 222
        }
      ]
    },
    {
      "cell_type": "code",
      "source": [
        "#Step 8. Select and rank (lowest in ∑VSE is ranked number 1) the top-Q-matching data records in the training subset for each tuning subset data\n",
        "#record. Q = 10 is typically sufficient for TOB stage 1. However, Q could be adjusted to higher or lower values, if necessary, to improve prediction\n",
        "#accuracy.\n",
        "\n",
        "lowest_vse_sum = pd.DataFrame(vse_sum.T)\n",
        "cols = []\n",
        "for i in range(lowest_vse_sum.shape[1]):\n",
        "  cols.append(i)\n",
        "top_ten_sum = []\n",
        "for i in range(lowest_vse_sum.shape[1]):\n",
        "  lowest_ten_sum = lowest_vse_sum.sort_values(ascending = True, by = cols[i])\n",
        "  df_ten_sum = pd.DataFrame(lowest_ten_sum)\n",
        "  top_ten_sum.append(lowest_ten_sum[i].tolist()[:10])\n",
        "top_ten_sum"
      ],
      "metadata": {
        "id": "_AfwrpMT30if",
        "colab": {
          "base_uri": "https://localhost:8080/"
        },
        "outputId": "c3def81d-8573-4241-a6eb-89287a1455ed"
      },
      "execution_count": null,
      "outputs": [
        {
          "output_type": "execute_result",
          "data": {
            "text/plain": [
              "[[0.0015125016854570141,\n",
              "  0.001529568066193377,\n",
              "  0.006152883336775308,\n",
              "  0.01374782812286102,\n",
              "  0.013922586029880151,\n",
              "  0.016740830832660307,\n",
              "  0.022741088244831374,\n",
              "  0.023106254882450154,\n",
              "  0.024892292149850167,\n",
              "  0.0316774450892625],\n",
              " [0.0010560237652113814,\n",
              "  0.004171800323274837,\n",
              "  0.004241904089479132,\n",
              "  0.009348166655927777,\n",
              "  0.01655145726513834,\n",
              "  0.025757308605083636,\n",
              "  0.027062211942513542,\n",
              "  0.02845265550098897,\n",
              "  0.030693164579720187,\n",
              "  0.033096091758545956],\n",
              " [0.0011074286967389393,\n",
              "  0.0011174566072300613,\n",
              "  0.004409978261348955,\n",
              "  0.00987851767079377,\n",
              "  0.010149307215052777,\n",
              "  0.018126482258891057,\n",
              "  0.021665541662391815,\n",
              "  0.023448944070724412,\n",
              "  0.024681279807766982,\n",
              "  0.02720014894139878],\n",
              " [0.0014451948236421813,\n",
              "  0.0014611023109943374,\n",
              "  0.005876674797745226,\n",
              "  0.01329579861958464,\n",
              "  0.013614732520150791,\n",
              "  0.016427639022770543,\n",
              "  0.022054731468434632,\n",
              "  0.022750222682296695,\n",
              "  0.026880411500105075,\n",
              "  0.02758996399720966],\n",
              " [0.0010691662491566737,\n",
              "  0.0010784598931030793,\n",
              "  0.004258378751912215,\n",
              "  0.004332731816563078,\n",
              "  0.009791616334502783,\n",
              "  0.021510383452029273,\n",
              "  0.021982178997093284,\n",
              "  0.024591022442195517,\n",
              "  0.02628013427026657,\n",
              "  0.02686840519516891],\n",
              " [0.0010485899901837385,\n",
              "  0.0010575340418593968,\n",
              "  0.004176766768900838,\n",
              "  0.004248322637257847,\n",
              "  0.009358577058064928,\n",
              "  0.009600363555949612,\n",
              "  0.01656864310425607,\n",
              "  0.01714161097151919,\n",
              "  0.021472417742279436,\n",
              "  0.02194047515019239],\n",
              " [0.0016276489182896923,\n",
              "  0.006473492540616876,\n",
              "  0.027203570060004716,\n",
              "  0.028279727461814223,\n",
              "  0.029361961914870515,\n",
              "  0.03253487957622668,\n",
              "  0.03977601363212636,\n",
              "  0.03991447259666673,\n",
              "  0.05695533535412929,\n",
              "  0.06383369899186543],\n",
              " [0.0011705102104448222,\n",
              "  0.00118172368593278,\n",
              "  0.004659962015012585,\n",
              "  0.010435754187253482,\n",
              "  0.02190855752546922,\n",
              "  0.02219484844193602,\n",
              "  0.023929995461104508,\n",
              "  0.024822184622230233,\n",
              "  0.028227928504881424,\n",
              "  0.028719347944925453],\n",
              " [0.0015032735028697058,\n",
              "  0.001520349654319466,\n",
              "  0.006116036925368582,\n",
              "  0.01337865302659374,\n",
              "  0.022730275984263092,\n",
              "  0.023002158762605748,\n",
              "  0.02365211472599266,\n",
              "  0.0247471517053598,\n",
              "  0.031278950611734406,\n",
              "  0.032385464043164856],\n",
              " [0.0013990374402369013,\n",
              "  0.00556632286383088,\n",
              "  0.005687354252906958,\n",
              "  0.01245775353603109,\n",
              "  0.013539707173273387,\n",
              "  0.013630215304374475,\n",
              "  0.016218811272329315,\n",
              "  0.01653832786205349,\n",
              "  0.021628441708952326,\n",
              "  0.022030068160563684],\n",
              " [0.004939238788950778,\n",
              "  0.010843247565552067,\n",
              "  0.011168973189928062,\n",
              "  0.02207767711156833,\n",
              "  0.02492019255657646,\n",
              "  0.02882836066013224,\n",
              "  0.02983071759518148,\n",
              "  0.03002904802328323,\n",
              "  0.03133905845037972,\n",
              "  0.0357137777178806],\n",
              " [0.0010337217464013813,\n",
              "  0.004187153769763822,\n",
              "  0.00922777702512513,\n",
              "  0.009460650072387167,\n",
              "  0.01633874346896901,\n",
              "  0.02136030606510292,\n",
              "  0.021898926218814726,\n",
              "  0.022862102217905994,\n",
              "  0.024503427076725048,\n",
              "  0.026379418601286685],\n",
              " [0.0014469558311910233,\n",
              "  0.0057609301033379095,\n",
              "  0.012887688150453408,\n",
              "  0.013314218545292947,\n",
              "  0.013640930172354654,\n",
              "  0.01656388777652604,\n",
              "  0.016605335828886455,\n",
              "  0.02248875057820863,\n",
              "  0.022784136738571666,\n",
              "  0.03539855190217068],\n",
              " [0.0009682427945761247,\n",
              "  0.0009755717024994741,\n",
              "  0.003858565221331412,\n",
              "  0.00391720000858215,\n",
              "  0.01579018053179635,\n",
              "  0.021736906897569075,\n",
              "  0.022462328231558484,\n",
              "  0.02431510286006309,\n",
              "  0.02476862939069689,\n",
              "  0.028824640012857054],\n",
              " [0.0014295505697931707,\n",
              "  0.005626329024264698,\n",
              "  0.01259163432936242,\n",
              "  0.01300706212210283,\n",
              "  0.013565390118262669,\n",
              "  0.013643775245087386,\n",
              "  0.016289356659948503,\n",
              "  0.016572627697927077,\n",
              "  0.021766397202542503,\n",
              "  0.02226607878845379],\n",
              " [0.004113451953125463,\n",
              "  0.004181619094379315,\n",
              "  0.009217960181751651,\n",
              "  0.01461002946338644,\n",
              "  0.01566423378155134,\n",
              "  0.01632914397674955,\n",
              "  0.01846984947429931,\n",
              "  0.02014087380936063,\n",
              "  0.026467063412619403,\n",
              "  0.026638526873142773],\n",
              " [0.0012662041539055506,\n",
              "  0.0012791646061089978,\n",
              "  0.005039285272008254,\n",
              "  0.00514297321941376,\n",
              "  0.011631457863729528,\n",
              "  0.02078552189894825,\n",
              "  0.024629986646775515,\n",
              "  0.0250218039325061,\n",
              "  0.029465300337546192,\n",
              "  0.03024692556822285],\n",
              " [0.0013227172867039563,\n",
              "  0.0013364683610848323,\n",
              "  0.00526376358481119,\n",
              "  0.005373776615461284,\n",
              "  0.01178306995120039,\n",
              "  0.020841343641470784,\n",
              "  0.021730371011670992,\n",
              "  0.0266024117835507,\n",
              "  0.028941231572013563,\n",
              "  0.03240005978031906],\n",
              " [0.0009780275734446906,\n",
              "  0.0009855174609623993,\n",
              "  0.0038973847785492045,\n",
              "  0.008736358946128129,\n",
              "  0.008938614467054719,\n",
              "  0.01547373277381982,\n",
              "  0.015953214793964627,\n",
              "  0.02175685664017122,\n",
              "  0.0223988984853715,\n",
              "  0.024088775741871682],\n",
              " [0.001202323523688165,\n",
              "  0.0012123802927227994,\n",
              "  0.004872289745651115,\n",
              "  0.010704366751975189,\n",
              "  0.013187727527538433,\n",
              "  0.013435618022023662,\n",
              "  0.015321720457528703,\n",
              "  0.01610011801891487,\n",
              "  0.01893962587539777,\n",
              "  0.019685188293033125],\n",
              " [0.0015553663169039487,\n",
              "  0.0015738120137134492,\n",
              "  0.006186069098120594,\n",
              "  0.014326141255976753,\n",
              "  0.02279904830957407,\n",
              "  0.02315157898301576,\n",
              "  0.024465051259000555,\n",
              "  0.025565537733844474,\n",
              "  0.02561643043926248,\n",
              "  0.031505734050994674],\n",
              " [0.0012144170072859648,\n",
              "  0.0012265181614078443,\n",
              "  0.004930652127010875,\n",
              "  0.010823076831791494,\n",
              "  0.019147669204278708,\n",
              "  0.024448618219077747,\n",
              "  0.02930270824189187,\n",
              "  0.029773874522703532,\n",
              "  0.03128704665036662,\n",
              "  0.03733633096956199],\n",
              " [0.0013333524314455157,\n",
              "  0.0013475059645668688,\n",
              "  0.00530551911778685,\n",
              "  0.011875268584347568,\n",
              "  0.02100225264819868,\n",
              "  0.021908253476121277,\n",
              "  0.022481368894047157,\n",
              "  0.025101994718683608,\n",
              "  0.02515442685187763,\n",
              "  0.03031251181032734],\n",
              " [0.0009906825814199145,\n",
              "  0.0009984694730275539,\n",
              "  0.003947421012655365,\n",
              "  0.004009719618796349,\n",
              "  0.00905791982339647,\n",
              "  0.01566928888193713,\n",
              "  0.016167789085341555,\n",
              "  0.021216266156098958,\n",
              "  0.02265805851027102,\n",
              "  0.024376615948639577],\n",
              " [0.0011276751053719075,\n",
              "  0.0011380868776094675,\n",
              "  0.004573503613739913,\n",
              "  0.010057337905984145,\n",
              "  0.010338489582216111,\n",
              "  0.01779945946345937,\n",
              "  0.02174539405293822,\n",
              "  0.02210911196551717,\n",
              "  0.024727481985446848,\n",
              "  0.02765917950393243],\n",
              " [0.001190870198345555,\n",
              "  0.0012025354829298294,\n",
              "  0.004740513125254392,\n",
              "  0.010615014993505461,\n",
              "  0.010930014936551328,\n",
              "  0.018781171199826995,\n",
              "  0.019527916358146963,\n",
              "  0.024846365848813196,\n",
              "  0.029208217971213334,\n",
              "  0.03620985985408075],\n",
              " [0.0010855331025176726,\n",
              "  0.0010950642874181628,\n",
              "  0.004399624775901672,\n",
              "  0.009685822432794358,\n",
              "  0.009943196245134376,\n",
              "  0.012965265696719876,\n",
              "  0.01582353980677374,\n",
              "  0.017145780471135658,\n",
              "  0.017755918491840966,\n",
              "  0.020556962636190508],\n",
              " [0.0015909284879384758,\n",
              "  0.0062566491320315415,\n",
              "  0.006400052789832975,\n",
              "  0.01399860826621912,\n",
              "  0.027104793408139254,\n",
              "  0.029292273482767788,\n",
              "  0.03205359010269303,\n",
              "  0.03465922500774516,\n",
              "  0.03845289223295356,\n",
              "  0.04326054569990321],\n",
              " [0.000948598997746824,\n",
              "  0.00095545046278553,\n",
              "  0.003780925818909888,\n",
              "  0.003835741091948312,\n",
              "  0.008477120292813263,\n",
              "  0.008662138915657607,\n",
              "  0.013112050230169087,\n",
              "  0.01412655648900614,\n",
              "  0.015456395897180656,\n",
              "  0.019724602281249587],\n",
              " [0.001051280463446949,\n",
              "  0.004152039389801865,\n",
              "  0.0042226100638030365,\n",
              "  0.01647239932605238,\n",
              "  0.0170347850180415,\n",
              "  0.02139718736653059,\n",
              "  0.02191956001492232,\n",
              "  0.02293199944718573,\n",
              "  0.025633810442406285,\n",
              "  0.026498600608084986],\n",
              " [0.0014696209881339998,\n",
              "  0.001485662621728453,\n",
              "  0.00597637332265686,\n",
              "  0.02295294146561501,\n",
              "  0.023116416550852968,\n",
              "  0.024179180634213884,\n",
              "  0.025381436832026635,\n",
              "  0.03099427141686395,\n",
              "  0.032586299527521866,\n",
              "  0.035919937207178676],\n",
              " [0.0010386635405774049,\n",
              "  0.004137735312968415,\n",
              "  0.004206520012599295,\n",
              "  0.009272246840101925,\n",
              "  0.009504414123962348,\n",
              "  0.016417769227179316,\n",
              "  0.025413337214883553,\n",
              "  0.026973810665139188,\n",
              "  0.030548636669265633,\n",
              "  0.033066954430382815],\n",
              " [0.0009846736229430638,\n",
              "  0.003923797812195879,\n",
              "  0.003986151428032069,\n",
              "  0.008795402556736616,\n",
              "  0.009008197755788264,\n",
              "  0.012772650154041085,\n",
              "  0.013166467657280348,\n",
              "  0.014376383942418278,\n",
              "  0.01553487917677071,\n",
              "  0.01607442838354895],\n",
              " [0.004430855252774435,\n",
              "  0.009750135306641754,\n",
              "  0.010012712573817695,\n",
              "  0.01725937168143162,\n",
              "  0.017879212257780806,\n",
              "  0.025712444274206978,\n",
              "  0.02854498839223872,\n",
              "  0.031452618667692875,\n",
              "  0.03324694090197044,\n",
              "  0.037468807932930386],\n",
              " [0.0012868547579807299,\n",
              "  0.00512142155548446,\n",
              "  0.005226965062600778,\n",
              "  0.011465278464666474,\n",
              "  0.011821511621255196,\n",
              "  0.013344120367294127,\n",
              "  0.013524370960903071,\n",
              "  0.015715509415562913,\n",
              "  0.01629558268116733,\n",
              "  0.02112524523834159],\n",
              " [0.0009422383263493916,\n",
              "  0.0009489554039082667,\n",
              "  0.008604457399511796,\n",
              "  0.013101311057708547,\n",
              "  0.014160619536679183,\n",
              "  0.015351988060250133,\n",
              "  0.015415277246159905,\n",
              "  0.017575109160475694,\n",
              "  0.019598287663600104,\n",
              "  0.02294108939952661],\n",
              " [0.0013619080537390067,\n",
              "  0.00553598958597495,\n",
              "  0.012127847475317316,\n",
              "  0.012523548951722443,\n",
              "  0.02144734593839226,\n",
              "  0.02238539155731082,\n",
              "  0.022526285666339053,\n",
              "  0.02257055617672904,\n",
              "  0.02520936698194068,\n",
              "  0.02529848552799774],\n",
              " [0.0011676984457188637,\n",
              "  0.0011789072253213285,\n",
              "  0.004738122170392182,\n",
              "  0.01071190718531378,\n",
              "  0.013398555911812519,\n",
              "  0.015265484068224203,\n",
              "  0.015995609155831734,\n",
              "  0.01913522840743559,\n",
              "  0.020903331603828745,\n",
              "  0.026784288712025248],\n",
              " [0.001452565000973655,\n",
              "  0.005714608939922309,\n",
              "  0.012787439470072801,\n",
              "  0.013223030006707215,\n",
              "  0.022609131090401642,\n",
              "  0.02263948178624453,\n",
              "  0.022856215317696996,\n",
              "  0.023639952140352,\n",
              "  0.025322767381723867,\n",
              "  0.03085857382482026],\n",
              " [0.0009558095184847349,\n",
              "  0.0009634791670323796,\n",
              "  0.003866857837230495,\n",
              "  0.008540764748804625,\n",
              "  0.008731846905008242,\n",
              "  0.012707926232674775,\n",
              "  0.013122846048768701,\n",
              "  0.01423058746336151,\n",
              "  0.017712520563793566,\n",
              "  0.019681072981663706],\n",
              " [0.0011427556723540425,\n",
              "  0.0011543606660142313,\n",
              "  0.004550243678494775,\n",
              "  0.004636858334839884,\n",
              "  0.010191775555499258,\n",
              "  0.010480141588056494,\n",
              "  0.018717529050887173,\n",
              "  0.025981396491241402,\n",
              "  0.02617564755481282,\n",
              "  0.028026401973703076],\n",
              " [0.00115696479574672,\n",
              "  0.010222464974617155,\n",
              "  0.0105103496658584,\n",
              "  0.013103303382426667,\n",
              "  0.013374179343976524,\n",
              "  0.015164782085501424,\n",
              "  0.01594513190152189,\n",
              "  0.01809090942232684,\n",
              "  0.018773802696194095,\n",
              "  0.020784539794768526],\n",
              " [0.004795779997116445,\n",
              "  0.01105842864560493,\n",
              "  0.018999362582744435,\n",
              "  0.019757657289072125,\n",
              "  0.022260070987761837,\n",
              "  0.024184571056364623,\n",
              "  0.02867465961468735,\n",
              "  0.02954515708425859,\n",
              "  0.029976719528704846,\n",
              "  0.03547137687026511],\n",
              " [0.001469967163685307,\n",
              "  0.0014864804271971076,\n",
              "  0.005847310960625634,\n",
              "  0.013083890173195195,\n",
              "  0.0135297937286292,\n",
              "  0.022905087616867638,\n",
              "  0.023132482791544468,\n",
              "  0.02418953054890612,\n",
              "  0.025411237203160783,\n",
              "  0.03113416711411922],\n",
              " [0.0014208317035900799,\n",
              "  0.005652176754072935,\n",
              "  0.005778073374735795,\n",
              "  0.012648038140524181,\n",
              "  0.022363314807622076,\n",
              "  0.02261668492288102,\n",
              "  0.022807670138696567,\n",
              "  0.02337573178028743,\n",
              "  0.02529396835359592,\n",
              "  0.025914527939720156],\n",
              " [0.0010740532883497136,\n",
              "  0.00427796236057743,\n",
              "  0.017565092602499197,\n",
              "  0.02561026480757701,\n",
              "  0.02640226447725308,\n",
              "  0.027335602336671906,\n",
              "  0.027566128948687013,\n",
              "  0.028507773959605638,\n",
              "  0.03786186609133953,\n",
              "  0.03987126697945821],\n",
              " [0.0016101755597599534,\n",
              "  0.006403229963311569,\n",
              "  0.006555472304626995,\n",
              "  0.014323737935648218,\n",
              "  0.014837204195680423,\n",
              "  0.022868592565194377,\n",
              "  0.023355943210269268,\n",
              "  0.025317308062243405,\n",
              "  0.026534173121771035,\n",
              "  0.02714898281078605],\n",
              " [0.0015553644237687556,\n",
              "  0.006186657874134601,\n",
              "  0.006327776167441325,\n",
              "  0.014318692443409081,\n",
              "  0.024472015152895127,\n",
              "  0.02796547281993935,\n",
              "  0.029269343614780428,\n",
              "  0.03460991376105267,\n",
              "  0.03802590545579129,\n",
              "  0.038815825490584856],\n",
              " [0.0011122335551574446,\n",
              "  0.004468854576521527,\n",
              "  0.010100214160789676,\n",
              "  0.017412352391228212,\n",
              "  0.02607012798172481,\n",
              "  0.027088880588732635,\n",
              "  0.02762434988955753,\n",
              "  0.028316878477551207,\n",
              "  0.028564091369160455,\n",
              "  0.03327771364986233],\n",
              " [0.0011255126345161475,\n",
              "  0.004481788958470455,\n",
              "  0.010038914052762587,\n",
              "  0.010316816300493505,\n",
              "  0.013062730032586168,\n",
              "  0.013350078224986767,\n",
              "  0.015064744528572462,\n",
              "  0.01589567190732826,\n",
              "  0.01938789480727201,\n",
              "  0.020669034319258758],\n",
              " [0.000998063571903204,\n",
              "  0.0010058730119164565,\n",
              "  0.003976891920859437,\n",
              "  0.004039370767980963,\n",
              "  0.009124705544697987,\n",
              "  0.016286621840506846,\n",
              "  0.024575450552194487,\n",
              "  0.025180752558091726,\n",
              "  0.02577088118605199,\n",
              "  0.0265516668140658],\n",
              " [0.0011768659303799669,\n",
              "  0.001189089103559917,\n",
              "  0.004687621163989249,\n",
              "  0.010499547356478397,\n",
              "  0.01081099385108425,\n",
              "  0.01341067671245212,\n",
              "  0.015213552282381203,\n",
              "  0.01604837528293542,\n",
              "  0.018580596910707278,\n",
              "  0.019309134257485414],\n",
              " [0.0013939384567727565,\n",
              "  0.00140890625085296,\n",
              "  0.01241957486720786,\n",
              "  0.01281743623788096,\n",
              "  0.02196032050290686,\n",
              "  0.022910315972356925,\n",
              "  0.0267561344570988,\n",
              "  0.02723337779708098,\n",
              "  0.03043539462544662,\n",
              "  0.03599257514996132],\n",
              " [0.0009931586794994223,\n",
              "  0.0010009538357031768,\n",
              "  0.004019670934861865,\n",
              "  0.008869840143269126,\n",
              "  0.015708666284194435,\n",
              "  0.01620768728230939,\n",
              "  0.021181124606256797,\n",
              "  0.02252666005726276,\n",
              "  0.02439739178938246,\n",
              "  0.02445219435346357],\n",
              " [0.0013176535862811341,\n",
              "  0.001331627450033263,\n",
              "  0.005243266561920762,\n",
              "  0.005354879035181491,\n",
              "  0.011735846768047564,\n",
              "  0.01211294897547286,\n",
              "  0.02164989329473989,\n",
              "  0.02245898758123599,\n",
              "  0.02510059253085355,\n",
              "  0.02519968949618216],\n",
              " [0.001591599143692958,\n",
              "  0.0016101485062380598,\n",
              "  0.006478210640580265,\n",
              "  0.01416178645445244,\n",
              "  0.014661394061622444,\n",
              "  0.02284549835956279,\n",
              "  0.023253603312855888,\n",
              "  0.02503214430296299,\n",
              "  0.026798609802103756,\n",
              "  0.03342606969113339],\n",
              " [0.0015447009713055447,\n",
              "  0.0015622569756790512,\n",
              "  0.006284625232895845,\n",
              "  0.0137471813844252,\n",
              "  0.013754451861887626,\n",
              "  0.013775324574909497,\n",
              "  0.014221236331568826,\n",
              "  0.016846841073189848,\n",
              "  0.022948112684831296,\n",
              "  0.023105893481994134],\n",
              " [0.0010008557241946597,\n",
              "  0.003953799231229007,\n",
              "  0.004021140797909861,\n",
              "  0.008862241710402693,\n",
              "  0.009079543116149605,\n",
              "  0.012789527877978275,\n",
              "  0.0131775420649257,\n",
              "  0.014414810984103384,\n",
              "  0.015555441663259539,\n",
              "  0.015695666238293316],\n",
              " [0.000947472715764738,\n",
              "  0.0009542748699643857,\n",
              "  0.0037765170810609558,\n",
              "  0.003830936438418647,\n",
              "  0.024210580218161835,\n",
              "  0.024878775303599332,\n",
              "  0.025608868995141556,\n",
              "  0.02601286383764452,\n",
              "  0.03274146070604301,\n",
              "  0.034993197054927705],\n",
              " [0.0013134706723551054,\n",
              "  0.005173734196393904,\n",
              "  0.005281126194585938,\n",
              "  0.011581961882021588,\n",
              "  0.011944433659884436,\n",
              "  0.013367450877647511,\n",
              "  0.013537324503559002,\n",
              "  0.015775233114857134,\n",
              "  0.016324870145485792,\n",
              "  0.020486398596245965]]"
            ]
          },
          "metadata": {},
          "execution_count": 223
        }
      ]
    },
    {
      "cell_type": "code",
      "source": [
        "#Step 9. The Q-selected training-subset data records (i.e. best matches) for the jth tuning-subset data record each contribute a fraction to the\n",
        "#prediction of the dependent variable. That fraction is proportional to the relative ∑VSE scores of those Q records for the jth data record That\n",
        "#fraction is calculated with Eq. (A4) to Eq. (A6) and\n",
        "f = []\n",
        "tot = sum(map(sum, top_ten_sum))\n",
        "for j in range(len(top_ten_sum)):\n",
        "  fq = []\n",
        "  for q in range(10):\n",
        "    val = top_ten_sum[j][q]/sum(top_ten_sum[j])\n",
        "    fq.append(val)\n",
        "  f.append(fq)"
      ],
      "metadata": {
        "id": "Qr8TaxbWYMzH"
      },
      "execution_count": null,
      "outputs": []
    },
    {
      "cell_type": "code",
      "source": [
        "f"
      ],
      "metadata": {
        "id": "pPA-aMJnZ6ze",
        "colab": {
          "base_uri": "https://localhost:8080/"
        },
        "outputId": "96aa1844-7dc2-41b4-b5ea-ad5fd10df415"
      },
      "execution_count": null,
      "outputs": [
        {
          "output_type": "execute_result",
          "data": {
            "text/plain": [
              "[[0.00969407706707376,\n",
              "  0.00980346062129065,\n",
              "  0.03943567522927495,\n",
              "  0.08811395491941511,\n",
              "  0.0892340307745452,\n",
              "  0.10729700721597368,\n",
              "  0.14575445710522208,\n",
              "  0.14809491963920665,\n",
              "  0.15954216831424534,\n",
              "  0.20303024911375236],\n",
              " [0.0058527915190326124,\n",
              "  0.02312133339752355,\n",
              "  0.02350986890383444,\n",
              "  0.05181026443222689,\n",
              "  0.09173300062015342,\n",
              "  0.1427545120888104,\n",
              "  0.1499866667410671,\n",
              "  0.15769291023181803,\n",
              "  0.1701104646148757,\n",
              "  0.183428187450658],\n",
              " [0.007810614884045559,\n",
              "  0.007881341014918343,\n",
              "  0.031103259241736396,\n",
              "  0.06967247406448385,\n",
              "  0.0715823332283844,\n",
              "  0.12784477460588825,\n",
              "  0.15280550583301183,\n",
              "  0.16538371464752386,\n",
              "  0.1740752898958714,\n",
              "  0.19184069258413614],\n",
              " [0.009545762903220588,\n",
              "  0.009650834621002536,\n",
              "  0.03881645807257402,\n",
              "  0.08782105993962969,\n",
              "  0.08992767376552975,\n",
              "  0.10850740993927609,\n",
              "  0.14567533321306747,\n",
              "  0.15026917351763536,\n",
              "  0.1775497882523123,\n",
              "  0.18223650577575223],\n",
              " [0.0075419551686083525,\n",
              "  0.007607513023667924,\n",
              "  0.03003882853878791,\n",
              "  0.030563318982334706,\n",
              "  0.06907057857585971,\n",
              "  0.1517353805198604,\n",
              "  0.1550634512033753,\n",
              "  0.1734663706000533,\n",
              "  0.18538145461259697,\n",
              "  0.18953114877485544],\n",
              " [0.00983545186338871,\n",
              "  0.009919344319489862,\n",
              "  0.039176788720753954,\n",
              "  0.03984796077594877,\n",
              "  0.0877805767994055,\n",
              "  0.09004845984561448,\n",
              "  0.15540878057115848,\n",
              "  0.16078304308605,\n",
              "  0.20140467968586775,\n",
              "  0.20579491433232255],\n",
              " [0.004993388508874562,\n",
              "  0.01985972705868766,\n",
              "  0.08345656892687156,\n",
              "  0.08675806223022009,\n",
              "  0.09007819903679745,\n",
              "  0.0998122457417031,\n",
              "  0.12202698454664375,\n",
              "  0.12245175637226142,\n",
              "  0.17473062764373623,\n",
              "  0.19583243993420418],\n",
              " [0.006998532277687046,\n",
              "  0.007065578143197012,\n",
              "  0.027862118829760106,\n",
              "  0.06239583548249971,\n",
              "  0.13099223366987248,\n",
              "  0.13270397971174605,\n",
              "  0.14307850042230721,\n",
              "  0.14841293884601653,\n",
              "  0.16877603203356897,\n",
              "  0.17171425058334486],\n",
              " [0.008336956236325275,\n",
              "  0.008431658316186157,\n",
              "  0.03391873274504638,\n",
              "  0.07419624211480566,\n",
              "  0.12605910751346597,\n",
              "  0.1275669334813462,\n",
              "  0.13117150338293182,\n",
              "  0.137244433795604,\n",
              "  0.17346892755736376,\n",
              "  0.17960550485692475],\n",
              " [0.010870866305302667,\n",
              "  0.043251702866942986,\n",
              "  0.044192146640319285,\n",
              "  0.0967998205478143,\n",
              "  0.10520686742213191,\n",
              "  0.10591013794545409,\n",
              "  0.12602416768958843,\n",
              "  0.12850689047406916,\n",
              "  0.1680583317128664,\n",
              "  0.17117906839551078],\n",
              " [0.021503907515056403,\n",
              "  0.04720812310878858,\n",
              "  0.04862623104022416,\n",
              "  0.09611933073907801,\n",
              "  0.10849475777376866,\n",
              "  0.12550970461945646,\n",
              "  0.1298736545618226,\n",
              "  0.13073712348194488,\n",
              "  0.1364405009195898,\n",
              "  0.1554866662402703],\n",
              " [0.006573654128596668,\n",
              "  0.026626991994216472,\n",
              "  0.05868137605710162,\n",
              "  0.06016226477198271,\n",
              "  0.10390150815223911,\n",
              "  0.13583468147184624,\n",
              "  0.13925988038008144,\n",
              "  0.14538491925542021,\n",
              "  0.155822449443892,\n",
              "  0.16775227434462361],\n",
              " [0.008993370437778501,\n",
              "  0.03580633034445926,\n",
              "  0.08010179103269024,\n",
              "  0.08275283660096197,\n",
              "  0.08478347127906181,\n",
              "  0.10295074352164103,\n",
              "  0.10320835863384167,\n",
              "  0.13977597675953882,\n",
              "  0.14161191197267606,\n",
              "  0.22001520941735067],\n",
              " [0.006559138738077129,\n",
              "  0.006608786743863618,\n",
              "  0.02613896510090909,\n",
              "  0.026536173018809055,\n",
              "  0.10696695641580004,\n",
              "  0.14725169025423793,\n",
              "  0.15216589070050154,\n",
              "  0.16471708747348776,\n",
              "  0.16778939893554018,\n",
              "  0.1952659126187736],\n",
              " [0.0104531249418261,\n",
              "  0.041140706385063744,\n",
              "  0.092072242596955,\n",
              "  0.0951099236091425,\n",
              "  0.0991925160166448,\n",
              "  0.09976568183644383,\n",
              "  0.11911063797697226,\n",
              "  0.12118196557807924,\n",
              "  0.15915972075371196,\n",
              "  0.1628134803051605],\n",
              " [0.02639658159016452,\n",
              "  0.02683401942252048,\n",
              "  0.05915290631937855,\n",
              "  0.09375454950238604,\n",
              "  0.10051952223435144,\n",
              "  0.10478634154272964,\n",
              "  0.11852354036515685,\n",
              "  0.12924673117964577,\n",
              "  0.16984275172885613,\n",
              "  0.17094305611481064],\n",
              " [0.008195038731365007,\n",
              "  0.008278920471490129,\n",
              "  0.032614912733563296,\n",
              "  0.03328599467745277,\n",
              "  0.07528031510676417,\n",
              "  0.13452661364924126,\n",
              "  0.15940849183028688,\n",
              "  0.16194438449994555,\n",
              "  0.1907032738383397,\n",
              "  0.19576205446155123],\n",
              " [0.008501015270327896,\n",
              "  0.008589392502915925,\n",
              "  0.03382985545261945,\n",
              "  0.034536901820647156,\n",
              "  0.07572900013736297,\n",
              "  0.13394591749215431,\n",
              "  0.13965963676216103,\n",
              "  0.17097191597385572,\n",
              "  0.18600335386018754,\n",
              "  0.20823301072776793],\n",
              " [0.00793805988129031,\n",
              "  0.007998850780477636,\n",
              "  0.031632721400264845,\n",
              "  0.07090775591791969,\n",
              "  0.07254934198361933,\n",
              "  0.12559095538896123,\n",
              "  0.1294826217297229,\n",
              "  0.17658728192093737,\n",
              "  0.18179834830789354,\n",
              "  0.19551406268891314],\n",
              " [0.010485864979519753,\n",
              "  0.010573573420841692,\n",
              "  0.04249286602766909,\n",
              "  0.09335635728739514,\n",
              "  0.11501457595728572,\n",
              "  0.11717651174550428,\n",
              "  0.13362584097062113,\n",
              "  0.14041450605807204,\n",
              "  0.1651788023599779,\n",
              "  0.17168110119311317],\n",
              " [0.008800069850170995,\n",
              "  0.00890443331657407,\n",
              "  0.0350000122606534,\n",
              "  0.08105553165569636,\n",
              "  0.12899418963954898,\n",
              "  0.13098876449750912,\n",
              "  0.1384202278443157,\n",
              "  0.14464664392555904,\n",
              "  0.14493458854521243,\n",
              "  0.17825553846476003],\n",
              " [0.006408840375944392,\n",
              "  0.006472701771714161,\n",
              "  0.02602052033341002,\n",
              "  0.05711660111426643,\n",
              "  0.10104795532784584,\n",
              "  0.12902264266592176,\n",
              "  0.15463912196425111,\n",
              "  0.157125606809352,\n",
              "  0.16511106696788,\n",
              "  0.1970349426694144],\n",
              " [0.008040843657071797,\n",
              "  0.00812619719477121,\n",
              "  0.03199517902365844,\n",
              "  0.07161435778007728,\n",
              "  0.12665505833848134,\n",
              "  0.13211873833687857,\n",
              "  0.1355749374364695,\n",
              "  0.15137874297402112,\n",
              "  0.1516949373841988,\n",
              "  0.1828010078743718],\n",
              " [0.008318616355907072,\n",
              "  0.008384001742814897,\n",
              "  0.033145915367222674,\n",
              "  0.033669027627106995,\n",
              "  0.07605802444351538,\n",
              "  0.13157272089299585,\n",
              "  0.13575855399760087,\n",
              "  0.17814987561853046,\n",
              "  0.190256394582503,\n",
              "  0.20468686937180272],\n",
              " [0.007982087119592736,\n",
              "  0.008055785361820183,\n",
              "  0.03237289190187848,\n",
              "  0.07118942945031312,\n",
              "  0.07317952142167304,\n",
              "  0.12599093075849635,\n",
              "  0.1539216649845099,\n",
              "  0.1564961902634058,\n",
              "  0.17502994835635902,\n",
              "  0.19578155038195139],\n",
              " [0.007572981987837858,\n",
              "  0.007647163867745881,\n",
              "  0.03014587195190135,\n",
              "  0.06750300533015745,\n",
              "  0.06950615302683372,\n",
              "  0.11943322740327592,\n",
              "  0.12418192935359655,\n",
              "  0.15800301434841457,\n",
              "  0.18574090518021086,\n",
              "  0.23026574755002577],\n",
              " [0.009827679302593113,\n",
              "  0.00991396817610465,\n",
              "  0.03983121403577907,\n",
              "  0.08768885668303744,\n",
              "  0.09001894434475598,\n",
              "  0.11737870825380935,\n",
              "  0.14325558040755998,\n",
              "  0.1552262491785614,\n",
              "  0.16075002434847896,\n",
              "  0.18610877526932015],\n",
              " [0.00682598146847259,\n",
              "  0.026844557347340682,\n",
              "  0.02745984000654568,\n",
              "  0.060061933225822144,\n",
              "  0.11629486737677394,\n",
              "  0.12568039197154432,\n",
              "  0.13752799933988002,\n",
              "  0.14870764425185107,\n",
              "  0.16498461859302951,\n",
              "  0.18561216641874007],\n",
              " [0.010648893861672112,\n",
              "  0.010725807841306749,\n",
              "  0.04244436040946883,\n",
              "  0.04305971212918522,\n",
              "  0.0951634510106117,\n",
              "  0.09724045476223069,\n",
              "  0.14719479099349647,\n",
              "  0.15858355431500398,\n",
              "  0.17351222148032483,\n",
              "  0.22142675319669944],\n",
              " [0.006516971186112885,\n",
              "  0.02573882232931836,\n",
              "  0.026176295548921674,\n",
              "  0.10211371323504666,\n",
              "  0.10559998685812744,\n",
              "  0.13264286589548646,\n",
              "  0.13588109547964555,\n",
              "  0.14215728802498348,\n",
              "  0.15890602922049973,\n",
              "  0.16426693222185781],\n",
              " [0.007201830697512324,\n",
              "  0.007280442210406861,\n",
              "  0.029287026520731372,\n",
              "  0.11248015629877312,\n",
              "  0.11328126073090296,\n",
              "  0.11848930216577686,\n",
              "  0.1243809202507064,\n",
              "  0.15188643680192654,\n",
              "  0.15968811969242244,\n",
              "  0.17602450463084107],\n",
              " [0.006468196357805547,\n",
              "  0.025767424613775756,\n",
              "  0.026195775977084296,\n",
              "  0.057742195520293936,\n",
              "  0.0591879992105176,\n",
              "  0.10224038003634858,\n",
              "  0.15825957953777225,\n",
              "  0.16797730649465062,\n",
              "  0.19023925719990506,\n",
              "  0.20592188505184636],\n",
              " [0.009984215634875651,\n",
              "  0.03978581588031654,\n",
              "  0.04041805780456144,\n",
              "  0.08918203318935931,\n",
              "  0.09133969548871877,\n",
              "  0.12950980954036148,\n",
              "  0.13350296908227852,\n",
              "  0.14577105955357503,\n",
              "  0.15751776014780766,\n",
              "  0.16298858367814564],\n",
              " [0.020536218639235673,\n",
              "  0.04519012673545342,\n",
              "  0.046407125229150914,\n",
              "  0.07999408922324283,\n",
              "  0.08286693901661088,\n",
              "  0.11917256313747585,\n",
              "  0.1323008966069019,\n",
              "  0.14577724093600142,\n",
              "  0.15409360236290487,\n",
              "  0.17366119811302225],\n",
              " [0.011197162757063148,\n",
              "  0.044562442147142244,\n",
              "  0.045480795846192995,\n",
              "  0.09976152182501703,\n",
              "  0.10286117282218575,\n",
              "  0.1161096749075944,\n",
              "  0.11767806887061133,\n",
              "  0.13674357237668258,\n",
              "  0.141790897823251,\n",
              "  0.1838146906242594],\n",
              " [0.007324651819266566,\n",
              "  0.007376868177894632,\n",
              "  0.06688823069776675,\n",
              "  0.10184529666227798,\n",
              "  0.11008001346446804,\n",
              "  0.11934132175512131,\n",
              "  0.11983331113588654,\n",
              "  0.13662313629805778,\n",
              "  0.1523506626459047,\n",
              "  0.17833650734335577],\n",
              " [0.007964992875601004,\n",
              "  0.032376721387787556,\n",
              "  0.07092859056973455,\n",
              "  0.0732428139358265,\n",
              "  0.1254328125388864,\n",
              "  0.13091888529626722,\n",
              "  0.13174289141881204,\n",
              "  0.13200180339079676,\n",
              "  0.14743464351966315,\n",
              "  0.14795584506662487],\n",
              " [0.00903238148069434,\n",
              "  0.00911908363712323,\n",
              "  0.03665032449261421,\n",
              "  0.08285874871057199,\n",
              "  0.10364051500590947,\n",
              "  0.11808157842222546,\n",
              "  0.12372924228961778,\n",
              "  0.14801482637049754,\n",
              "  0.16169145891686218,\n",
              "  0.20718184067388373],\n",
              " [0.008020622880497156,\n",
              "  0.03155433539009368,\n",
              "  0.07060835799285413,\n",
              "  0.07301355667402583,\n",
              "  0.12484075687510246,\n",
              "  0.12500834420190252,\n",
              "  0.12620508095390562,\n",
              "  0.1305326377158139,\n",
              "  0.13982463251091728,\n",
              "  0.17039167480488743],\n",
              " [0.009509245102348308,\n",
              "  0.009585549602855944,\n",
              "  0.03847094869745066,\n",
              "  0.0849711409932737,\n",
              "  0.08687219661459247,\n",
              "  0.1264297780593782,\n",
              "  0.13055777025107915,\n",
              "  0.14157856928861592,\n",
              "  0.17621994358093188,\n",
              "  0.19580485780947385],\n",
              " [0.008719524392225925,\n",
              "  0.008808073526340651,\n",
              "  0.034719548285834116,\n",
              "  0.035380440746923085,\n",
              "  0.07776591068955574,\n",
              "  0.0799662188705623,\n",
              "  0.1428196377141621,\n",
              "  0.19824484439687415,\n",
              "  0.19972703077144507,\n",
              "  0.21384877060607685],\n",
              " [0.008437212374668556,\n",
              "  0.07454773758071823,\n",
              "  0.07664714828737729,\n",
              "  0.0955563677077078,\n",
              "  0.09753174156799337,\n",
              "  0.11058978418471674,\n",
              "  0.11628051664995896,\n",
              "  0.13192868565075933,\n",
              "  0.13690871235687188,\n",
              "  0.15157209363922794],\n",
              " [0.021340776303612297,\n",
              "  0.049208982092007955,\n",
              "  0.08454540179769753,\n",
              "  0.08791974292879251,\n",
              "  0.09905525185433582,\n",
              "  0.10761909871241374,\n",
              "  0.12759957645830475,\n",
              "  0.13147320948195265,\n",
              "  0.13339362234357377,\n",
              "  0.15784433802730896],\n",
              " [0.009063244573893925,\n",
              "  0.00916505892023986,\n",
              "  0.03605224024385496,\n",
              "  0.08067016702627634,\n",
              "  0.08341943454673942,\n",
              "  0.141223842400457,\n",
              "  0.14262587241441496,\n",
              "  0.14914321687484242,\n",
              "  0.15667578391348555,\n",
              "  0.19196113908579562],\n",
              " [0.008463829678469927,\n",
              "  0.03366975922496887,\n",
              "  0.0344197196542674,\n",
              "  0.07534378654255668,\n",
              "  0.13321724670096896,\n",
              "  0.13472656092569202,\n",
              "  0.1358642511487383,\n",
              "  0.13924816844812607,\n",
              "  0.15067501625738566,\n",
              "  0.154371661418826],\n",
              " [0.004549679899824329,\n",
              "  0.018121409407935135,\n",
              "  0.07440557151026846,\n",
              "  0.10848484734239078,\n",
              "  0.1118397506948392,\n",
              "  0.11579336132552541,\n",
              "  0.1167698699442656,\n",
              "  0.12075866959267875,\n",
              "  0.16038251825501587,\n",
              "  0.16889432202725668],\n",
              " [0.009530213830773609,\n",
              "  0.03789906658816349,\n",
              "  0.03880014973902807,\n",
              "  0.0847785103650698,\n",
              "  0.08781758472148596,\n",
              "  0.1353533009702576,\n",
              "  0.13823780373765868,\n",
              "  0.14984661640791422,\n",
              "  0.15704892683313534,\n",
              "  0.16068782680651342],\n",
              " [0.007020472649205805,\n",
              "  0.027924814102481463,\n",
              "  0.028561781943151163,\n",
              "  0.06463050532412637,\n",
              "  0.11045971633808788,\n",
              "  0.12622819067622065,\n",
              "  0.13211349261150587,\n",
              "  0.15621930734540623,\n",
              "  0.17163812231657352,\n",
              "  0.17520359669324115],\n",
              " [0.005451171405160088,\n",
              "  0.02190231734008829,\n",
              "  0.049502191661081316,\n",
              "  0.08533973553620924,\n",
              "  0.1277723869450469,\n",
              "  0.13276539857871156,\n",
              "  0.13538978886748015,\n",
              "  0.13878394292677987,\n",
              "  0.13999555881399928,\n",
              "  0.1630975079254431],\n",
              " [0.009121351617003304,\n",
              "  0.03632120307648625,\n",
              "  0.08135711863198059,\n",
              "  0.08360928714521898,\n",
              "  0.10586265320462562,\n",
              "  0.10819137330870775,\n",
              "  0.12208732949897837,\n",
              "  0.1288213105822603,\n",
              "  0.1571228969158794,\n",
              "  0.1675054760188593],\n",
              " [0.007258101635029289,\n",
              "  0.007314893317367484,\n",
              "  0.028920688587083365,\n",
              "  0.029375046240456844,\n",
              "  0.0663565348917036,\n",
              "  0.11843930580922045,\n",
              "  0.1787171908241566,\n",
              "  0.18311905820251567,\n",
              "  0.1874105819892303,\n",
              "  0.1930885985032365],\n",
              " [0.01060942543575213,\n",
              "  0.010719617124621139,\n",
              "  0.042258821439703484,\n",
              "  0.09465323271933009,\n",
              "  0.09746091733016791,\n",
              "  0.12089701209873702,\n",
              "  0.13714990330353735,\n",
              "  0.14467581780899952,\n",
              "  0.1675037507562729,\n",
              "  0.1740715019828785],\n",
              " [0.007210226361152646,\n",
              "  0.007287648131763127,\n",
              "  0.06424096104585006,\n",
              "  0.06629892173197177,\n",
              "  0.11359101330485268,\n",
              "  0.11850491918321032,\n",
              "  0.13839763516659215,\n",
              "  0.14086620362734809,\n",
              "  0.15742881873604372,\n",
              "  0.18617365271121544],\n",
              " [0.00712670479162881,\n",
              "  0.007182641247922775,\n",
              "  0.028844341497060617,\n",
              "  0.06364816977874926,\n",
              "  0.11272219594767337,\n",
              "  0.11630306918756866,\n",
              "  0.15199144440803833,\n",
              "  0.16164673327972584,\n",
              "  0.17507072390111303,\n",
              "  0.17546397596051932],\n",
              " [0.010019769026767333,\n",
              "  0.010126029798692234,\n",
              "  0.03987111669046022,\n",
              "  0.040719845987919244,\n",
              "  0.08924232831274777,\n",
              "  0.09210990827247732,\n",
              "  0.16463122972988214,\n",
              "  0.17078378602842234,\n",
              "  0.1908712139614618,\n",
              "  0.1916247721911697],\n",
              " [0.009370116045819348,\n",
              "  0.009479320477294656,\n",
              "  0.03813873971473371,\n",
              "  0.0833737458456004,\n",
              "  0.08631505256539099,\n",
              "  0.13449678683351632,\n",
              "  0.13689939604977744,\n",
              "  0.14737008242554553,\n",
              "  0.15776967756448226,\n",
              "  0.19678708247783944],\n",
              " [0.012087748819373866,\n",
              "  0.01222512982390539,\n",
              "  0.04917907909058831,\n",
              "  0.10757582123409884,\n",
              "  0.10763271490283814,\n",
              "  0.10779605014821834,\n",
              "  0.11128544350669353,\n",
              "  0.13183158881587143,\n",
              "  0.17957587077742537,\n",
              "  0.18081055288098685],\n",
              " [0.010155757903808559,\n",
              "  0.04011949656873476,\n",
              "  0.04080281648342499,\n",
              "  0.08992582958778092,\n",
              "  0.0921308032074289,\n",
              "  0.12977629611627775,\n",
              "  0.13371350509717453,\n",
              "  0.1462681653756939,\n",
              "  0.15784223020355678,\n",
              "  0.159265099456119],\n",
              " [0.005324228017047139,\n",
              "  0.005362452041194165,\n",
              "  0.02122175943991457,\n",
              "  0.02152756356735022,\n",
              "  0.13604893034039792,\n",
              "  0.13980378568931218,\n",
              "  0.14390647405479295,\n",
              "  0.1461766826037122,\n",
              "  0.18398735869608665,\n",
              "  0.19664076555019197],\n",
              " [0.011442777240953566,\n",
              "  0.04507286623087518,\n",
              "  0.046008450662744484,\n",
              "  0.10090047126180375,\n",
              "  0.10405827592201745,\n",
              "  0.11645540771614257,\n",
              "  0.11793532356149061,\n",
              "  0.1374316779633596,\n",
              "  0.14222004076219225,\n",
              "  0.1784747086784204]]"
            ]
          },
          "metadata": {},
          "execution_count": 225
        }
      ]
    },
    {
      "cell_type": "code",
      "source": [
        "for i in range(len(top_ten_sum)):\n",
        "  print(sum(f[i]))"
      ],
      "metadata": {
        "id": "UOGPFMcJaiDd",
        "colab": {
          "base_uri": "https://localhost:8080/"
        },
        "outputId": "969f5c9f-9ef8-4f52-ae8c-4ad4c9798e5d"
      },
      "execution_count": null,
      "outputs": [
        {
          "output_type": "stream",
          "name": "stdout",
          "text": [
            "0.9999999999999998\n",
            "1.0\n",
            "1.0\n",
            "1.0\n",
            "1.0\n",
            "1.0\n",
            "1.0\n",
            "1.0\n",
            "1.0\n",
            "1.0\n",
            "0.9999999999999998\n",
            "1.0000000000000002\n",
            "1.0\n",
            "0.9999999999999999\n",
            "1.0\n",
            "1.0\n",
            "1.0\n",
            "0.9999999999999999\n",
            "1.0\n",
            "1.0\n",
            "1.0000000000000002\n",
            "1.0\n",
            "0.9999999999999999\n",
            "0.9999999999999999\n",
            "1.0\n",
            "1.0\n",
            "1.0000000000000002\n",
            "1.0\n",
            "1.0\n",
            "1.0\n",
            "1.0\n",
            "1.0\n",
            "1.0000000000000002\n",
            "1.0\n",
            "0.9999999999999999\n",
            "1.0\n",
            "1.0000000000000002\n",
            "1.0\n",
            "1.0\n",
            "1.0\n",
            "1.0\n",
            "1.0\n",
            "1.0\n",
            "1.0000000000000002\n",
            "0.9999999999999998\n",
            "1.0000000000000002\n",
            "1.0000000000000002\n",
            "1.0\n",
            "0.9999999999999998\n",
            "1.0\n",
            "1.0000000000000002\n",
            "1.0\n",
            "1.0\n",
            "1.0\n",
            "1.0\n",
            "1.0\n",
            "1.0000000000000002\n",
            "1.0\n",
            "0.9999999999999999\n",
            "1.0\n"
          ]
        }
      ]
    },
    {
      "cell_type": "code",
      "source": [
        "#The matching training-subset data record with the lowest−γUjk value should contribute most to the dependent-variable prediction for the jth\n",
        "#tuning-subset data record. To achieve this (1 - f) is the multiplier applied in Eq. (A6) to each of the Q top-matching records\n",
        "y_pred = []\n",
        "for j in range(data_tune.shape[0]):\n",
        "  pred = 0\n",
        "  for q in range(10):\n",
        "    pred += data_train[q][2]*(1-f[j][q])\n",
        "  y_pred.append(pred)"
      ],
      "metadata": {
        "id": "FcJvAlURbGaI"
      },
      "execution_count": null,
      "outputs": []
    },
    {
      "cell_type": "code",
      "source": [
        "y_pred"
      ],
      "metadata": {
        "id": "ZezrKRXIFCBu",
        "colab": {
          "base_uri": "https://localhost:8080/"
        },
        "outputId": "8aac223c-9a8c-4c0d-898d-497c96fde6b7"
      },
      "execution_count": null,
      "outputs": [
        {
          "output_type": "execute_result",
          "data": {
            "text/plain": [
              "[-0.24126513331766322,\n",
              " -0.30440038331520086,\n",
              " -0.3021340513981783,\n",
              " -0.24874366929660985,\n",
              " -0.36290982213644385,\n",
              " -0.2930047302038447,\n",
              " -0.18558947493966885,\n",
              " -0.26154557069312345,\n",
              " -0.23950300661462662,\n",
              " -0.19057936343877285,\n",
              " -0.20341630536977157,\n",
              " -0.24983199817464188,\n",
              " -0.18112474959507643,\n",
              " -0.3295512822181388,\n",
              " -0.1569401853165932,\n",
              " -0.20833779285696677,\n",
              " -0.3415621103302428,\n",
              " -0.3322228232617601,\n",
              " -0.2945934097202877,\n",
              " -0.2192814886778533,\n",
              " -0.2317979459591721,\n",
              " -0.2911419874042327,\n",
              " -0.2468552052892294,\n",
              " -0.33374024047865986,\n",
              " -0.2949257359560986,\n",
              " -0.2861762877576899,\n",
              " -0.25076884315855114,\n",
              " -0.2546824583558829,\n",
              " -0.2761014095383715,\n",
              " -0.22696510401460945,\n",
              " -0.2093117986658072,\n",
              " -0.3024565410486109,\n",
              " -0.23390743879765122,\n",
              " -0.24280220994705679,\n",
              " -0.18757408019865413,\n",
              " -0.18989931266324883,\n",
              " -0.2016532307058613,\n",
              " -0.23575933933774101,\n",
              " -0.192749951272105,\n",
              " -0.2553945330506787,\n",
              " -0.3066966835554619,\n",
              " -0.15248525621834613,\n",
              " -0.18081766553150003,\n",
              " -0.276215720810109,\n",
              " -0.2232927267251361,\n",
              " -0.16291766317759104,\n",
              " -0.2493724592186162,\n",
              " -0.25679062370527234,\n",
              " -0.20750168509435496,\n",
              " -0.17927669102736482,\n",
              " -0.35712915631865616,\n",
              " -0.2366522420815239,\n",
              " -0.23040394673480014,\n",
              " -0.2712957779204119,\n",
              " -0.29796128885614936,\n",
              " -0.2629462058391401,\n",
              " -0.19254155096487624,\n",
              " -0.23320458988473255,\n",
              " -0.30470107808777713,\n",
              " -0.18639243098571814]"
            ]
          },
          "metadata": {},
          "execution_count": 228
        }
      ]
    },
    {
      "cell_type": "code",
      "source": [
        "df_tune = pd.DataFrame(data_tune)\n",
        "y_act = df_tune[2].tolist()\n",
        "y_act"
      ],
      "metadata": {
        "id": "tATt5ihEFJb-",
        "colab": {
          "base_uri": "https://localhost:8080/"
        },
        "outputId": "8647f340-c31d-44d3-ed87-b8711d05c007"
      },
      "execution_count": null,
      "outputs": [
        {
          "output_type": "execute_result",
          "data": {
            "text/plain": [
              "[0.6262450398704729,\n",
              " -0.595601971089708,\n",
              " -0.465955935090155,\n",
              " 0.471275691034313,\n",
              " -0.5789240664488602,\n",
              " -0.6613980516852456,\n",
              " 0.9316319273709539,\n",
              " -0.2863562307103307,\n",
              " 0.5644540424003108,\n",
              " 0.356569679948209,\n",
              " -0.15961733107290932,\n",
              " -0.686676683327355,\n",
              " 0.46761421188444996,\n",
              " -0.9135931457307166,\n",
              " 0.39440810894990386,\n",
              " -0.6638841281608011,\n",
              " -0.027079145837742624,\n",
              " 0.18359785022024577,\n",
              " -0.8631505252952719,\n",
              " -0.1652439020008759,\n",
              " 0.686887345179549,\n",
              " -0.18964860870453282,\n",
              " 0.14700489235035152,\n",
              " -0.8411723834833411,\n",
              " -0.4074629043975908,\n",
              " -0.25349945459769485,\n",
              " -0.4966666517791769,\n",
              " 0.8037443466688847,\n",
              " -0.9320849476342562,\n",
              " -0.660221174571744,\n",
              " 0.4532440015436916,\n",
              " -0.6224081258977712,\n",
              " -0.8164463669350862,\n",
              " -0.4567918460948752,\n",
              " 0.06780785723806959,\n",
              " -0.9581623619110687,\n",
              " 0.2193235743037769,\n",
              " -0.2633591487734248,\n",
              " 0.3754749919993483,\n",
              " -0.9120965857878331,\n",
              " -0.30975935489208983,\n",
              " -0.32459007018225927,\n",
              " -0.19183918703723846,\n",
              " 0.4849162967087144,\n",
              " 0.3372129537044566,\n",
              " -0.5132814717831726,\n",
              " 0.7810428932579749,\n",
              " 0.7619566066260515,\n",
              " -0.4280283156942545,\n",
              " -0.38445315587675455,\n",
              " -0.7517922845744355,\n",
              " -0.22864218105893186,\n",
              " 0.36655048619604313,\n",
              " -0.8142607598065865,\n",
              " 0.0805565187458277,\n",
              " 0.7706388438993961,\n",
              " 0.7115927084826525,\n",
              " -0.7918004250572537,\n",
              " -0.9203658524778738,\n",
              " 0.10257141473438836]"
            ]
          },
          "metadata": {},
          "execution_count": 229
        }
      ]
    },
    {
      "cell_type": "code",
      "source": [
        "n2 = 0\n",
        "import statistics\n",
        "for j in range(len(y_pred)):\n",
        "  n2 += (y_pred[j]-y_act[j])**2\n",
        "n1 = 0\n",
        "av = statistics.mean(y_act)\n",
        "for j in range(len(y_pred)):\n",
        "  n1 += (av - y_pred[j])**2\n",
        "r2 = 1-(n1/n2)\n",
        "rmse = math.sqrt(n2/(len(y_pred)))"
      ],
      "metadata": {
        "id": "gxqIarYUHe41"
      },
      "execution_count": null,
      "outputs": []
    },
    {
      "cell_type": "code",
      "source": [
        "r2"
      ],
      "metadata": {
        "id": "8SvdOOEzIrin",
        "colab": {
          "base_uri": "https://localhost:8080/"
        },
        "outputId": "21a78b8d-ec3d-453b-859d-d971e7f7070f"
      },
      "execution_count": null,
      "outputs": [
        {
          "output_type": "execute_result",
          "data": {
            "text/plain": [
              "0.9532656974700052"
            ]
          },
          "metadata": {},
          "execution_count": 231
        }
      ]
    },
    {
      "cell_type": "code",
      "source": [
        "rmse"
      ],
      "metadata": {
        "id": "H4740EIjJEGd",
        "colab": {
          "base_uri": "https://localhost:8080/"
        },
        "outputId": "0d6a5133-f7ef-457c-9934-91ea586af0de"
      },
      "execution_count": null,
      "outputs": [
        {
          "output_type": "execute_result",
          "data": {
            "text/plain": [
              "0.5531315857304091"
            ]
          },
          "metadata": {},
          "execution_count": 232
        }
      ]
    },
    {
      "cell_type": "code",
      "source": [
        "def opt_wt(vse,w):\n",
        "  VSE_sum = np.zeros((data_tune.shape[0],data_train.shape[0]))\n",
        "  #w =np.linspace(0,1,num=100)\n",
        "  for j in range(data_tune.shape[0]):\n",
        "    for k in range(data_train.shape[0]):\n",
        "      for i in range(data.shape[1]):\n",
        "        VSE_sum[j][k] += vse[i][j][k]*w \n",
        "  return VSE_sum"
      ],
      "metadata": {
        "id": "7durbelCvgAL"
      },
      "execution_count": null,
      "outputs": []
    },
    {
      "cell_type": "code",
      "source": [
        "def optimized_Q(Q,vse_sum):\n",
        "  lowest_vse_sum = pd.DataFrame(vse_sum.T)\n",
        "  cols = []\n",
        "  for i in range(lowest_vse_sum.shape[1]):\n",
        "    cols.append(i)\n",
        "  top_q_sum = []\n",
        "  for i in range(lowest_vse_sum.shape[1]):\n",
        "    lowest_q_sum = lowest_vse_sum.sort_values(ascending = True, by = cols[i])\n",
        "    df_q_sum = pd.DataFrame(lowest_ten_sum)\n",
        "    top_q_sum.append(lowest_q_sum[i].tolist()[:Q])\n",
        "  return top_q_sum"
      ],
      "metadata": {
        "id": "yznSZLi9heef"
      },
      "execution_count": null,
      "outputs": []
    },
    {
      "cell_type": "code",
      "source": [
        "def fraction_Q(Q, top_q_sum):\n",
        "  f = []\n",
        "  tot = sum(map(sum, top_q_sum))\n",
        "  for j in range(len(top_q_sum)):\n",
        "    fq = []\n",
        "    for q in range(Q):\n",
        "      val = top_q_sum[j][q]/sum(top_q_sum[j])\n",
        "      fq.append(val)\n",
        "    f.append(fq)\n",
        "  return f"
      ],
      "metadata": {
        "id": "1eVFMggmhfK5"
      },
      "execution_count": null,
      "outputs": []
    },
    {
      "cell_type": "code",
      "source": [
        "def predicted_values(Q, f):\n",
        "  y_pred = []\n",
        "  for j in range(data_tune.shape[0]):\n",
        "    pred = 0\n",
        "    for q in range(Q):\n",
        "      pred += data_train[q][2]*(f[j][q])\n",
        "    y_pred.append(pred)\n",
        "  return y_pred"
      ],
      "metadata": {
        "id": "aDJcOxmbhjk3"
      },
      "execution_count": null,
      "outputs": []
    },
    {
      "cell_type": "code",
      "source": [
        "df_tune = pd.DataFrame(data_tune)\n",
        "y_act = df_tune[2].tolist()\n",
        "y_act"
      ],
      "metadata": {
        "id": "sjzB-povhl3u",
        "colab": {
          "base_uri": "https://localhost:8080/"
        },
        "outputId": "805c11c1-9f77-4205-982e-81eb0e6ffdbf"
      },
      "execution_count": null,
      "outputs": [
        {
          "output_type": "execute_result",
          "data": {
            "text/plain": [
              "[0.6262450398704729,\n",
              " -0.595601971089708,\n",
              " -0.465955935090155,\n",
              " 0.471275691034313,\n",
              " -0.5789240664488602,\n",
              " -0.6613980516852456,\n",
              " 0.9316319273709539,\n",
              " -0.2863562307103307,\n",
              " 0.5644540424003108,\n",
              " 0.356569679948209,\n",
              " -0.15961733107290932,\n",
              " -0.686676683327355,\n",
              " 0.46761421188444996,\n",
              " -0.9135931457307166,\n",
              " 0.39440810894990386,\n",
              " -0.6638841281608011,\n",
              " -0.027079145837742624,\n",
              " 0.18359785022024577,\n",
              " -0.8631505252952719,\n",
              " -0.1652439020008759,\n",
              " 0.686887345179549,\n",
              " -0.18964860870453282,\n",
              " 0.14700489235035152,\n",
              " -0.8411723834833411,\n",
              " -0.4074629043975908,\n",
              " -0.25349945459769485,\n",
              " -0.4966666517791769,\n",
              " 0.8037443466688847,\n",
              " -0.9320849476342562,\n",
              " -0.660221174571744,\n",
              " 0.4532440015436916,\n",
              " -0.6224081258977712,\n",
              " -0.8164463669350862,\n",
              " -0.4567918460948752,\n",
              " 0.06780785723806959,\n",
              " -0.9581623619110687,\n",
              " 0.2193235743037769,\n",
              " -0.2633591487734248,\n",
              " 0.3754749919993483,\n",
              " -0.9120965857878331,\n",
              " -0.30975935489208983,\n",
              " -0.32459007018225927,\n",
              " -0.19183918703723846,\n",
              " 0.4849162967087144,\n",
              " 0.3372129537044566,\n",
              " -0.5132814717831726,\n",
              " 0.7810428932579749,\n",
              " 0.7619566066260515,\n",
              " -0.4280283156942545,\n",
              " -0.38445315587675455,\n",
              " -0.7517922845744355,\n",
              " -0.22864218105893186,\n",
              " 0.36655048619604313,\n",
              " -0.8142607598065865,\n",
              " 0.0805565187458277,\n",
              " 0.7706388438993961,\n",
              " 0.7115927084826525,\n",
              " -0.7918004250572537,\n",
              " -0.9203658524778738,\n",
              " 0.10257141473438836]"
            ]
          },
          "metadata": {},
          "execution_count": 237
        }
      ]
    },
    {
      "cell_type": "code",
      "source": [
        "def errors(y_pred):\n",
        "  n2 = 0\n",
        "  import statistics\n",
        "  for j in range(len(y_pred)):\n",
        "    n2 += pow((y_pred[j]-y_act[j]),2)\n",
        "  n1 = 0\n",
        "  av = statistics.mean(y_act)\n",
        "  for j in range(len(y_pred)):\n",
        "    n1 += pow((y_pred[j] - av),2)\n",
        "  #r2 = r2_score(y_act, y_pred)\n",
        "  r2 = 1-(n1/n2)\n",
        "  rmse = math.sqrt(n2/(len(y_pred)))\n",
        "  return r2, rmse"
      ],
      "metadata": {
        "id": "q-SXODqBhoH-"
      },
      "execution_count": null,
      "outputs": []
    },
    {
      "cell_type": "code",
      "source": [
        "def predicted_values(Q, f, ds):\n",
        "  y_pred = []\n",
        "  for j in range(ds.shape[0]):\n",
        "    pred = 0\n",
        "    for q in range(Q):\n",
        "      pred += data_train[q][2]*(1-f[j][q])\n",
        "    y_pred.append(pred)\n",
        "  return y_pred"
      ],
      "metadata": {
        "id": "5IL3O0aktoit"
      },
      "execution_count": null,
      "outputs": []
    },
    {
      "cell_type": "code",
      "metadata": {
        "id": "5ugo3t59xUgh",
        "colab": {
          "base_uri": "https://localhost:8080/"
        },
        "outputId": "7c087e68-35d9-4b85-fdd5-c7b20405f8fd"
      },
      "source": [
        "RMSE = []\n",
        "R_2 = []\n",
        "avals = [] \n",
        "w =np.linspace(0,1,num=20)\n",
        "for wt in w:\n",
        "  if wt !=0:\n",
        "    for i in range(2,20):\n",
        "      R2,root_mse= errors(predicted_values(i, fraction_Q(i, optimized_Q(i,opt_wt(vse,wt))),data_tune))\n",
        "      RMSE.append(root_mse)\n",
        "      R_2.append(R2)\n",
        "      avals.append([i,wt])\n",
        "rmse_opt = min(RMSE)\n",
        "r2_opt = max(R_2)\n",
        "#alloptind = [i for i, j in enumerate(RMSE) if j == rmse_opt]\n",
        "alloptind = [i for i, j in enumerate(R_2) if j == r2_opt]\n",
        "opt_ind = min(alloptind)\n",
        "a_opt = avals[opt_ind]\n",
        "print(RMSE)\n",
        "print(R_2)\n",
        "print(\"Minimum rmse: \", rmse_opt)\n",
        "print(\"Maximum r2: \", r2_opt)\n",
        "print(\"Optimal value of Q and weight: \",a_opt)\n",
        "#plt.plot(avals[0],RMSE)\n",
        "#plt.show(avals[1],RMSE)\n",
        "#plt.show()"
      ],
      "execution_count": null,
      "outputs": [
        {
          "output_type": "stream",
          "name": "stdout",
          "text": [
            "[0.7786641917091759, 0.6417790298484325, 0.6262879775116005, 1.1354397850747606, 0.9360097670365439, 0.7524316919703261, 0.598971037407458, 0.5432286706668948, 0.5531315857304091, 1.0157745628508286, 1.5646035071039195, 1.6684105296550023, 1.9537429293891377, 1.7180801404077124, 1.928340709172647, 1.798956119897734, 1.449340569045245, 0.8388913155980224, 0.7786641917091759, 0.6417790298484325, 0.6262879775116005, 1.1354397850747606, 0.9360097670365439, 0.7524316919703261, 0.598971037407458, 0.5432286706668948, 0.5531315857304091, 1.0157745628508286, 1.5646035071039195, 1.6684105296550023, 1.9537429293891377, 1.7180801404077124, 1.928340709172647, 1.798956119897734, 1.449340569045245, 0.8388913155980224, 0.7786641917091759, 0.6417790298484325, 0.6262879775116004, 1.1354397850747604, 0.9360097670365438, 0.7524316919703261, 0.598971037407458, 0.5432286706668948, 0.5531315857304091, 1.0157745628508286, 1.5646035071039195, 1.6684105296550023, 1.9537429293891377, 1.7180801404077124, 1.928340709172647, 1.798956119897734, 1.449340569045245, 0.8388913155980224, 0.7786641917091759, 0.6417790298484325, 0.6262879775116005, 1.1354397850747606, 0.9360097670365439, 0.7524316919703261, 0.598971037407458, 0.5432286706668948, 0.5531315857304091, 1.0157745628508286, 1.5646035071039195, 1.6684105296550023, 1.9537429293891377, 1.7180801404077124, 1.928340709172647, 1.798956119897734, 1.449340569045245, 0.8388913155980224, 0.7786641917091759, 0.6417790298484325, 0.6262879775116004, 1.1354397850747604, 0.9360097670365439, 0.7524316919703261, 0.598971037407458, 0.5432286706668947, 0.5531315857304091, 1.0157745628508286, 1.5646035071039195, 1.6684105296550023, 1.9537429293891377, 1.7180801404077124, 1.928340709172647, 1.798956119897734, 1.449340569045245, 0.8388913155980224, 0.7786641917091759, 0.6417790298484325, 0.6262879775116004, 1.1354397850747604, 0.9360097670365438, 0.7524316919703261, 0.598971037407458, 0.5432286706668948, 0.5531315857304091, 1.0157745628508286, 1.5646035071039195, 1.6684105296550023, 1.9537429293891377, 1.7180801404077124, 1.928340709172647, 1.798956119897734, 1.449340569045245, 0.8388913155980224, 0.7786641917091759, 0.6417790298484325, 0.6262879775116004, 1.1354397850747606, 0.9360097670365439, 0.7524316919703261, 0.598971037407458, 0.5432286706668948, 0.5531315857304091, 1.0157745628508286, 1.5646035071039195, 1.6684105296550023, 1.9537429293891377, 1.7180801404077124, 1.928340709172647, 1.798956119897734, 1.449340569045245, 0.8388913155980224, 0.7786641917091759, 0.6417790298484325, 0.6262879775116005, 1.1354397850747606, 0.9360097670365439, 0.7524316919703261, 0.598971037407458, 0.5432286706668948, 0.5531315857304091, 1.0157745628508286, 1.5646035071039195, 1.6684105296550023, 1.9537429293891377, 1.7180801404077124, 1.928340709172647, 1.798956119897734, 1.449340569045245, 0.8388913155980224, 0.7786641917091758, 0.6417790298484325, 0.6262879775116005, 1.1354397850747604, 0.9360097670365439, 0.7524316919703261, 0.598971037407458, 0.5432286706668948, 0.5531315857304091, 1.0157745628508286, 1.5646035071039195, 1.6684105296550023, 1.9537429293891377, 1.7180801404077124, 1.928340709172647, 1.798956119897734, 1.449340569045245, 0.8388913155980224, 0.7786641917091759, 0.6417790298484325, 0.6262879775116004, 1.1354397850747604, 0.9360097670365439, 0.7524316919703261, 0.598971037407458, 0.5432286706668947, 0.5531315857304091, 1.0157745628508286, 1.5646035071039195, 1.6684105296550023, 1.9537429293891377, 1.7180801404077124, 1.928340709172647, 1.798956119897734, 1.449340569045245, 0.8388913155980224, 0.7786641917091758, 0.6417790298484325, 0.6262879775116004, 1.1354397850747606, 0.9360097670365438, 0.7524316919703261, 0.598971037407458, 0.5432286706668948, 0.5531315857304091, 1.0157745628508286, 1.5646035071039195, 1.6684105296550023, 1.9537429293891377, 1.7180801404077124, 1.928340709172647, 1.798956119897734, 1.449340569045245, 0.8388913155980224, 0.7786641917091759, 0.6417790298484325, 0.6262879775116004, 1.1354397850747604, 0.9360097670365438, 0.7524316919703261, 0.598971037407458, 0.5432286706668948, 0.5531315857304091, 1.0157745628508286, 1.5646035071039195, 1.6684105296550023, 1.9537429293891377, 1.7180801404077124, 1.928340709172647, 1.798956119897734, 1.449340569045245, 0.8388913155980224, 0.7786641917091759, 0.6417790298484325, 0.6262879775116005, 1.1354397850747606, 0.9360097670365439, 0.7524316919703261, 0.598971037407458, 0.5432286706668948, 0.5531315857304091, 1.0157745628508286, 1.5646035071039195, 1.668410529655002, 1.9537429293891377, 1.7180801404077124, 1.928340709172647, 1.798956119897734, 1.449340569045245, 0.8388913155980224, 0.7786641917091759, 0.6417790298484325, 0.6262879775116004, 1.1354397850747606, 0.9360097670365439, 0.7524316919703261, 0.598971037407458, 0.5432286706668948, 0.5531315857304091, 1.0157745628508286, 1.5646035071039195, 1.6684105296550023, 1.9537429293891377, 1.7180801404077124, 1.928340709172647, 1.798956119897734, 1.449340569045245, 0.8388913155980224, 0.7786641917091758, 0.6417790298484325, 0.6262879775116004, 1.1354397850747606, 0.9360097670365439, 0.7524316919703261, 0.598971037407458, 0.5432286706668947, 0.5531315857304091, 1.0157745628508286, 1.5646035071039195, 1.6684105296550023, 1.9537429293891377, 1.7180801404077124, 1.928340709172647, 1.798956119897734, 1.449340569045245, 0.8388913155980224, 0.7786641917091759, 0.6417790298484325, 0.6262879775116005, 1.1354397850747606, 0.9360097670365439, 0.7524316919703261, 0.598971037407458, 0.5432286706668948, 0.5531315857304091, 1.0157745628508286, 1.5646035071039195, 1.6684105296550023, 1.9537429293891377, 1.7180801404077124, 1.928340709172647, 1.798956119897734, 1.449340569045245, 0.8388913155980224, 0.7786641917091759, 0.6417790298484325, 0.6262879775116004, 1.1354397850747606, 0.9360097670365439, 0.7524316919703261, 0.598971037407458, 0.5432286706668948, 0.5531315857304091, 1.0157745628508286, 1.5646035071039195, 1.668410529655002, 1.9537429293891377, 1.7180801404077124, 1.928340709172647, 1.798956119897734, 1.449340569045245, 0.8388913155980224, 0.7786641917091758, 0.6417790298484325, 0.6262879775116005, 1.1354397850747604, 0.9360097670365439, 0.7524316919703261, 0.598971037407458, 0.5432286706668948, 0.5531315857304091, 1.0157745628508286, 1.5646035071039195, 1.6684105296550023, 1.9537429293891377, 1.7180801404077124, 1.928340709172647, 1.798956119897734, 1.449340569045245, 0.8388913155980224, 0.7786641917091758, 0.6417790298484325, 0.6262879775116005, 1.1354397850747606, 0.9360097670365439, 0.7524316919703261, 0.598971037407458, 0.5432286706668948, 0.5531315857304091, 1.0157745628508286, 1.5646035071039195, 1.6684105296550023, 1.9537429293891377, 1.7180801404077124, 1.928340709172647, 1.798956119897734, 1.449340569045245, 0.8388913155980224]\n",
            "[0.4502030121080318, 0.7248680181872025, 0.7506372071188232, 0.23542429106220975, 0.31667014363302615, 0.48992618476011496, 0.7838449183908156, 0.9711484240308468, 0.9532656974700052, 0.2869560724017868, 0.12193235666983337, 0.10779072444252225, 0.07902155625893137, 0.10209317435068743, 0.08146021363594702, 0.09343497666328027, 0.14310428202749825, 0.42258589321535067, 0.4502030121080318, 0.7248680181872025, 0.7506372071188232, 0.23542429106220975, 0.31667014363302615, 0.48992618476011496, 0.7838449183908156, 0.9711484240308468, 0.9532656974700052, 0.2869560724017868, 0.12193235666983337, 0.10779072444252225, 0.07902155625893137, 0.10209317435068743, 0.08146021363594702, 0.09343497666328027, 0.14310428202749825, 0.42258589321535067, 0.4502030121080318, 0.7248680181872025, 0.7506372071188231, 0.23542429106220963, 0.3166701436330259, 0.48992618476011496, 0.7838449183908156, 0.9711484240308468, 0.9532656974700052, 0.28695607240178667, 0.12193235666983315, 0.10779072444252225, 0.07902155625893137, 0.10209317435068721, 0.08146021363594702, 0.09343497666328027, 0.14310428202749825, 0.42258589321535056, 0.4502030121080318, 0.7248680181872025, 0.7506372071188232, 0.23542429106220975, 0.31667014363302615, 0.48992618476011496, 0.7838449183908156, 0.9711484240308468, 0.9532656974700052, 0.2869560724017868, 0.12193235666983337, 0.10779072444252225, 0.07902155625893137, 0.10209317435068743, 0.08146021363594702, 0.09343497666328027, 0.14310428202749825, 0.42258589321535067, 0.4502030121080318, 0.7248680181872025, 0.7506372071188231, 0.23542429106220963, 0.31667014363302615, 0.48992618476011496, 0.7838449183908156, 0.9711484240308468, 0.9532656974700053, 0.28695607240178667, 0.12193235666983315, 0.10779072444252225, 0.07902155625893137, 0.10209317435068743, 0.08146021363594702, 0.09343497666328027, 0.14310428202749825, 0.42258589321535045, 0.4502030121080318, 0.7248680181872025, 0.7506372071188231, 0.23542429106220963, 0.3166701436330259, 0.48992618476011496, 0.7838449183908156, 0.9711484240308468, 0.9532656974700052, 0.28695607240178667, 0.12193235666983315, 0.10779072444252225, 0.07902155625893137, 0.10209317435068721, 0.08146021363594702, 0.09343497666328027, 0.14310428202749825, 0.42258589321535056, 0.4502030121080318, 0.7248680181872025, 0.7506372071188232, 0.23542429106220975, 0.31667014363302604, 0.48992618476011496, 0.7838449183908156, 0.9711484240308468, 0.9532656974700053, 0.28695607240178667, 0.12193235666983337, 0.10779072444252247, 0.07902155625893137, 0.10209317435068721, 0.08146021363594702, 0.09343497666328027, 0.14310428202749825, 0.42258589321535056, 0.4502030121080318, 0.7248680181872025, 0.7506372071188232, 0.23542429106220975, 0.31667014363302615, 0.48992618476011496, 0.7838449183908156, 0.9711484240308468, 0.9532656974700052, 0.2869560724017868, 0.12193235666983337, 0.10779072444252225, 0.07902155625893137, 0.10209317435068743, 0.08146021363594702, 0.09343497666328027, 0.14310428202749825, 0.42258589321535067, 0.4502030121080317, 0.7248680181872025, 0.7506372071188232, 0.23542429106220952, 0.31667014363302604, 0.48992618476011507, 0.7838449183908156, 0.9711484240308468, 0.9532656974700053, 0.28695607240178667, 0.12193235666983315, 0.10779072444252247, 0.07902155625893137, 0.10209317435068721, 0.08146021363594702, 0.09343497666328027, 0.14310428202749825, 0.42258589321535056, 0.4502030121080318, 0.7248680181872025, 0.7506372071188231, 0.23542429106220963, 0.31667014363302615, 0.48992618476011496, 0.7838449183908156, 0.9711484240308468, 0.9532656974700053, 0.28695607240178667, 0.12193235666983315, 0.10779072444252225, 0.07902155625893137, 0.10209317435068743, 0.08146021363594702, 0.09343497666328027, 0.14310428202749825, 0.42258589321535045, 0.4502030121080318, 0.7248680181872025, 0.750637207118823, 0.23542429106220975, 0.3166701436330259, 0.48992618476011485, 0.7838449183908156, 0.9711484240308468, 0.9532656974700052, 0.28695607240178667, 0.12193235666983337, 0.10779072444252247, 0.07902155625893137, 0.10209317435068721, 0.08146021363594702, 0.09343497666328027, 0.14310428202749825, 0.42258589321535056, 0.4502030121080318, 0.7248680181872025, 0.7506372071188231, 0.23542429106220963, 0.3166701436330259, 0.48992618476011496, 0.7838449183908156, 0.9711484240308468, 0.9532656974700052, 0.28695607240178667, 0.12193235666983315, 0.10779072444252225, 0.07902155625893137, 0.10209317435068721, 0.08146021363594702, 0.09343497666328027, 0.14310428202749825, 0.42258589321535056, 0.4502030121080318, 0.7248680181872025, 0.7506372071188231, 0.23542429106220975, 0.31667014363302604, 0.48992618476011507, 0.7838449183908156, 0.9711484240308468, 0.9532656974700053, 0.2869560724017869, 0.12193235666983315, 0.10779072444252236, 0.07902155625893137, 0.10209317435068743, 0.08146021363594702, 0.09343497666328027, 0.14310428202749825, 0.42258589321535056, 0.4502030121080318, 0.7248680181872025, 0.7506372071188232, 0.23542429106220975, 0.31667014363302604, 0.48992618476011496, 0.7838449183908156, 0.9711484240308468, 0.9532656974700053, 0.28695607240178667, 0.12193235666983337, 0.10779072444252247, 0.07902155625893137, 0.10209317435068721, 0.08146021363594702, 0.09343497666328027, 0.14310428202749825, 0.42258589321535056, 0.4502030121080317, 0.7248680181872025, 0.750637207118823, 0.23542429106220975, 0.31667014363302615, 0.48992618476011507, 0.7838449183908156, 0.9711484240308468, 0.9532656974700053, 0.28695607240178667, 0.12193235666983315, 0.10779072444252225, 0.07902155625893137, 0.10209317435068721, 0.08146021363594713, 0.09343497666328027, 0.14310428202749825, 0.42258589321535056, 0.4502030121080318, 0.7248680181872025, 0.7506372071188232, 0.23542429106220975, 0.31667014363302615, 0.48992618476011496, 0.7838449183908156, 0.9711484240308468, 0.9532656974700052, 0.2869560724017868, 0.12193235666983337, 0.10779072444252225, 0.07902155625893137, 0.10209317435068743, 0.08146021363594702, 0.09343497666328027, 0.14310428202749825, 0.42258589321535067, 0.4502030121080318, 0.7248680181872025, 0.7506372071188231, 0.23542429106220975, 0.3166701436330259, 0.48992618476011507, 0.7838449183908156, 0.9711484240308468, 0.9532656974700052, 0.2869560724017868, 0.12193235666983337, 0.10779072444252213, 0.07902155625893137, 0.10209317435068721, 0.08146021363594702, 0.09343497666328027, 0.14310428202749825, 0.42258589321535045, 0.4502030121080317, 0.7248680181872025, 0.7506372071188232, 0.23542429106220952, 0.31667014363302604, 0.48992618476011507, 0.7838449183908156, 0.9711484240308468, 0.9532656974700053, 0.28695607240178667, 0.12193235666983315, 0.10779072444252247, 0.07902155625893137, 0.10209317435068721, 0.08146021363594702, 0.09343497666328027, 0.14310428202749825, 0.42258589321535056, 0.4502030121080318, 0.7248680181872025, 0.7506372071188231, 0.23542429106220975, 0.31667014363302615, 0.48992618476011496, 0.7838449183908156, 0.9711484240308468, 0.9532656974700052, 0.28695607240178667, 0.12193235666983337, 0.10779072444252247, 0.07902155625893137, 0.10209317435068721, 0.08146021363594702, 0.09343497666328027, 0.14310428202749825, 0.42258589321535056]\n",
            "Minimum rmse:  0.5432286706668947\n",
            "Maximum r2:  0.9711484240308468\n",
            "Optimal value of Q and weight:  [9, 0.05263157894736842]\n"
          ]
        }
      ]
    },
    {
      "cell_type": "code",
      "source": [
        "errors(predicted_values(a_opt[0], fraction_Q(a_opt[0], optimized_Q(a_opt[0],opt_wt(vse,a_opt[1]))),data_tune))"
      ],
      "metadata": {
        "id": "3BYOUZI_3Lu-",
        "colab": {
          "base_uri": "https://localhost:8080/"
        },
        "outputId": "04a8e35b-b6e9-4022-ae92-d98b75495754"
      },
      "execution_count": null,
      "outputs": [
        {
          "output_type": "execute_result",
          "data": {
            "text/plain": [
              "(0.9711484240308468, 0.5432286706668948)"
            ]
          },
          "metadata": {},
          "execution_count": 241
        }
      ]
    },
    {
      "cell_type": "code",
      "source": [
        "errors(predicted_values(a_opt[0], fraction_Q(a_opt[0], optimized_Q(a_opt[0],opt_wt(vse,a_opt[1]))),data_test))"
      ],
      "metadata": {
        "id": "1Pr_N1mxuEiw",
        "colab": {
          "base_uri": "https://localhost:8080/"
        },
        "outputId": "2765fc02-f65f-4279-c799-465bb541d34d"
      },
      "execution_count": null,
      "outputs": [
        {
          "output_type": "execute_result",
          "data": {
            "text/plain": [
              "(0.9627833931117183, 0.5373370590392742)"
            ]
          },
          "metadata": {},
          "execution_count": 242
        }
      ]
    },
    {
      "cell_type": "markdown",
      "source": [
        "#Deep Neural Network Model\n"
      ],
      "metadata": {
        "id": "mTmFL_QdpxbL"
      }
    },
    {
      "cell_type": "code",
      "source": [
        "Y = df2['Sat Vap Pressure']\n",
        "X = df2.drop('Sat Vap Pressure',axis = 1)"
      ],
      "metadata": {
        "id": "y4-0rz6Si7s-"
      },
      "execution_count": null,
      "outputs": []
    },
    {
      "cell_type": "code",
      "source": [
        "from sklearn.model_selection import train_test_split\n",
        "X_train, X_test, y_train, y_test = train_test_split(X, Y, test_size=0.2, random_state=42)"
      ],
      "metadata": {
        "id": "RCNTzEROjfSw"
      },
      "execution_count": null,
      "outputs": []
    },
    {
      "cell_type": "code",
      "source": [
        "import tensorflow as tf\n",
        "from tensorflow.keras import Model\n",
        "from tensorflow.keras import Sequential\n",
        "from tensorflow.keras.optimizers import Adam"
      ],
      "metadata": {
        "id": "_Ve69XE8lDPS"
      },
      "execution_count": null,
      "outputs": []
    },
    {
      "cell_type": "code",
      "source": [
        "from sklearn.preprocessing import StandardScaler\n",
        "from tensorflow.keras.layers import Dense, Dropout"
      ],
      "metadata": {
        "id": "xlRajp4elgLz"
      },
      "execution_count": null,
      "outputs": []
    },
    {
      "cell_type": "code",
      "source": [
        "from tensorflow.keras.losses import MeanSquaredLogarithmicError"
      ],
      "metadata": {
        "id": "_-FHNeabloQ2"
      },
      "execution_count": null,
      "outputs": []
    },
    {
      "cell_type": "code",
      "source": [
        "standard_scaler = StandardScaler()\n",
        "x_train_scaled = pd.DataFrame(standard_scaler.fit_transform(X_train),columns=X_train.columns)\n",
        "x_test_scaled = pd.DataFrame(standard_scaler.transform(X_test),columns = X_test.columns)"
      ],
      "metadata": {
        "id": "M6T3IcOflu7u"
      },
      "execution_count": null,
      "outputs": []
    },
    {
      "cell_type": "code",
      "source": [
        "hidden_units1 = 200\n",
        "hidden_units2 = 500\n",
        "hidden_units3 = 300\n",
        "learning_rate = 0.02"
      ],
      "metadata": {
        "id": "2WqzN2QrmdmW"
      },
      "execution_count": null,
      "outputs": []
    },
    {
      "cell_type": "code",
      "source": [
        "def ANN():\n",
        "  model = Sequential([\n",
        "    Dense(hidden_units1, kernel_initializer='normal', activation='sigmoid'),\n",
        "    Dropout(0.2),\n",
        "    Dense(hidden_units2, kernel_initializer='normal', activation='sigmoid'),\n",
        "    Dropout(0.2),\n",
        "    Dense(hidden_units3, kernel_initializer='normal', activation='sigmoid'),\n",
        "    Dense(1, kernel_initializer='normal', activation='linear')\n",
        "  ])\n",
        "  return model"
      ],
      "metadata": {
        "id": "YDo6SiytmxOi"
      },
      "execution_count": null,
      "outputs": []
    },
    {
      "cell_type": "code",
      "source": [
        "# build the model\n",
        "model = ANN()"
      ],
      "metadata": {
        "id": "Y_0q6dS3m6RU"
      },
      "execution_count": null,
      "outputs": []
    },
    {
      "cell_type": "code",
      "source": [
        "#msle = MeanSquaredLogarithmicError()\n",
        "model.compile(loss='mean_absolute_error', optimizer='adam', metrics=['mean_squared_error'])\n",
        "#model.compile(loss=msle,optimizer=Adam(learning_rate=learning_rate),metrics=['mean_squared_error'])\n",
        "history = model.fit(x_train_scaled.values,y_train.values,epochs=100,batch_size=1,validation_split=0.2)"
      ],
      "metadata": {
        "id": "nHCojGL9m9R0",
        "colab": {
          "base_uri": "https://localhost:8080/"
        },
        "outputId": "6a842979-1cc0-4118-adb2-b876cde09f57"
      },
      "execution_count": null,
      "outputs": [
        {
          "output_type": "stream",
          "name": "stdout",
          "text": [
            "Epoch 1/100\n",
            "193/193 [==============================] - 1s 5ms/step - loss: 137.0816 - mean_squared_error: 20561.6172 - val_loss: 122.9361 - val_mean_squared_error: 17128.0156\n",
            "Epoch 2/100\n",
            "193/193 [==============================] - 1s 5ms/step - loss: 97.5203 - mean_squared_error: 11198.4375 - val_loss: 82.4055 - val_mean_squared_error: 8805.3789\n",
            "Epoch 3/100\n",
            "193/193 [==============================] - 1s 5ms/step - loss: 59.1533 - mean_squared_error: 5115.2988 - val_loss: 51.5183 - val_mean_squared_error: 4278.9434\n",
            "Epoch 4/100\n",
            "193/193 [==============================] - 1s 5ms/step - loss: 41.2843 - mean_squared_error: 2703.2705 - val_loss: 43.7195 - val_mean_squared_error: 2995.4333\n",
            "Epoch 5/100\n",
            "193/193 [==============================] - 1s 5ms/step - loss: 36.2571 - mean_squared_error: 2007.7787 - val_loss: 40.7816 - val_mean_squared_error: 2423.7939\n",
            "Epoch 6/100\n",
            "193/193 [==============================] - 1s 5ms/step - loss: 34.7505 - mean_squared_error: 1750.5824 - val_loss: 39.9078 - val_mean_squared_error: 2244.6460\n",
            "Epoch 7/100\n",
            "193/193 [==============================] - 1s 6ms/step - loss: 34.3286 - mean_squared_error: 1678.9832 - val_loss: 39.6798 - val_mean_squared_error: 2166.2578\n",
            "Epoch 8/100\n",
            "193/193 [==============================] - 1s 5ms/step - loss: 34.1570 - mean_squared_error: 1640.5675 - val_loss: 39.5615 - val_mean_squared_error: 2122.4070\n",
            "Epoch 9/100\n",
            "193/193 [==============================] - 1s 5ms/step - loss: 34.1888 - mean_squared_error: 1625.2341 - val_loss: 39.5937 - val_mean_squared_error: 2133.5981\n",
            "Epoch 10/100\n",
            "193/193 [==============================] - 1s 5ms/step - loss: 34.1460 - mean_squared_error: 1629.5599 - val_loss: 39.5538 - val_mean_squared_error: 2119.8123\n",
            "Epoch 11/100\n",
            "193/193 [==============================] - 1s 6ms/step - loss: 34.1639 - mean_squared_error: 1625.2338 - val_loss: 39.5508 - val_mean_squared_error: 2118.8252\n",
            "Epoch 12/100\n",
            "193/193 [==============================] - 1s 5ms/step - loss: 34.1242 - mean_squared_error: 1616.8804 - val_loss: 39.5348 - val_mean_squared_error: 2113.5815\n",
            "Epoch 13/100\n",
            "193/193 [==============================] - 1s 5ms/step - loss: 34.1608 - mean_squared_error: 1621.5381 - val_loss: 39.5244 - val_mean_squared_error: 2110.2922\n",
            "Epoch 14/100\n",
            "193/193 [==============================] - 1s 4ms/step - loss: 34.2163 - mean_squared_error: 1640.3333 - val_loss: 39.6569 - val_mean_squared_error: 2158.5425\n",
            "Epoch 15/100\n",
            "193/193 [==============================] - 1s 4ms/step - loss: 34.0432 - mean_squared_error: 1696.9653 - val_loss: 37.4554 - val_mean_squared_error: 1994.8947\n",
            "Epoch 16/100\n",
            "193/193 [==============================] - 1s 4ms/step - loss: 22.7533 - mean_squared_error: 936.6124 - val_loss: 21.9793 - val_mean_squared_error: 949.4465\n",
            "Epoch 17/100\n",
            "193/193 [==============================] - 1s 5ms/step - loss: 16.4401 - mean_squared_error: 542.1309 - val_loss: 17.4730 - val_mean_squared_error: 631.4335\n",
            "Epoch 18/100\n",
            "193/193 [==============================] - 1s 5ms/step - loss: 12.8142 - mean_squared_error: 356.1613 - val_loss: 13.4438 - val_mean_squared_error: 440.8354\n",
            "Epoch 19/100\n",
            "193/193 [==============================] - 1s 4ms/step - loss: 10.4828 - mean_squared_error: 244.9144 - val_loss: 13.4476 - val_mean_squared_error: 328.9618\n",
            "Epoch 20/100\n",
            "193/193 [==============================] - 1s 4ms/step - loss: 9.6109 - mean_squared_error: 192.9097 - val_loss: 9.6780 - val_mean_squared_error: 207.0020\n",
            "Epoch 21/100\n",
            "193/193 [==============================] - 1s 4ms/step - loss: 8.6858 - mean_squared_error: 140.2608 - val_loss: 8.0416 - val_mean_squared_error: 149.3877\n",
            "Epoch 22/100\n",
            "193/193 [==============================] - 1s 5ms/step - loss: 7.1730 - mean_squared_error: 102.8479 - val_loss: 8.3815 - val_mean_squared_error: 144.1409\n",
            "Epoch 23/100\n",
            "193/193 [==============================] - 1s 5ms/step - loss: 6.3506 - mean_squared_error: 76.3528 - val_loss: 6.1248 - val_mean_squared_error: 84.6920\n",
            "Epoch 24/100\n",
            "193/193 [==============================] - 1s 5ms/step - loss: 5.6611 - mean_squared_error: 61.2756 - val_loss: 5.4315 - val_mean_squared_error: 65.4096\n",
            "Epoch 25/100\n",
            "193/193 [==============================] - 1s 5ms/step - loss: 5.8739 - mean_squared_error: 59.6284 - val_loss: 6.6971 - val_mean_squared_error: 76.8036\n",
            "Epoch 26/100\n",
            "193/193 [==============================] - 1s 5ms/step - loss: 5.2555 - mean_squared_error: 49.7102 - val_loss: 5.4694 - val_mean_squared_error: 56.9857\n",
            "Epoch 27/100\n",
            "193/193 [==============================] - 1s 4ms/step - loss: 5.1958 - mean_squared_error: 50.4949 - val_loss: 4.6610 - val_mean_squared_error: 39.3897\n",
            "Epoch 28/100\n",
            "193/193 [==============================] - 1s 4ms/step - loss: 4.8075 - mean_squared_error: 44.5053 - val_loss: 4.3253 - val_mean_squared_error: 36.3630\n",
            "Epoch 29/100\n",
            "193/193 [==============================] - 1s 4ms/step - loss: 5.1268 - mean_squared_error: 55.9187 - val_loss: 4.8066 - val_mean_squared_error: 43.1122\n",
            "Epoch 30/100\n",
            "193/193 [==============================] - 1s 5ms/step - loss: 4.9502 - mean_squared_error: 43.7800 - val_loss: 3.9295 - val_mean_squared_error: 32.2443\n",
            "Epoch 31/100\n",
            "193/193 [==============================] - 1s 6ms/step - loss: 4.5733 - mean_squared_error: 39.9466 - val_loss: 4.1446 - val_mean_squared_error: 31.4305\n",
            "Epoch 32/100\n",
            "193/193 [==============================] - 1s 5ms/step - loss: 4.6420 - mean_squared_error: 37.4839 - val_loss: 2.9091 - val_mean_squared_error: 22.1131\n",
            "Epoch 33/100\n",
            "193/193 [==============================] - 1s 5ms/step - loss: 5.1967 - mean_squared_error: 55.1324 - val_loss: 3.7204 - val_mean_squared_error: 30.3907\n",
            "Epoch 34/100\n",
            "193/193 [==============================] - 1s 5ms/step - loss: 4.5230 - mean_squared_error: 37.3186 - val_loss: 5.4479 - val_mean_squared_error: 52.4695\n",
            "Epoch 35/100\n",
            "193/193 [==============================] - 1s 5ms/step - loss: 4.5532 - mean_squared_error: 37.0402 - val_loss: 7.1331 - val_mean_squared_error: 84.0032\n",
            "Epoch 36/100\n",
            "193/193 [==============================] - 1s 5ms/step - loss: 4.4129 - mean_squared_error: 36.0250 - val_loss: 3.0679 - val_mean_squared_error: 21.6176\n",
            "Epoch 37/100\n",
            "193/193 [==============================] - 1s 5ms/step - loss: 4.1704 - mean_squared_error: 36.6709 - val_loss: 4.1788 - val_mean_squared_error: 36.7881\n",
            "Epoch 38/100\n",
            "193/193 [==============================] - 1s 5ms/step - loss: 4.6105 - mean_squared_error: 41.2927 - val_loss: 4.7321 - val_mean_squared_error: 42.9809\n",
            "Epoch 39/100\n",
            "193/193 [==============================] - 1s 5ms/step - loss: 4.8396 - mean_squared_error: 40.4839 - val_loss: 5.8202 - val_mean_squared_error: 70.0244\n",
            "Epoch 40/100\n",
            "193/193 [==============================] - 1s 5ms/step - loss: 4.0761 - mean_squared_error: 28.7862 - val_loss: 4.0090 - val_mean_squared_error: 25.8736\n",
            "Epoch 41/100\n",
            "193/193 [==============================] - 1s 5ms/step - loss: 4.1146 - mean_squared_error: 30.7176 - val_loss: 3.9367 - val_mean_squared_error: 26.9822\n",
            "Epoch 42/100\n",
            "193/193 [==============================] - 1s 5ms/step - loss: 3.9050 - mean_squared_error: 27.2732 - val_loss: 2.7520 - val_mean_squared_error: 13.8937\n",
            "Epoch 43/100\n",
            "193/193 [==============================] - 1s 5ms/step - loss: 4.5492 - mean_squared_error: 36.6994 - val_loss: 3.1044 - val_mean_squared_error: 16.4151\n",
            "Epoch 44/100\n",
            "193/193 [==============================] - 1s 4ms/step - loss: 3.6307 - mean_squared_error: 25.0789 - val_loss: 2.0487 - val_mean_squared_error: 11.2300\n",
            "Epoch 45/100\n",
            "193/193 [==============================] - 1s 4ms/step - loss: 4.1573 - mean_squared_error: 30.5243 - val_loss: 2.9642 - val_mean_squared_error: 16.4226\n",
            "Epoch 46/100\n",
            "193/193 [==============================] - 1s 5ms/step - loss: 4.0062 - mean_squared_error: 28.9185 - val_loss: 3.7813 - val_mean_squared_error: 21.3405\n",
            "Epoch 47/100\n",
            "193/193 [==============================] - 1s 4ms/step - loss: 4.0517 - mean_squared_error: 28.9007 - val_loss: 4.1324 - val_mean_squared_error: 30.6112\n",
            "Epoch 48/100\n",
            "193/193 [==============================] - 1s 4ms/step - loss: 4.1298 - mean_squared_error: 30.1421 - val_loss: 4.1665 - val_mean_squared_error: 32.5680\n",
            "Epoch 49/100\n",
            "193/193 [==============================] - 1s 5ms/step - loss: 3.9962 - mean_squared_error: 26.5981 - val_loss: 3.6571 - val_mean_squared_error: 18.8495\n",
            "Epoch 50/100\n",
            "193/193 [==============================] - 1s 5ms/step - loss: 3.9180 - mean_squared_error: 26.8689 - val_loss: 2.7168 - val_mean_squared_error: 11.9951\n",
            "Epoch 51/100\n",
            "193/193 [==============================] - 1s 5ms/step - loss: 3.9439 - mean_squared_error: 26.1099 - val_loss: 2.5916 - val_mean_squared_error: 12.2870\n",
            "Epoch 52/100\n",
            "193/193 [==============================] - 1s 5ms/step - loss: 3.4755 - mean_squared_error: 20.2033 - val_loss: 2.9915 - val_mean_squared_error: 12.2405\n",
            "Epoch 53/100\n",
            "193/193 [==============================] - 1s 4ms/step - loss: 4.0305 - mean_squared_error: 30.0044 - val_loss: 3.5517 - val_mean_squared_error: 17.3783\n",
            "Epoch 54/100\n",
            "193/193 [==============================] - 1s 4ms/step - loss: 3.7999 - mean_squared_error: 26.1478 - val_loss: 2.2891 - val_mean_squared_error: 11.5605\n",
            "Epoch 55/100\n",
            "193/193 [==============================] - 1s 5ms/step - loss: 3.4550 - mean_squared_error: 21.0446 - val_loss: 2.6909 - val_mean_squared_error: 11.4066\n",
            "Epoch 56/100\n",
            "193/193 [==============================] - 1s 5ms/step - loss: 3.2323 - mean_squared_error: 17.0007 - val_loss: 2.4661 - val_mean_squared_error: 9.3389\n",
            "Epoch 57/100\n",
            "193/193 [==============================] - 1s 3ms/step - loss: 3.5283 - mean_squared_error: 22.3791 - val_loss: 2.5166 - val_mean_squared_error: 9.8027\n",
            "Epoch 58/100\n",
            "193/193 [==============================] - 1s 3ms/step - loss: 3.7086 - mean_squared_error: 21.9598 - val_loss: 3.7992 - val_mean_squared_error: 19.8149\n",
            "Epoch 59/100\n",
            "193/193 [==============================] - 1s 4ms/step - loss: 3.8367 - mean_squared_error: 25.2067 - val_loss: 3.9933 - val_mean_squared_error: 27.3346\n",
            "Epoch 60/100\n",
            "193/193 [==============================] - 1s 4ms/step - loss: 3.4670 - mean_squared_error: 20.9944 - val_loss: 1.9693 - val_mean_squared_error: 7.9377\n",
            "Epoch 61/100\n",
            "193/193 [==============================] - 1s 4ms/step - loss: 3.3378 - mean_squared_error: 18.5955 - val_loss: 1.9234 - val_mean_squared_error: 6.2932\n",
            "Epoch 62/100\n",
            "193/193 [==============================] - 1s 4ms/step - loss: 2.9992 - mean_squared_error: 15.0176 - val_loss: 2.9788 - val_mean_squared_error: 11.3295\n",
            "Epoch 63/100\n",
            "193/193 [==============================] - 1s 5ms/step - loss: 3.6449 - mean_squared_error: 21.6165 - val_loss: 2.3718 - val_mean_squared_error: 13.4567\n",
            "Epoch 64/100\n",
            "193/193 [==============================] - 1s 5ms/step - loss: 3.4448 - mean_squared_error: 20.6915 - val_loss: 3.7410 - val_mean_squared_error: 17.8694\n",
            "Epoch 65/100\n",
            "193/193 [==============================] - 1s 5ms/step - loss: 3.1055 - mean_squared_error: 16.9865 - val_loss: 2.7631 - val_mean_squared_error: 11.8478\n",
            "Epoch 66/100\n",
            "193/193 [==============================] - 1s 5ms/step - loss: 3.3891 - mean_squared_error: 20.0462 - val_loss: 2.7665 - val_mean_squared_error: 16.2816\n",
            "Epoch 67/100\n",
            "193/193 [==============================] - 1s 5ms/step - loss: 3.7748 - mean_squared_error: 25.5539 - val_loss: 2.9211 - val_mean_squared_error: 19.7826\n",
            "Epoch 68/100\n",
            "193/193 [==============================] - 1s 4ms/step - loss: 3.0390 - mean_squared_error: 17.8637 - val_loss: 4.4008 - val_mean_squared_error: 33.0284\n",
            "Epoch 69/100\n",
            "193/193 [==============================] - 1s 5ms/step - loss: 3.2389 - mean_squared_error: 17.6964 - val_loss: 2.1911 - val_mean_squared_error: 7.6970\n",
            "Epoch 70/100\n",
            "193/193 [==============================] - 1s 5ms/step - loss: 3.2551 - mean_squared_error: 18.9200 - val_loss: 3.0128 - val_mean_squared_error: 14.6553\n",
            "Epoch 71/100\n",
            "193/193 [==============================] - 1s 5ms/step - loss: 2.8919 - mean_squared_error: 15.9101 - val_loss: 2.9813 - val_mean_squared_error: 15.6798\n",
            "Epoch 72/100\n",
            "193/193 [==============================] - 1s 5ms/step - loss: 3.3815 - mean_squared_error: 19.0365 - val_loss: 1.9890 - val_mean_squared_error: 10.1600\n",
            "Epoch 73/100\n",
            "193/193 [==============================] - 1s 5ms/step - loss: 3.5274 - mean_squared_error: 21.2987 - val_loss: 2.0520 - val_mean_squared_error: 7.2403\n",
            "Epoch 74/100\n",
            "193/193 [==============================] - 1s 5ms/step - loss: 3.1408 - mean_squared_error: 18.4004 - val_loss: 1.9936 - val_mean_squared_error: 6.4347\n",
            "Epoch 75/100\n",
            "193/193 [==============================] - 1s 5ms/step - loss: 3.5993 - mean_squared_error: 29.8776 - val_loss: 2.4656 - val_mean_squared_error: 12.7117\n",
            "Epoch 76/100\n",
            "193/193 [==============================] - 1s 5ms/step - loss: 3.2947 - mean_squared_error: 19.1433 - val_loss: 3.5231 - val_mean_squared_error: 20.9696\n",
            "Epoch 77/100\n",
            "193/193 [==============================] - 1s 5ms/step - loss: 3.0302 - mean_squared_error: 15.8370 - val_loss: 1.7357 - val_mean_squared_error: 9.7913\n",
            "Epoch 78/100\n",
            "193/193 [==============================] - 1s 4ms/step - loss: 2.9551 - mean_squared_error: 14.9076 - val_loss: 2.1061 - val_mean_squared_error: 7.6391\n",
            "Epoch 79/100\n",
            "193/193 [==============================] - 1s 5ms/step - loss: 3.2924 - mean_squared_error: 17.3293 - val_loss: 3.0452 - val_mean_squared_error: 17.3824\n",
            "Epoch 80/100\n",
            "193/193 [==============================] - 1s 5ms/step - loss: 3.3442 - mean_squared_error: 19.8502 - val_loss: 2.1097 - val_mean_squared_error: 8.3920\n",
            "Epoch 81/100\n",
            "193/193 [==============================] - 1s 5ms/step - loss: 2.9115 - mean_squared_error: 16.9620 - val_loss: 2.5443 - val_mean_squared_error: 11.2668\n",
            "Epoch 82/100\n",
            "193/193 [==============================] - 1s 5ms/step - loss: 3.0194 - mean_squared_error: 14.7886 - val_loss: 3.1772 - val_mean_squared_error: 20.7062\n",
            "Epoch 83/100\n",
            "193/193 [==============================] - 1s 5ms/step - loss: 2.9949 - mean_squared_error: 15.7299 - val_loss: 3.9406 - val_mean_squared_error: 22.7313\n",
            "Epoch 84/100\n",
            "193/193 [==============================] - 1s 3ms/step - loss: 3.0730 - mean_squared_error: 16.7014 - val_loss: 1.9016 - val_mean_squared_error: 6.6853\n",
            "Epoch 85/100\n",
            "193/193 [==============================] - 1s 4ms/step - loss: 2.8630 - mean_squared_error: 13.2277 - val_loss: 2.5845 - val_mean_squared_error: 11.9550\n",
            "Epoch 86/100\n",
            "193/193 [==============================] - 1s 5ms/step - loss: 3.1830 - mean_squared_error: 17.5984 - val_loss: 1.7645 - val_mean_squared_error: 5.3850\n",
            "Epoch 87/100\n",
            "193/193 [==============================] - 1s 5ms/step - loss: 3.3097 - mean_squared_error: 19.4942 - val_loss: 1.9837 - val_mean_squared_error: 6.3141\n",
            "Epoch 88/100\n",
            "193/193 [==============================] - 1s 5ms/step - loss: 3.2118 - mean_squared_error: 19.5085 - val_loss: 2.4378 - val_mean_squared_error: 9.0610\n",
            "Epoch 89/100\n",
            "193/193 [==============================] - 1s 5ms/step - loss: 3.1241 - mean_squared_error: 17.4837 - val_loss: 3.1734 - val_mean_squared_error: 17.1794\n",
            "Epoch 90/100\n",
            "193/193 [==============================] - 1s 5ms/step - loss: 2.7050 - mean_squared_error: 12.5960 - val_loss: 1.7128 - val_mean_squared_error: 5.1558\n",
            "Epoch 91/100\n",
            "193/193 [==============================] - 1s 5ms/step - loss: 2.9020 - mean_squared_error: 13.2281 - val_loss: 2.3918 - val_mean_squared_error: 10.9049\n",
            "Epoch 92/100\n",
            "193/193 [==============================] - 1s 5ms/step - loss: 3.4754 - mean_squared_error: 21.7247 - val_loss: 2.6380 - val_mean_squared_error: 12.1910\n",
            "Epoch 93/100\n",
            "193/193 [==============================] - 1s 5ms/step - loss: 3.0162 - mean_squared_error: 14.8132 - val_loss: 1.4214 - val_mean_squared_error: 4.6881\n",
            "Epoch 94/100\n",
            "193/193 [==============================] - 1s 5ms/step - loss: 3.0491 - mean_squared_error: 16.5283 - val_loss: 2.2406 - val_mean_squared_error: 7.0518\n",
            "Epoch 95/100\n",
            "193/193 [==============================] - 1s 5ms/step - loss: 2.7420 - mean_squared_error: 13.4665 - val_loss: 1.5708 - val_mean_squared_error: 4.7344\n",
            "Epoch 96/100\n",
            "193/193 [==============================] - 1s 5ms/step - loss: 3.1301 - mean_squared_error: 16.2325 - val_loss: 1.5693 - val_mean_squared_error: 4.2629\n",
            "Epoch 97/100\n",
            "193/193 [==============================] - 1s 5ms/step - loss: 3.0087 - mean_squared_error: 16.8186 - val_loss: 3.3125 - val_mean_squared_error: 16.9956\n",
            "Epoch 98/100\n",
            "193/193 [==============================] - 1s 4ms/step - loss: 3.0400 - mean_squared_error: 14.7226 - val_loss: 3.2998 - val_mean_squared_error: 13.2361\n",
            "Epoch 99/100\n",
            "193/193 [==============================] - 1s 4ms/step - loss: 2.7261 - mean_squared_error: 12.0884 - val_loss: 1.7329 - val_mean_squared_error: 5.0759\n",
            "Epoch 100/100\n",
            "193/193 [==============================] - 1s 5ms/step - loss: 3.0175 - mean_squared_error: 16.1403 - val_loss: 2.1460 - val_mean_squared_error: 16.3597\n"
          ]
        }
      ]
    },
    {
      "cell_type": "code",
      "source": [
        "import matplotlib.pyplot as plt\n",
        "plt.plot(history.history['mean_squared_error'])\n",
        "plt.plot(history.history['val_'+ 'mean_squared_error'])\n",
        "plt.xlabel(\"Epochs\")\n",
        "plt.ylabel('mean_squared_error')\n",
        "plt.legend(['mean_squared_error', 'val_'+'mean_squared_error'])\n",
        "plt.show()"
      ],
      "metadata": {
        "id": "sRjbcteKnMzw",
        "colab": {
          "base_uri": "https://localhost:8080/",
          "height": 279
        },
        "outputId": "f50d3d4b-c301-4f68-a0a0-5330910a89ed"
      },
      "execution_count": null,
      "outputs": [
        {
          "output_type": "display_data",
          "data": {
            "text/plain": [
              "<Figure size 432x288 with 1 Axes>"
            ],
            "image/png": "[encoded data removed]"
          },
          "metadata": {
            "needs_background": "light"
          }
        }
      ]
    },
    {
      "cell_type": "code",
      "source": [
        "y_predict = model.predict(x_test_scaled)"
      ],
      "metadata": {
        "id": "mh0BDCUHnnil"
      },
      "execution_count": null,
      "outputs": []
    },
    {
      "cell_type": "code",
      "source": [
        "y_predict.shape"
      ],
      "metadata": {
        "id": "ZqrGlFVlqIL0",
        "colab": {
          "base_uri": "https://localhost:8080/"
        },
        "outputId": "ca409b4a-adaa-463f-e37f-22785ffe8416"
      },
      "execution_count": null,
      "outputs": [
        {
          "output_type": "execute_result",
          "data": {
            "text/plain": [
              "(61, 1)"
            ]
          },
          "metadata": {},
          "execution_count": 198
        }
      ]
    },
    {
      "cell_type": "code",
      "source": [
        "list1 = list(y_predict)"
      ],
      "metadata": {
        "id": "mLuhU7mxqZMD"
      },
      "execution_count": null,
      "outputs": []
    },
    {
      "cell_type": "code",
      "source": [
        "list2 = []\n",
        "for i in range(len(list1)):\n",
        "  list2.append(list(list1[i]))"
      ],
      "metadata": {
        "id": "NiP1G8xcquyv"
      },
      "execution_count": null,
      "outputs": []
    },
    {
      "cell_type": "code",
      "source": [
        "list3 = []\n",
        "for i in range(len(list2)):\n",
        "  list3.append(list2[i][0])"
      ],
      "metadata": {
        "id": "2VFbOnsXq35R"
      },
      "execution_count": null,
      "outputs": []
    },
    {
      "cell_type": "code",
      "source": [
        "y_prediction = np.array(list3)"
      ],
      "metadata": {
        "id": "yrv6DYDnt7Iq"
      },
      "execution_count": null,
      "outputs": []
    },
    {
      "cell_type": "code",
      "source": [
        "correlation_coefficient = np.corrcoef(y_prediction,y_test).mean()"
      ],
      "metadata": {
        "id": "AMqBt6T-oB3G"
      },
      "execution_count": null,
      "outputs": []
    },
    {
      "cell_type": "code",
      "source": [
        "correlation_coefficient"
      ],
      "metadata": {
        "id": "3aexjEeap995",
        "colab": {
          "base_uri": "https://localhost:8080/"
        },
        "outputId": "9f521047-fe1d-4678-f2f5-408c48b4461d"
      },
      "execution_count": null,
      "outputs": [
        {
          "output_type": "execute_result",
          "data": {
            "text/plain": [
              "0.9990686343119035"
            ]
          },
          "metadata": {},
          "execution_count": 204
        }
      ]
    },
    {
      "cell_type": "code",
      "source": [
        "model.evaluate(x_test_scaled, y_test,batch_size=1, verbose=1)"
      ],
      "metadata": {
        "colab": {
          "base_uri": "https://localhost:8080/"
        },
        "id": "dzbk-WTgXgz6",
        "outputId": "3ee926f2-439a-4a0e-9240-e747e6464313"
      },
      "execution_count": null,
      "outputs": [
        {
          "output_type": "stream",
          "name": "stdout",
          "text": [
            "61/61 [==============================] - 0s 2ms/step - loss: 1.8169 - mean_squared_error: 12.8925\n"
          ]
        },
        {
          "output_type": "execute_result",
          "data": {
            "text/plain": [
              "[1.8168684244155884, 12.892489433288574]"
            ]
          },
          "metadata": {},
          "execution_count": 205
        }
      ]
    },
    {
      "cell_type": "code",
      "source": [
        "import matplotlib.pyplot as plt\n",
        "plt.plot(y_test.tolist())\n",
        "plt.plot(y_prediction)"
      ],
      "metadata": {
        "colab": {
          "base_uri": "https://localhost:8080/",
          "height": 282
        },
        "id": "la1LHPY_Xgz9",
        "outputId": "0b18b220-a137-4d6b-a061-9a3765c882a0"
      },
      "execution_count": null,
      "outputs": [
        {
          "output_type": "execute_result",
          "data": {
            "text/plain": [
              "[<matplotlib.lines.Line2D at 0x7f03a3dc6cd0>]"
            ]
          },
          "metadata": {},
          "execution_count": 206
        },
        {
          "output_type": "display_data",
          "data": {
            "text/plain": [
              "<Figure size 432x288 with 1 Axes>"
            ],
            "image/png": "[encoded data removed]"
          },
          "metadata": {
            "needs_background": "light"
          }
        }
      ]
    },
    {
      "cell_type": "code",
      "source": [
        "from keras.utils.vis_utils import plot_model\n",
        "plot_model(model, to_file='model_plot.png', show_shapes= True, show_layer_names=True)"
      ],
      "metadata": {
        "colab": {
          "base_uri": "https://localhost:8080/",
          "height": 754
        },
        "outputId": "06f83181-bb91-43ad-d8ac-6763015e54a2",
        "id": "EJd9nF9P48Lu"
      },
      "execution_count": null,
      "outputs": [
        {
          "output_type": "execute_result",
          "data": {
            "text/plain": [
              "<IPython.core.display.Image object>"
            ],
            "image/png": "[encoded data removed]"
          },
          "metadata": {},
          "execution_count": 207
        }
      ]
    },
    {
      "cell_type": "markdown",
      "source": [
        "#XG Boost Model"
      ],
      "metadata": {
        "id": "7tYGlnH-RUr9"
      }
    },
    {
      "cell_type": "code",
      "source": [
        "import xgboost"
      ],
      "metadata": {
        "id": "VIp67WMxuklU"
      },
      "execution_count": null,
      "outputs": []
    },
    {
      "cell_type": "code",
      "source": [
        "from sklearn.metrics import mean_squared_error as MSE"
      ],
      "metadata": {
        "id": "D_Xtoet4u__8"
      },
      "execution_count": null,
      "outputs": []
    },
    {
      "cell_type": "code",
      "source": [
        "model_1 = xgboost.XGBRegressor(objective ='reg:linear',n_estimators = 100, seed = 123)"
      ],
      "metadata": {
        "id": "Qm50dzgeuh42"
      },
      "execution_count": null,
      "outputs": []
    },
    {
      "cell_type": "code",
      "source": [
        "model_1.fit(x_train_scaled, y_train)"
      ],
      "metadata": {
        "colab": {
          "base_uri": "https://localhost:8080/"
        },
        "id": "h9SqCttdu9hs",
        "outputId": "b2975cc1-90e0-4370-8c24-e9fefbfdd735"
      },
      "execution_count": null,
      "outputs": [
        {
          "output_type": "stream",
          "name": "stdout",
          "text": [
            "[07:00:41] WARNING: /workspace/src/objective/regression_obj.cu:152: reg:linear is now deprecated in favor of reg:squarederror.\n"
          ]
        },
        {
          "output_type": "execute_result",
          "data": {
            "text/plain": [
              "XGBRegressor(seed=123)"
            ]
          },
          "metadata": {},
          "execution_count": 99
        }
      ]
    },
    {
      "cell_type": "code",
      "source": [
        "predicted_value = model_1.predict(x_test_scaled)"
      ],
      "metadata": {
        "id": "4Xjls3-zvgvZ"
      },
      "execution_count": null,
      "outputs": []
    },
    {
      "cell_type": "code",
      "source": [
        "rmse = np.sqrt(MSE(y_test, predicted_value))"
      ],
      "metadata": {
        "id": "wRcgpldzvsB3"
      },
      "execution_count": null,
      "outputs": []
    },
    {
      "cell_type": "code",
      "source": [
        "rmse"
      ],
      "metadata": {
        "id": "1GhYyq-Nv6Hd",
        "outputId": "b6673a62-bc07-417f-dfc5-04102145c2bc",
        "colab": {
          "base_uri": "https://localhost:8080/"
        }
      },
      "execution_count": null,
      "outputs": [
        {
          "output_type": "execute_result",
          "data": {
            "text/plain": [
              "0.9399646417901627"
            ]
          },
          "metadata": {},
          "execution_count": 102
        }
      ]
    },
    {
      "cell_type": "code",
      "source": [
        "cc = np.corrcoef(predicted_value,y_test).mean()"
      ],
      "metadata": {
        "id": "nPwtOJ9xv7Qb"
      },
      "execution_count": null,
      "outputs": []
    },
    {
      "cell_type": "code",
      "source": [
        "cc"
      ],
      "metadata": {
        "id": "zfw6et8Ww3Hb",
        "outputId": "92f2f93c-a923-431c-980c-0833423c7d21",
        "colab": {
          "base_uri": "https://localhost:8080/"
        }
      },
      "execution_count": null,
      "outputs": [
        {
          "output_type": "execute_result",
          "data": {
            "text/plain": [
              "0.9998760182166879"
            ]
          },
          "metadata": {},
          "execution_count": 104
        }
      ]
    },
    {
      "cell_type": "code",
      "source": [
        "plt.plot(y_test.tolist())\n",
        "plt.plot(predicted_value)"
      ],
      "metadata": {
        "colab": {
          "base_uri": "https://localhost:8080/",
          "height": 282
        },
        "id": "y_IaCfNHblvU",
        "outputId": "e8c7d65f-ac9e-4ee0-910b-47ac673683f1"
      },
      "execution_count": null,
      "outputs": [
        {
          "output_type": "execute_result",
          "data": {
            "text/plain": [
              "[<matplotlib.lines.Line2D at 0x7f03a66bebd0>]"
            ]
          },
          "metadata": {},
          "execution_count": 105
        },
        {
          "output_type": "display_data",
          "data": {
            "text/plain": [
              "<Figure size 432x288 with 1 Axes>"
            ],
            "image/png": "[encoded data removed]"
          },
          "metadata": {
            "needs_background": "light"
          }
        }
      ]
    },
    {
      "cell_type": "markdown",
      "source": [
        "#SVM Regressor"
      ],
      "metadata": {
        "id": "SPE7jwA9RtVd"
      }
    },
    {
      "cell_type": "code",
      "source": [
        "from sklearn.svm import SVR"
      ],
      "metadata": {
        "id": "XFh0wKssWA-k"
      },
      "execution_count": null,
      "outputs": []
    },
    {
      "cell_type": "code",
      "source": [
        "regressor = SVR(kernel = 'rbf')\n",
        "regressor.fit(x_train_scaled, y_train)"
      ],
      "metadata": {
        "colab": {
          "base_uri": "https://localhost:8080/"
        },
        "id": "wDd2XRu4WFJi",
        "outputId": "3bd3033b-84b5-432f-a045-f4a3f540e862"
      },
      "execution_count": null,
      "outputs": [
        {
          "output_type": "execute_result",
          "data": {
            "text/plain": [
              "SVR()"
            ]
          },
          "metadata": {},
          "execution_count": 107
        }
      ]
    },
    {
      "cell_type": "code",
      "source": [
        "y_pred = regressor.predict(x_test_scaled)"
      ],
      "metadata": {
        "id": "dVJgySzEWKqq"
      },
      "execution_count": null,
      "outputs": []
    },
    {
      "cell_type": "code",
      "source": [
        "correlation_coeff =  np.corrcoef(y_pred,y_test).mean()"
      ],
      "metadata": {
        "id": "u8fGpdULWYNv"
      },
      "execution_count": null,
      "outputs": []
    },
    {
      "cell_type": "code",
      "source": [
        "correlation_coeff"
      ],
      "metadata": {
        "colab": {
          "base_uri": "https://localhost:8080/"
        },
        "id": "nGIbqSGsWh1E",
        "outputId": "2999247d-ecb6-4a2c-82ef-5f45b158cc9d"
      },
      "execution_count": null,
      "outputs": [
        {
          "output_type": "execute_result",
          "data": {
            "text/plain": [
              "0.9824549360347229"
            ]
          },
          "metadata": {},
          "execution_count": 110
        }
      ]
    },
    {
      "cell_type": "code",
      "source": [
        "plt.plot(y_test.tolist())\n",
        "plt.plot(y_pred)"
      ],
      "metadata": {
        "colab": {
          "base_uri": "https://localhost:8080/",
          "height": 282
        },
        "id": "LJoX7Mlvb3QZ",
        "outputId": "174ca9cd-2cf1-477c-df9d-1bb002120adf"
      },
      "execution_count": null,
      "outputs": [
        {
          "output_type": "execute_result",
          "data": {
            "text/plain": [
              "[<matplotlib.lines.Line2D at 0x7f039ace8710>]"
            ]
          },
          "metadata": {},
          "execution_count": 111
        },
        {
          "output_type": "display_data",
          "data": {
            "text/plain": [
              "<Figure size 432x288 with 1 Axes>"
            ],
            "image/png": "[encoded data removed]"
          },
          "metadata": {
            "needs_background": "light"
          }
        }
      ]
    },
    {
      "cell_type": "code",
      "source": [
        "rmse_svm = np.sqrt(MSE(y_test, y_pred))"
      ],
      "metadata": {
        "id": "HQpIGdeCWj9i"
      },
      "execution_count": null,
      "outputs": []
    },
    {
      "cell_type": "code",
      "source": [
        "rmse"
      ],
      "metadata": {
        "colab": {
          "base_uri": "https://localhost:8080/"
        },
        "id": "1O4OKtSjWslj",
        "outputId": "c318f16f-1938-4962-d96a-fd00d50398cd"
      },
      "execution_count": null,
      "outputs": [
        {
          "output_type": "execute_result",
          "data": {
            "text/plain": [
              "0.9399646417901627"
            ]
          },
          "metadata": {},
          "execution_count": 113
        }
      ]
    },
    {
      "cell_type": "markdown",
      "source": [
        "#Random Forest Regressor"
      ],
      "metadata": {
        "id": "---HS7E4DCxf"
      }
    },
    {
      "cell_type": "code",
      "execution_count": null,
      "metadata": {
        "id": "UjnMvkr2CNGU"
      },
      "outputs": [],
      "source": [
        "from sklearn.linear_model import LinearRegression\n",
        "from sklearn.ensemble import RandomForestRegressor\n",
        "%matplotlib inline"
      ]
    },
    {
      "cell_type": "code",
      "execution_count": null,
      "metadata": {
        "id": "rz0czvAdCNGV",
        "outputId": "1c1cb10a-ae55-4934-e8c2-3cf847f91b66"
      },
      "outputs": [
        {
          "data": {
            "text/plain": [
              "[0.9998055620324772,\n",
              " 0.9998139258537272,\n",
              " 0.9998082961528209,\n",
              " 0.9998122652175434,\n",
              " 0.9998082974844581,\n",
              " 0.9998116575160507]"
            ]
          },
          "execution_count": 74,
          "metadata": {},
          "output_type": "execute_result"
        }
      ],
      "source": [
        "# Cross-validation to get optimal number of estimators\n",
        "correlation_coeff=[]\n",
        "for n in [50,100,200,300,400,500]:\n",
        "    RF = RandomForestRegressor(n_estimators=n, random_state=8)\n",
        "    RF.fit(x_train_scaled, y_train)\n",
        "    y_pred=RF.predict(x_test_scaled)\n",
        "    correlation_coeff.append(np.corrcoef(y_pred,y_test).mean())\n",
        "\n",
        "correlation_coeff    "
      ]
    },
    {
      "cell_type": "code",
      "execution_count": null,
      "metadata": {
        "id": "3jVx-HpCCNGW"
      },
      "outputs": [],
      "source": [
        "#Choosing 100 as the number of estimators as there isn't significant increase in correlation coefficient after that\n",
        "RF = RandomForestRegressor(n_estimators=100, random_state=8)"
      ]
    },
    {
      "cell_type": "code",
      "execution_count": null,
      "metadata": {
        "id": "EkLuzubJCNGW",
        "outputId": "bd4c97e6-43c1-4a21-dd0e-456bdcb27a27"
      },
      "outputs": [
        {
          "data": {
            "text/plain": [
              "RandomForestRegressor(random_state=8)"
            ]
          },
          "execution_count": 76,
          "metadata": {},
          "output_type": "execute_result"
        }
      ],
      "source": [
        "RF.fit(x_train_scaled, y_train)"
      ]
    },
    {
      "cell_type": "code",
      "execution_count": null,
      "metadata": {
        "id": "6_5-SkWRCNGX",
        "outputId": "95c94d73-34d8-4cc7-e4b3-13b63c84be9f"
      },
      "outputs": [
        {
          "data": {
            "text/plain": [
              "0.9992545987401801"
            ]
          },
          "execution_count": 77,
          "metadata": {},
          "output_type": "execute_result"
        }
      ],
      "source": [
        "RF.score(x_test_scaled,y_test)"
      ]
    },
    {
      "cell_type": "code",
      "execution_count": null,
      "metadata": {
        "id": "3SNkOsfICNGX",
        "outputId": "c3c21f6c-3a1c-42b1-abdf-db4eb88f53e1"
      },
      "outputs": [
        {
          "data": {
            "text/plain": [
              "array([102.94536484, 198.72516964, 212.10807849, 104.30601523,\n",
              "       241.04773575, 115.55308259, 236.06423778, 185.8609427 ,\n",
              "       145.53048347, 166.20608536, 109.1297629 , 183.1145327 ,\n",
              "       196.77000313, 109.25794054, 230.7654263 , 201.13154718,\n",
              "       229.53755556, 117.37386376, 189.50230159, 175.48398601,\n",
              "       158.04369799, 148.26139361, 154.4449298 , 148.07848636,\n",
              "       171.69061458, 185.86061165, 119.18227135, 120.95005369,\n",
              "       206.89035219, 204.99612724, 190.40546227, 186.60449745,\n",
              "       128.00959211, 188.8700996 , 130.75578693, 122.06658092,\n",
              "       126.84701352, 156.43354115, 145.92433066, 231.01372562,\n",
              "       161.13452921, 128.48016049, 195.07235671, 225.15320839,\n",
              "       112.21660067, 112.72395569, 179.3950294 , 130.73678407,\n",
              "       209.97340357, 210.24225498, 175.23552341, 120.17323166,\n",
              "       103.13634378, 139.06038538, 221.48820689, 140.88585347,\n",
              "       108.90035828, 191.41897364, 232.30830894, 119.23782594,\n",
              "       102.71320203])"
            ]
          },
          "execution_count": 78,
          "metadata": {},
          "output_type": "execute_result"
        }
      ],
      "source": [
        "y_pred=RF.predict(x_test_scaled)\n",
        "y_pred"
      ]
    },
    {
      "cell_type": "code",
      "execution_count": null,
      "metadata": {
        "scrolled": true,
        "id": "T_1fdPtLCNGY",
        "outputId": "1a7a216e-9b23-4953-b697-9795fc41a273"
      },
      "outputs": [
        {
          "data": {
            "text/plain": [
              "0.9998139258537272"
            ]
          },
          "execution_count": 79,
          "metadata": {},
          "output_type": "execute_result"
        }
      ],
      "source": [
        "correlation_coeff =  np.corrcoef(y_pred,y_test).mean()\n",
        "correlation_coeff"
      ]
    },
    {
      "cell_type": "code",
      "execution_count": null,
      "metadata": {
        "id": "LBJY4BKHCNGY",
        "outputId": "ab465f74-af05-4ddb-87a6-36829263dfaa"
      },
      "outputs": [
        {
          "data": {
            "text/plain": [
              "[<matplotlib.lines.Line2D at 0x198bb5c2160>]"
            ]
          },
          "execution_count": 80,
          "metadata": {},
          "output_type": "execute_result"
        },
        {
          "data": {
            "image/png": "[encoded data removed]",
            "text/plain": [
              "<Figure size 432x288 with 1 Axes>"
            ]
          },
          "metadata": {
            "needs_background": "light"
          },
          "output_type": "display_data"
        }
      ],
      "source": [
        "plt.plot(y_test.tolist())\n",
        "plt.plot(y_pred)"
      ]
    },
    {
      "cell_type": "code",
      "execution_count": null,
      "metadata": {
        "id": "nxh_SY2zCNGZ",
        "outputId": "a3186947-3e8e-4a27-95d3-ed6c1caf4485"
      },
      "outputs": [
        {
          "data": {
            "text/plain": [
              "1.1484409800599138"
            ]
          },
          "execution_count": 81,
          "metadata": {},
          "output_type": "execute_result"
        }
      ],
      "source": [
        "rmse_rf = np.sqrt(MSE(y_pred, y_test))\n",
        "rmse_rf"
      ]
    },
    {
      "cell_type": "markdown",
      "source": [
        "#K-Nearest Neighbors Regressor\n"
      ],
      "metadata": {
        "id": "xj6mkEn3DxqF"
      }
    },
    {
      "cell_type": "code",
      "execution_count": null,
      "metadata": {
        "id": "PsH5nllRCNGa"
      },
      "outputs": [],
      "source": [
        "from sklearn.neighbors import KNeighborsRegressor"
      ]
    },
    {
      "cell_type": "code",
      "execution_count": null,
      "metadata": {
        "id": "qDXuXu5JCNGb"
      },
      "outputs": [],
      "source": [
        "# Cross-Validation to get optimal k value\n",
        "correlation_coeff=[]\n",
        "for n in [1,2,3,4,5]:\n",
        "    knn = KNeighborsRegressor(n_neighbors=n)\n",
        "    knn.fit(x_train_scaled, y_train)\n",
        "    y_pred=knn.predict(x_test_scaled)\n",
        "    correlation_coeff.append(np.corrcoef(y_pred,y_test).mean())\n",
        "\n",
        "correlation_coeff    "
      ]
    },
    {
      "cell_type": "code",
      "execution_count": null,
      "metadata": {
        "id": "_r5TbeasCNGb",
        "outputId": "5f3fb07e-e124-4aaf-ff1a-6f5e0ff08b5d"
      },
      "outputs": [
        {
          "data": {
            "text/plain": [
              "KNeighborsRegressor(n_neighbors=2)"
            ]
          },
          "execution_count": 112,
          "metadata": {},
          "output_type": "execute_result"
        }
      ],
      "source": [
        "# Optimal k value chosen to be 2 as no significant improvement in correlation coeff is observed.\n",
        "knn_final = KNeighborsRegressor(n_neighbors=2)\n",
        "knn_final.fit(x_train_scaled, y_train)"
      ]
    },
    {
      "cell_type": "code",
      "execution_count": null,
      "metadata": {
        "id": "6E95BuhPCNGc",
        "outputId": "fd066d49-20cc-4cff-e7a8-1bee3b4078c1"
      },
      "outputs": [
        {
          "data": {
            "text/plain": [
              "array([104.53972938, 195.06427444, 212.857101  , 103.61897835,\n",
              "       231.63559896, 116.49651672, 230.90714606, 181.92806574,\n",
              "       146.06724452, 165.373264  , 107.87700412, 182.6120555 ,\n",
              "       196.99270552, 109.30786706, 230.90714606, 201.43111894,\n",
              "       229.26425622, 115.58487654, 193.14353936, 172.2361739 ,\n",
              "       157.41923268, 146.06724452, 156.65450592, 148.669607  ,\n",
              "       171.64625612, 183.30574918, 117.89390836, 120.33146486,\n",
              "       203.88680036, 204.82799448, 190.00419478, 188.4447237 ,\n",
              "       126.03260112, 188.25634754, 129.99226144, 121.97251328,\n",
              "       127.32467332, 156.23934794, 145.57286232, 231.63559896,\n",
              "       162.78150562, 130.88415834, 197.52566848, 221.09706838,\n",
              "       110.7147496 , 111.45093548, 177.74139144, 130.88415834,\n",
              "       206.77507406, 208.36711822, 171.91184524, 120.82650306,\n",
              "       104.62310258, 138.2161403 , 217.56115802, 138.0429998 ,\n",
              "       108.68974132, 193.74046358, 230.14359692, 118.13679858,\n",
              "       103.10485736])"
            ]
          },
          "execution_count": 113,
          "metadata": {},
          "output_type": "execute_result"
        }
      ],
      "source": [
        "y_pred"
      ]
    },
    {
      "cell_type": "code",
      "execution_count": null,
      "metadata": {
        "id": "EnXUZNltCNGc",
        "outputId": "4839df4f-84c8-4013-b7a5-b1618e771aab"
      },
      "outputs": [
        {
          "data": {
            "text/plain": [
              "0.9994981656858772"
            ]
          },
          "execution_count": 114,
          "metadata": {},
          "output_type": "execute_result"
        }
      ],
      "source": [
        "correlation_coeff =  np.corrcoef(y_pred,y_test).mean()\n",
        "correlation_coeff"
      ]
    },
    {
      "cell_type": "code",
      "execution_count": null,
      "metadata": {
        "id": "vxf69_28CNGd",
        "outputId": "8a406e81-655a-4eed-a4be-bd4f23b3f743"
      },
      "outputs": [
        {
          "data": {
            "text/plain": [
              "[<matplotlib.lines.Line2D at 0x198bc78e7c0>]"
            ]
          },
          "execution_count": 115,
          "metadata": {},
          "output_type": "execute_result"
        },
        {
          "data": {
            "image/png": "[encoded data removed]",
            "text/plain": [
              "<Figure size 432x288 with 1 Axes>"
            ]
          },
          "metadata": {
            "needs_background": "light"
          },
          "output_type": "display_data"
        }
      ],
      "source": [
        "plt.plot(y_test.tolist())\n",
        "plt.plot(y_pred)"
      ]
    },
    {
      "cell_type": "code",
      "execution_count": null,
      "metadata": {
        "id": "23QGjM7gCNGd",
        "outputId": "c030dca6-80c2-49c1-c91b-3ac68a963dae"
      },
      "outputs": [
        {
          "data": {
            "text/plain": [
              "2.167152243435395"
            ]
          },
          "execution_count": 116,
          "metadata": {},
          "output_type": "execute_result"
        }
      ],
      "source": [
        "rmse_knn = np.sqrt(MSE(y_test, y_pred))\n",
        "rmse_knn"
      ]
    }
  ]
}